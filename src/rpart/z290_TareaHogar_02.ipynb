{
 "cells": [
  {
   "cell_type": "markdown",
   "metadata": {
    "id": "F3r8aa3pBigj"
   },
   "source": [
    "# Tarea para el Hogar 02"
   ]
  },
  {
   "cell_type": "markdown",
   "metadata": {
    "id": "nBm4ktHUBmZt"
   },
   "source": [
    "Esta Tarea para el Hogar 02 se entrega el final de la segunda clase\n",
    "<br> se espera de usted que intente avanzar con los desafios propuestos y que los traiga terminados para la Clase 03, ya que se analizarán los resultados"
   ]
  },
  {
   "cell_type": "markdown",
   "metadata": {
    "id": "TK-M04ElCESC"
   },
   "source": [
    "##  1. Ensembles de Modelos"
   ]
  },
  {
   "cell_type": "markdown",
   "metadata": {
    "id": "biPYxgobCOSS"
   },
   "source": [
    "Vea el siguiente video [BBC - The Code - The Wisdom of the Crowd](https://www.youtube.com/watch?v=iOucwX7Z1HU)    ( 5 min)\n"
   ]
  },
  {
   "cell_type": "markdown",
   "metadata": {
    "id": "FBszBRyNCcjp"
   },
   "source": [
    "Lea los siguientes artículos\n",
    "\n",
    "\n",
    "*   [The Wisdom of Crowds (Vox Populi) by Francis Galton](https://www.all-about-psychology.com/the-wisdom-of-crowds.html)  (10 min)\n",
    "*   [A Gentle Introduction to Ensemble Learning](https://machinelearningmastery.com/what-is-ensemble-learning/)  (10 min)\n",
    "\n"
   ]
  },
  {
   "cell_type": "markdown",
   "metadata": {
    "id": "x7SebtV2lpHQ"
   },
   "source": [
    "\n",
    "\n",
    "---\n",
    "\n"
   ]
  },
  {
   "cell_type": "markdown",
   "metadata": {
    "id": "NQcY8u2MDSLT"
   },
   "source": [
    "##  2.  Zero2Hero   primera parte\n",
    "Se han lanzado los primeros fascículos coleccionables llamados \"from Zero to Hero\" que muy detalladamente, paso a paso enseñan todo lo necesario de R para entender los scripts oficiales de la asignatura.\n",
    "Están en el repositorio oficial de la asignatura, carpeta  **src/zero2hero**"
   ]
  },
  {
   "cell_type": "markdown",
   "metadata": {
    "id": "GcO0OSiIEAGy"
   },
   "source": [
    "\n",
    "\n",
    "---\n",
    "\n"
   ]
  },
  {
   "cell_type": "markdown",
   "metadata": {
    "id": "6MStcyn0EBdT"
   },
   "source": [
    "## 3.  Grid Search"
   ]
  },
  {
   "cell_type": "markdown",
   "metadata": {
    "id": "gM8RKXDgEIY0"
   },
   "source": [
    "Busque en internet el precido significado de los hiperparámetros de la librería **rpart**  que está implementando el algoritmo **CART**  Classification and Regression Trees  propuesto en el año 1984 por Leo Brieman:\n",
    "\n",
    "*   cp\n",
    "*   maxdepth\n",
    "*   minsplit\n",
    "*   minbucket\n",
    "\n",
    "Entienda que valores es razonable tome cada hiperparámetro,  en particular profundice en el hiperparámetro  **cp**  y la posibilidad que tome valores negativos.  Es válido consultar a su amigo de *capacidades especiales*  ChatGPT\n"
   ]
  },
  {
   "cell_type": "markdown",
   "metadata": {
    "id": "_k7eT3HIFy9y"
   },
   "source": [
    "En las siguientes celdas a un notebook incompleto, un esqueleto de codigo brindado a modo de facilitarle la tarea de codeo y permitir que su valiosa cognición se concentre temas conceptuales de Ciencia de Datos\n",
    "\n",
    "Modifiquelo agregando loops para que recorra TODOS los hiperparámetros de rpart  < cp, maxdepth, minsplit, minbucket >, y luego póngalo a correr. Recuerde cambiar por SU semilla\n",
    "Tenga muy presente la granularidad que eligirá para cada hiperparámetro."
   ]
  },
  {
   "cell_type": "markdown",
   "metadata": {
    "id": "kmLygy1TYPfg"
   },
   "source": [
    "### Seteo del ambiente en Google Colab"
   ]
  },
  {
   "cell_type": "markdown",
   "metadata": {
    "id": "OikOm5K2YU3X"
   },
   "source": [
    "Esta parte se debe correr con el runtime en Python3\n",
    "<br>Ir al menu, Runtime -> Change Runtime Tipe -> Runtime type ->  **Python 3**"
   ]
  },
  {
   "cell_type": "markdown",
   "metadata": {
    "id": "4fmV5LyZdFyI"
   },
   "source": [
    "Conectar la virtual machine donde esta corriendo Google Colab con el  Google Drive, para poder tener persistencia de archivos"
   ]
  },
  {
   "cell_type": "code",
   "execution_count": 1,
   "metadata": {
    "id": "ilEZ-bE2VybW"
   },
   "outputs": [
    {
     "ename": "ERROR",
     "evalue": "Error in parse(text = input): <text>:2:6: unexpected symbol\n1: # primero establecer el Runtime de Python 3\n2: from google.colab\n        ^\n",
     "output_type": "error",
     "traceback": [
      "Error in parse(text = input): <text>:2:6: unexpected symbol\n1: # primero establecer el Runtime de Python 3\n2: from google.colab\n        ^\nTraceback:\n"
     ]
    }
   ],
   "source": [
    "# primero establecer el Runtime de Python 3\n",
    "from google.colab import drive\n",
    "drive.mount('/content/.drive')"
   ]
  },
  {
   "cell_type": "markdown",
   "metadata": {
    "id": "ilaKtqWldeWg"
   },
   "source": [
    "Para correr la siguiente celda es fundamental en Arranque en Frio haber copiado el archivo kaggle.json al Google Drive, en la carpeta indicada en el instructivo\n",
    "\n",
    "<br>los siguientes comando estan en shell script de Linux\n",
    "*   Crear las carpetas en el Google Drive\n",
    "*   \"instalar\" el archivo kaggle.json desde el Google Drive a la virtual machine para que pueda ser utilizado por la libreria  kaggle de Python\n",
    "*   Bajar el  **dataset_pequeno**  al  Google Drive  y tambien al disco local de la virtual machine que esta corriendo Google Colab\n",
    "\n"
   ]
  },
  {
   "cell_type": "code",
   "execution_count": 2,
   "metadata": {
    "id": "W8dQFI5QYCFa"
   },
   "outputs": [
    {
     "ename": "ERROR",
     "evalue": "Error in parse(text = input): <text>:1:1: unexpected SPECIAL\n1: %%\n    ^\n",
     "output_type": "error",
     "traceback": [
      "Error in parse(text = input): <text>:1:1: unexpected SPECIAL\n1: %%\n    ^\nTraceback:\n"
     ]
    }
   ],
   "source": [
    "%%shell\n",
    "\n",
    "mkdir -p \"/content/.drive/My Drive/labo1\"\n",
    "mkdir -p \"/content/buckets\"\n",
    "ln -s \"/content/.drive/My Drive/labo1\" /content/buckets/b1\n",
    "\n",
    "mkdir -p ~/.kaggle\n",
    "cp /content/buckets/b1/kaggle/kaggle.json  ~/.kaggle\n",
    "chmod 600 ~/.kaggle/kaggle.json\n",
    "\n",
    "\n",
    "mkdir -p /content/buckets/b1/exp\n",
    "mkdir -p /content/buckets/b1/datasets\n",
    "mkdir -p /content/datasets\n",
    "\n",
    "\n",
    "\n",
    "archivo_origen=\"https://storage.googleapis.com/open-courses/austral2025-af91/dataset_pequeno.csv\"\n",
    "archivo_destino=\"/content/datasets/dataset_pequeno.csv\"\n",
    "archivo_destino_bucket=\"/content/buckets/b1/datasets/dataset_pequeno.csv\"\n",
    "\n",
    "if ! test -f $archivo_destino_bucket; then\n",
    "  wget  $archivo_origen  -O $archivo_destino_bucket\n",
    "fi\n",
    "\n",
    "\n",
    "if ! test -f $archivo_destino; then\n",
    "  cp  $archivo_destino_bucket  $archivo_destino\n",
    "fi\n",
    "\n"
   ]
  },
  {
   "cell_type": "markdown",
   "metadata": {
    "id": "SE94XRhWsxkX"
   },
   "source": [
    "limpio el ambiente de R"
   ]
  },
  {
   "cell_type": "code",
   "execution_count": 30,
   "metadata": {
    "id": "oZG_4br6szlT"
   },
   "outputs": [
    {
     "data": {
      "text/html": [
       "<table class=\"dataframe\">\n",
       "<caption>A matrix: 2 × 6 of type dbl</caption>\n",
       "<thead>\n",
       "\t<tr><th></th><th scope=col>used</th><th scope=col>(Mb)</th><th scope=col>gc trigger</th><th scope=col>(Mb)</th><th scope=col>max used</th><th scope=col>(Mb)</th></tr>\n",
       "</thead>\n",
       "<tbody>\n",
       "\t<tr><th scope=row>Ncells</th><td> 807748</td><td>43.2</td><td> 1439408</td><td> 76.9</td><td>  1439408</td><td> 76.9</td></tr>\n",
       "\t<tr><th scope=row>Vcells</th><td>1555895</td><td>11.9</td><td>93241594</td><td>711.4</td><td>122600135</td><td>935.4</td></tr>\n",
       "</tbody>\n",
       "</table>\n"
      ],
      "text/latex": [
       "A matrix: 2 × 6 of type dbl\n",
       "\\begin{tabular}{r|llllll}\n",
       "  & used & (Mb) & gc trigger & (Mb) & max used & (Mb)\\\\\n",
       "\\hline\n",
       "\tNcells &  807748 & 43.2 &  1439408 &  76.9 &   1439408 &  76.9\\\\\n",
       "\tVcells & 1555895 & 11.9 & 93241594 & 711.4 & 122600135 & 935.4\\\\\n",
       "\\end{tabular}\n"
      ],
      "text/markdown": [
       "\n",
       "A matrix: 2 × 6 of type dbl\n",
       "\n",
       "| <!--/--> | used | (Mb) | gc trigger | (Mb) | max used | (Mb) |\n",
       "|---|---|---|---|---|---|---|\n",
       "| Ncells |  807748 | 43.2 |  1439408 |  76.9 |   1439408 |  76.9 |\n",
       "| Vcells | 1555895 | 11.9 | 93241594 | 711.4 | 122600135 | 935.4 |\n",
       "\n"
      ],
      "text/plain": [
       "       used    (Mb) gc trigger (Mb)  max used  (Mb) \n",
       "Ncells  807748 43.2  1439408    76.9   1439408  76.9\n",
       "Vcells 1555895 11.9 93241594   711.4 122600135 935.4"
      ]
     },
     "metadata": {},
     "output_type": "display_data"
    }
   ],
   "source": [
    "# limpio la memoria\n",
    "rm(list=ls(all.names=TRUE)) # remove all objects\n",
    "gc(full=TRUE, verbose=FALSE) # garbage collection"
   ]
  },
  {
   "cell_type": "code",
   "execution_count": 31,
   "metadata": {
    "id": "JO-12d7YHkWy"
   },
   "outputs": [],
   "source": [
    "# cargo las librerias que necesito\n",
    "require(\"data.table\")\n",
    "require(\"rpart\")\n",
    "require(\"parallel\")\n",
    "if (!require(\"primes\")) install.packages(\"primes\")\n",
    "require(\"primes\")"
   ]
  },
  {
   "cell_type": "markdown",
   "metadata": {
    "id": "0MclPEJ6Q8Bp"
   },
   "source": [
    "Aqui debe poner SU semiila primigenia"
   ]
  },
  {
   "cell_type": "code",
   "execution_count": 32,
   "metadata": {
    "id": "Vt5fC6bWHu5r"
   },
   "outputs": [],
   "source": [
    "PARAM <- list()\n",
    "# reemplazar por su primer semilla\n",
    "PARAM$semilla_primigenia <- 100613\n",
    "PARAM$qsemillas <- 1\n",
    "\n",
    "PARAM$training_pct <- 70L  # entre  1L y 99L\n",
    "\n",
    "# elegir SU dataset comentando/ descomentando\n",
    "PARAM$dataset_nom <- \"~/datasets/dataset_pequeno.csv\""
   ]
  },
  {
   "cell_type": "code",
   "execution_count": 33,
   "metadata": {
    "id": "Z1dchsrWH4MD"
   },
   "outputs": [],
   "source": [
    "# particionar agrega una columna llamada fold a un dataset\n",
    "#  que consiste en una particion estratificada segun agrupa\n",
    "# particionar( data=dataset, division=c(70,30), agrupa=clase_ternaria, seed=semilla)\n",
    "#   crea una particion 70, 30\n",
    "\n",
    "particionar <- function(data, division, agrupa = \"\", campo = \"fold\", start = 1, seed = NA) {\n",
    "  if (!is.na(seed)) set.seed(seed)\n",
    "\n",
    "  bloque <- unlist(mapply(function(x, y) {\n",
    "    rep(y, x)\n",
    "  }, division, seq(from = start, length.out = length(division))))\n",
    "\n",
    "  data[, (campo) := sample(rep(bloque, ceiling(.N / length(bloque))))[1:.N],\n",
    "    by = agrupa\n",
    "  ]\n",
    "}\n"
   ]
  },
  {
   "cell_type": "code",
   "execution_count": 34,
   "metadata": {
    "id": "xsHwS1CzIA70"
   },
   "outputs": [],
   "source": [
    "ArbolEstimarGanancia <- function(semilla, training_pct, param_basicos) {\n",
    "  # particiono estratificadamente el dataset\n",
    "  particionar(dataset,\n",
    "    division = c(training_pct, 100L -training_pct),\n",
    "    agrupa = \"clase_ternaria\",\n",
    "    seed = semilla # aqui se usa SU semilla\n",
    "  )\n",
    "\n",
    "  # genero el modelo\n",
    "  # predecir clase_ternaria a partir del resto\n",
    "  modelo <- rpart(\"clase_ternaria ~ .\",\n",
    "    data = dataset[fold == 1], # fold==1  es training,  el 70% de los datos\n",
    "    xval = 0,\n",
    "    control = param_basicos\n",
    "  ) # aqui van los parametros del arbol\n",
    "\n",
    "  # aplico el modelo a los datos de testing\n",
    "  prediccion <- predict(modelo, # el modelo que genere recien\n",
    "    dataset[fold == 2], # fold==2  es testing, el 30% de los datos\n",
    "    type = \"prob\"\n",
    "  ) # type= \"prob\"  es que devuelva la probabilidad\n",
    "\n",
    "  # prediccion es una matriz con TRES columnas,\n",
    "  #  llamadas \"BAJA+1\", \"BAJA+2\"  y \"CONTINUA\"\n",
    "  # cada columna es el vector de probabilidades\n",
    "\n",
    "\n",
    "  # calculo la ganancia en testing  qu es fold==2\n",
    "  ganancia_test <- dataset[\n",
    "    fold == 2,\n",
    "    sum(ifelse(prediccion[, \"BAJA+2\"] > 0.025,\n",
    "      ifelse(clase_ternaria == \"BAJA+2\", 117000, -3000),\n",
    "      0\n",
    "    ))\n",
    "  ]\n",
    "\n",
    "  # escalo la ganancia como si fuera todo el dataset\n",
    "  ganancia_test_normalizada <- ganancia_test / (( 100 - PARAM$training_pct ) / 100 )\n",
    "\n",
    "  return(\n",
    "    c( list(\"semilla\" = semilla),\n",
    "      param_basicos,\n",
    "      list( \"ganancia_test\" = ganancia_test_normalizada )\n",
    "     )\n",
    "  )\n",
    "}\n"
   ]
  },
  {
   "cell_type": "code",
   "execution_count": 35,
   "metadata": {
    "id": "BvBVOuhqIEjD"
   },
   "outputs": [],
   "source": [
    "ArbolesMontecarlo <- function(semillas, param_basicos) {\n",
    "\n",
    "  # la funcion mcmapply  llama a la funcion ArbolEstimarGanancia\n",
    "  #  tantas veces como valores tenga el vector  PARAM$semillas\n",
    "  salida <- mcmapply(ArbolEstimarGanancia,\n",
    "    semillas, # paso el vector de semillas\n",
    "    MoreArgs = list(PARAM$training_pct, param_basicos), # aqui paso el segundo parametro\n",
    "    SIMPLIFY = FALSE,\n",
    "    mc.cores = detectCores()\n",
    "  )\n",
    "\n",
    "  return(salida)\n",
    "}\n"
   ]
  },
  {
   "cell_type": "code",
   "execution_count": 36,
   "metadata": {
    "id": "L-DOGHOjIG7G"
   },
   "outputs": [],
   "source": [
    "# carpeta de trabajo\n",
    "# por fabor cambiar numero de experimento si se cambia el loop principal\n",
    "setwd(\"/content/buckets/b1/exp\")\n",
    "experimento <- \"HT2902\"\n",
    "dir.create(experimento, showWarnings=FALSE)\n",
    "setwd( paste0(\"/content/buckets/b1/exp/\", experimento ))"
   ]
  },
  {
   "cell_type": "code",
   "execution_count": 37,
   "metadata": {
    "id": "NM-mrLWcIPo6"
   },
   "outputs": [],
   "source": [
    "# lectura del dataset\n",
    "dataset <- fread(\"/content/datasets/dataset_pequeno.csv\")\n",
    "\n",
    "# trabajo solo con los datos con clase, es decir 202107\n",
    "dataset <- dataset[clase_ternaria != \"\"]"
   ]
  },
  {
   "cell_type": "code",
   "execution_count": 38,
   "metadata": {
    "id": "tSlY0EcgIWdi"
   },
   "outputs": [],
   "source": [
    "\n",
    "# genero numeros primos\n",
    "primos <- generate_primes(min = 100000, max = 1000000)\n",
    "set.seed(PARAM$semilla_primigenia) # inicializo\n",
    "# me quedo con PARAM$qsemillas   semillas\n",
    "PARAM$semillas <- sample(primos, PARAM$qsemillas )\n"
   ]
  },
  {
   "cell_type": "code",
   "execution_count": 39,
   "metadata": {
    "id": "xxCAwIKyIaTl"
   },
   "outputs": [
    {
     "data": {
      "text/html": [
       "0"
      ],
      "text/latex": [
       "0"
      ],
      "text/markdown": [
       "0"
      ],
      "text/plain": [
       "[1] 0"
      ]
     },
     "metadata": {},
     "output_type": "display_data"
    }
   ],
   "source": [
    "# genero la data.table donde van los resultados detallados del Grid Search\n",
    "# un registro para cada combinacion de < semilla, parametros >\n",
    "\n",
    "if(file.exists(\"gridsearch_detalle.txt\")){\n",
    "  tb_grid_search_detalle <- fread(\"gridsearch_detalle.txt\")\n",
    "}else{\n",
    "  tb_grid_search_detalle <- data.table(\n",
    "    semilla = integer(),\n",
    "    cp = numeric(),\n",
    "    maxdepth = integer(),\n",
    "   minsplit = integer(),\n",
    "    minbucket = integer(),\n",
    "    ganancia_test = numeric()\n",
    "  )\n",
    "}\n",
    "\n",
    "nrow( tb_grid_search_detalle )"
   ]
  },
  {
   "cell_type": "markdown",
   "metadata": {
    "id": "eAuGBNL8IkOD"
   },
   "source": [
    "Esta es la parte del código que usted debe expandir a TODOS los hiperparámetros de rpart,\n",
    "<br>ya que actualmente apenas recorre  maxdepth y  minsplit  dejando fijos  cp=-0.5  y minbucket=5"
   ]
  },
  {
   "cell_type": "code",
   "execution_count": 40,
   "metadata": {
    "id": "ipLHm3STIfmb"
   },
   "outputs": [
    {
     "name": "stdout",
     "output_type": "stream",
     "text": [
      "1  2  3  4  5  6  7  8  9  10  11  12  13  14  15  16  17  18  19  20  21  22  23  24  25  26  27  28  29  30  31  32  33  34  35  36  37  38  39  40  41  42  43  44  45  46  47  48  49  50  51  52  53  54  55  56  57  58  59  60  61  62  63  64  65  66  67  68  69  70  71  72  73  74  75  76  77  78  79  80  81  82  83  84  85  86  87  88  89  90  91  92  93  94  95  96  97  98  99  100  101  102  103  104  105  106  107  108  109  110  111  112  113  114  115  116  117  118  119  120  121  122  123  124  125  126  "
     ]
    }
   ],
   "source": [
    "grid_cp       <- c(-0.3)\n",
    "grid_maxdepth <- c(5, 6, 7)\n",
    "grid_minsplit <- c(525, 500, 475, 400, 325, 300, 275)\n",
    "fractions_mb  <- c(0.15, 0.2, 0.25, 0.4, 0.45, 0.50)\n",
    "\n",
    "# itero por los loops anidados para cada hiperparametro\n",
    "iter <- 0L\n",
    "\n",
    "for (vcp in grid_cp) {\n",
    "  for (vmax_depth in grid_maxdepth) {\n",
    "    for (vmin_split in grid_minsplit) {\n",
    "\n",
    "      mb_seq <- unique(as.integer(floor(fractions_mb * vmin_split)))\n",
    "\n",
    "      for (vmin_bucket in mb_seq) {\n",
    "        iter <- iter + 1L\n",
    "        cat(iter, \" \"); flush.console()\n",
    "\n",
    "        if (iter * PARAM$qsemillas < nrow(tb_grid_search_detalle) + 1L) next\n",
    "\n",
    "        # Parámetros del árbol: usar los valores del grid actual\n",
    "        param_basicos <- list(\n",
    "          cp        = vcp,          # complejidad \n",
    "          maxdepth  = vmax_depth,   # profundidad máxima del arbol\n",
    "          minsplit  = vmin_split,   # tamaño minimo de nodo para hacer split\n",
    "          minbucket = vmin_bucket   # minima cantidad de registros en una hoja\n",
    "        )\n",
    "\n",
    "        # Monte Carlo sobre las semillas definidas\n",
    "        ganancias <- ArbolesMontecarlo(PARAM$semillas, param_basicos)\n",
    "\n",
    "        # agrego a la tabla \n",
    "        tb_grid_search_detalle <- rbindlist(\n",
    "          list(tb_grid_search_detalle, rbindlist(ganancias)),\n",
    "        )\n",
    "      } # fin loop minbucket\n",
    "\n",
    "    } # fin loop minsplit\n",
    "\n",
    "  } # fin loop maxdepth\n",
    "\n",
    "   fwrite(tb_grid_search_detalle, file=\"gridsearch_detalle.txt\", sep=\"\\t\")\n",
    "\n",
    "} # fin loop cp\n",
    "\n",
    "   \n"
   ]
  },
  {
   "cell_type": "code",
   "execution_count": 41,
   "metadata": {
    "id": "WZaSqYBxiDFu"
   },
   "outputs": [],
   "source": [
    "fwrite( tb_grid_search_detalle,\n",
    "   file = \"gridsearch_detalle.txt\",\n",
    "   sep = \"\\t\"\n",
    ")"
   ]
  },
  {
   "cell_type": "code",
   "execution_count": 42,
   "metadata": {
    "id": "STp0duM-RYVJ"
   },
   "outputs": [
    {
     "data": {
      "text/html": [
       "126"
      ],
      "text/latex": [
       "126"
      ],
      "text/markdown": [
       "126"
      ],
      "text/plain": [
       "[1] 126"
      ]
     },
     "metadata": {},
     "output_type": "display_data"
    }
   ],
   "source": [
    "# cantidad de registros de la tabla\n",
    "nrow(tb_grid_search_detalle)"
   ]
  },
  {
   "cell_type": "code",
   "execution_count": 43,
   "metadata": {
    "id": "k7fhk_H0iNez"
   },
   "outputs": [
    {
     "data": {
      "text/html": [
       "<table class=\"dataframe\">\n",
       "<caption>A data.table: 126 × 6</caption>\n",
       "<thead>\n",
       "\t<tr><th scope=col>semilla</th><th scope=col>cp</th><th scope=col>maxdepth</th><th scope=col>minsplit</th><th scope=col>minbucket</th><th scope=col>ganancia_test</th></tr>\n",
       "\t<tr><th scope=col>&lt;int&gt;</th><th scope=col>&lt;dbl&gt;</th><th scope=col>&lt;dbl&gt;</th><th scope=col>&lt;dbl&gt;</th><th scope=col>&lt;int&gt;</th><th scope=col>&lt;dbl&gt;</th></tr>\n",
       "</thead>\n",
       "<tbody>\n",
       "\t<tr><td>598931</td><td>-0.3</td><td>5</td><td>525</td><td> 78</td><td>49530000</td></tr>\n",
       "\t<tr><td>598931</td><td>-0.3</td><td>5</td><td>525</td><td>105</td><td>48830000</td></tr>\n",
       "\t<tr><td>598931</td><td>-0.3</td><td>5</td><td>525</td><td>131</td><td>49160000</td></tr>\n",
       "\t<tr><td>598931</td><td>-0.3</td><td>5</td><td>525</td><td>210</td><td>50730000</td></tr>\n",
       "\t<tr><td>598931</td><td>-0.3</td><td>5</td><td>525</td><td>236</td><td>50730000</td></tr>\n",
       "\t<tr><td>598931</td><td>-0.3</td><td>5</td><td>525</td><td>262</td><td>50870000</td></tr>\n",
       "\t<tr><td>598931</td><td>-0.3</td><td>5</td><td>500</td><td> 75</td><td>49530000</td></tr>\n",
       "\t<tr><td>598931</td><td>-0.3</td><td>5</td><td>500</td><td>100</td><td>48800000</td></tr>\n",
       "\t<tr><td>598931</td><td>-0.3</td><td>5</td><td>500</td><td>125</td><td>48270000</td></tr>\n",
       "\t<tr><td>598931</td><td>-0.3</td><td>5</td><td>500</td><td>200</td><td>50770000</td></tr>\n",
       "\t<tr><td>598931</td><td>-0.3</td><td>5</td><td>500</td><td>225</td><td>50730000</td></tr>\n",
       "\t<tr><td>598931</td><td>-0.3</td><td>5</td><td>500</td><td>250</td><td>50870000</td></tr>\n",
       "\t<tr><td>598931</td><td>-0.3</td><td>5</td><td>475</td><td> 71</td><td>49530000</td></tr>\n",
       "\t<tr><td>598931</td><td>-0.3</td><td>5</td><td>475</td><td> 95</td><td>48800000</td></tr>\n",
       "\t<tr><td>598931</td><td>-0.3</td><td>5</td><td>475</td><td>118</td><td>48440000</td></tr>\n",
       "\t<tr><td>598931</td><td>-0.3</td><td>5</td><td>475</td><td>190</td><td>50320000</td></tr>\n",
       "\t<tr><td>598931</td><td>-0.3</td><td>5</td><td>475</td><td>213</td><td>50730000</td></tr>\n",
       "\t<tr><td>598931</td><td>-0.3</td><td>5</td><td>475</td><td>237</td><td>50730000</td></tr>\n",
       "\t<tr><td>598931</td><td>-0.3</td><td>5</td><td>400</td><td> 60</td><td>49530000</td></tr>\n",
       "\t<tr><td>598931</td><td>-0.3</td><td>5</td><td>400</td><td> 80</td><td>49530000</td></tr>\n",
       "\t<tr><td>598931</td><td>-0.3</td><td>5</td><td>400</td><td>100</td><td>48800000</td></tr>\n",
       "\t<tr><td>598931</td><td>-0.3</td><td>5</td><td>400</td><td>160</td><td>50190000</td></tr>\n",
       "\t<tr><td>598931</td><td>-0.3</td><td>5</td><td>400</td><td>180</td><td>50320000</td></tr>\n",
       "\t<tr><td>598931</td><td>-0.3</td><td>5</td><td>400</td><td>200</td><td>50770000</td></tr>\n",
       "\t<tr><td>598931</td><td>-0.3</td><td>5</td><td>325</td><td> 48</td><td>49530000</td></tr>\n",
       "\t<tr><td>598931</td><td>-0.3</td><td>5</td><td>325</td><td> 65</td><td>49530000</td></tr>\n",
       "\t<tr><td>598931</td><td>-0.3</td><td>5</td><td>325</td><td> 81</td><td>49530000</td></tr>\n",
       "\t<tr><td>598931</td><td>-0.3</td><td>5</td><td>325</td><td>130</td><td>48240000</td></tr>\n",
       "\t<tr><td>598931</td><td>-0.3</td><td>5</td><td>325</td><td>146</td><td>49930000</td></tr>\n",
       "\t<tr><td>598931</td><td>-0.3</td><td>5</td><td>325</td><td>162</td><td>50190000</td></tr>\n",
       "\t<tr><td>⋮</td><td>⋮</td><td>⋮</td><td>⋮</td><td>⋮</td><td>⋮</td></tr>\n",
       "\t<tr><td>598931</td><td>-0.3</td><td>7</td><td>475</td><td> 71</td><td>49840000</td></tr>\n",
       "\t<tr><td>598931</td><td>-0.3</td><td>7</td><td>475</td><td> 95</td><td>48690000</td></tr>\n",
       "\t<tr><td>598931</td><td>-0.3</td><td>7</td><td>475</td><td>118</td><td>45860000</td></tr>\n",
       "\t<tr><td>598931</td><td>-0.3</td><td>7</td><td>475</td><td>190</td><td>51450000</td></tr>\n",
       "\t<tr><td>598931</td><td>-0.3</td><td>7</td><td>475</td><td>213</td><td>52620000</td></tr>\n",
       "\t<tr><td>598931</td><td>-0.3</td><td>7</td><td>475</td><td>237</td><td>52250000</td></tr>\n",
       "\t<tr><td>598931</td><td>-0.3</td><td>7</td><td>400</td><td> 60</td><td>49860000</td></tr>\n",
       "\t<tr><td>598931</td><td>-0.3</td><td>7</td><td>400</td><td> 80</td><td>50570000</td></tr>\n",
       "\t<tr><td>598931</td><td>-0.3</td><td>7</td><td>400</td><td>100</td><td>49110000</td></tr>\n",
       "\t<tr><td>598931</td><td>-0.3</td><td>7</td><td>400</td><td>160</td><td>48540000</td></tr>\n",
       "\t<tr><td>598931</td><td>-0.3</td><td>7</td><td>400</td><td>180</td><td>51450000</td></tr>\n",
       "\t<tr><td>598931</td><td>-0.3</td><td>7</td><td>400</td><td>200</td><td>51560000</td></tr>\n",
       "\t<tr><td>598931</td><td>-0.3</td><td>7</td><td>325</td><td> 48</td><td>50050000</td></tr>\n",
       "\t<tr><td>598931</td><td>-0.3</td><td>7</td><td>325</td><td> 65</td><td>50300000</td></tr>\n",
       "\t<tr><td>598931</td><td>-0.3</td><td>7</td><td>325</td><td> 81</td><td>50890000</td></tr>\n",
       "\t<tr><td>598931</td><td>-0.3</td><td>7</td><td>325</td><td>130</td><td>47510000</td></tr>\n",
       "\t<tr><td>598931</td><td>-0.3</td><td>7</td><td>325</td><td>146</td><td>49220000</td></tr>\n",
       "\t<tr><td>598931</td><td>-0.3</td><td>7</td><td>325</td><td>162</td><td>48480000</td></tr>\n",
       "\t<tr><td>598931</td><td>-0.3</td><td>7</td><td>300</td><td> 45</td><td>50340000</td></tr>\n",
       "\t<tr><td>598931</td><td>-0.3</td><td>7</td><td>300</td><td> 60</td><td>50560000</td></tr>\n",
       "\t<tr><td>598931</td><td>-0.3</td><td>7</td><td>300</td><td> 75</td><td>50980000</td></tr>\n",
       "\t<tr><td>598931</td><td>-0.3</td><td>7</td><td>300</td><td>120</td><td>46860000</td></tr>\n",
       "\t<tr><td>598931</td><td>-0.3</td><td>7</td><td>300</td><td>135</td><td>48250000</td></tr>\n",
       "\t<tr><td>598931</td><td>-0.3</td><td>7</td><td>300</td><td>150</td><td>49220000</td></tr>\n",
       "\t<tr><td>598931</td><td>-0.3</td><td>7</td><td>275</td><td> 41</td><td>50340000</td></tr>\n",
       "\t<tr><td>598931</td><td>-0.3</td><td>7</td><td>275</td><td> 55</td><td>50500000</td></tr>\n",
       "\t<tr><td>598931</td><td>-0.3</td><td>7</td><td>275</td><td> 68</td><td>49860000</td></tr>\n",
       "\t<tr><td>598931</td><td>-0.3</td><td>7</td><td>275</td><td>110</td><td>49310000</td></tr>\n",
       "\t<tr><td>598931</td><td>-0.3</td><td>7</td><td>275</td><td>123</td><td>47110000</td></tr>\n",
       "\t<tr><td>598931</td><td>-0.3</td><td>7</td><td>275</td><td>137</td><td>48250000</td></tr>\n",
       "</tbody>\n",
       "</table>\n"
      ],
      "text/latex": [
       "A data.table: 126 × 6\n",
       "\\begin{tabular}{llllll}\n",
       " semilla & cp & maxdepth & minsplit & minbucket & ganancia\\_test\\\\\n",
       " <int> & <dbl> & <dbl> & <dbl> & <int> & <dbl>\\\\\n",
       "\\hline\n",
       "\t 598931 & -0.3 & 5 & 525 &  78 & 49530000\\\\\n",
       "\t 598931 & -0.3 & 5 & 525 & 105 & 48830000\\\\\n",
       "\t 598931 & -0.3 & 5 & 525 & 131 & 49160000\\\\\n",
       "\t 598931 & -0.3 & 5 & 525 & 210 & 50730000\\\\\n",
       "\t 598931 & -0.3 & 5 & 525 & 236 & 50730000\\\\\n",
       "\t 598931 & -0.3 & 5 & 525 & 262 & 50870000\\\\\n",
       "\t 598931 & -0.3 & 5 & 500 &  75 & 49530000\\\\\n",
       "\t 598931 & -0.3 & 5 & 500 & 100 & 48800000\\\\\n",
       "\t 598931 & -0.3 & 5 & 500 & 125 & 48270000\\\\\n",
       "\t 598931 & -0.3 & 5 & 500 & 200 & 50770000\\\\\n",
       "\t 598931 & -0.3 & 5 & 500 & 225 & 50730000\\\\\n",
       "\t 598931 & -0.3 & 5 & 500 & 250 & 50870000\\\\\n",
       "\t 598931 & -0.3 & 5 & 475 &  71 & 49530000\\\\\n",
       "\t 598931 & -0.3 & 5 & 475 &  95 & 48800000\\\\\n",
       "\t 598931 & -0.3 & 5 & 475 & 118 & 48440000\\\\\n",
       "\t 598931 & -0.3 & 5 & 475 & 190 & 50320000\\\\\n",
       "\t 598931 & -0.3 & 5 & 475 & 213 & 50730000\\\\\n",
       "\t 598931 & -0.3 & 5 & 475 & 237 & 50730000\\\\\n",
       "\t 598931 & -0.3 & 5 & 400 &  60 & 49530000\\\\\n",
       "\t 598931 & -0.3 & 5 & 400 &  80 & 49530000\\\\\n",
       "\t 598931 & -0.3 & 5 & 400 & 100 & 48800000\\\\\n",
       "\t 598931 & -0.3 & 5 & 400 & 160 & 50190000\\\\\n",
       "\t 598931 & -0.3 & 5 & 400 & 180 & 50320000\\\\\n",
       "\t 598931 & -0.3 & 5 & 400 & 200 & 50770000\\\\\n",
       "\t 598931 & -0.3 & 5 & 325 &  48 & 49530000\\\\\n",
       "\t 598931 & -0.3 & 5 & 325 &  65 & 49530000\\\\\n",
       "\t 598931 & -0.3 & 5 & 325 &  81 & 49530000\\\\\n",
       "\t 598931 & -0.3 & 5 & 325 & 130 & 48240000\\\\\n",
       "\t 598931 & -0.3 & 5 & 325 & 146 & 49930000\\\\\n",
       "\t 598931 & -0.3 & 5 & 325 & 162 & 50190000\\\\\n",
       "\t ⋮ & ⋮ & ⋮ & ⋮ & ⋮ & ⋮\\\\\n",
       "\t 598931 & -0.3 & 7 & 475 &  71 & 49840000\\\\\n",
       "\t 598931 & -0.3 & 7 & 475 &  95 & 48690000\\\\\n",
       "\t 598931 & -0.3 & 7 & 475 & 118 & 45860000\\\\\n",
       "\t 598931 & -0.3 & 7 & 475 & 190 & 51450000\\\\\n",
       "\t 598931 & -0.3 & 7 & 475 & 213 & 52620000\\\\\n",
       "\t 598931 & -0.3 & 7 & 475 & 237 & 52250000\\\\\n",
       "\t 598931 & -0.3 & 7 & 400 &  60 & 49860000\\\\\n",
       "\t 598931 & -0.3 & 7 & 400 &  80 & 50570000\\\\\n",
       "\t 598931 & -0.3 & 7 & 400 & 100 & 49110000\\\\\n",
       "\t 598931 & -0.3 & 7 & 400 & 160 & 48540000\\\\\n",
       "\t 598931 & -0.3 & 7 & 400 & 180 & 51450000\\\\\n",
       "\t 598931 & -0.3 & 7 & 400 & 200 & 51560000\\\\\n",
       "\t 598931 & -0.3 & 7 & 325 &  48 & 50050000\\\\\n",
       "\t 598931 & -0.3 & 7 & 325 &  65 & 50300000\\\\\n",
       "\t 598931 & -0.3 & 7 & 325 &  81 & 50890000\\\\\n",
       "\t 598931 & -0.3 & 7 & 325 & 130 & 47510000\\\\\n",
       "\t 598931 & -0.3 & 7 & 325 & 146 & 49220000\\\\\n",
       "\t 598931 & -0.3 & 7 & 325 & 162 & 48480000\\\\\n",
       "\t 598931 & -0.3 & 7 & 300 &  45 & 50340000\\\\\n",
       "\t 598931 & -0.3 & 7 & 300 &  60 & 50560000\\\\\n",
       "\t 598931 & -0.3 & 7 & 300 &  75 & 50980000\\\\\n",
       "\t 598931 & -0.3 & 7 & 300 & 120 & 46860000\\\\\n",
       "\t 598931 & -0.3 & 7 & 300 & 135 & 48250000\\\\\n",
       "\t 598931 & -0.3 & 7 & 300 & 150 & 49220000\\\\\n",
       "\t 598931 & -0.3 & 7 & 275 &  41 & 50340000\\\\\n",
       "\t 598931 & -0.3 & 7 & 275 &  55 & 50500000\\\\\n",
       "\t 598931 & -0.3 & 7 & 275 &  68 & 49860000\\\\\n",
       "\t 598931 & -0.3 & 7 & 275 & 110 & 49310000\\\\\n",
       "\t 598931 & -0.3 & 7 & 275 & 123 & 47110000\\\\\n",
       "\t 598931 & -0.3 & 7 & 275 & 137 & 48250000\\\\\n",
       "\\end{tabular}\n"
      ],
      "text/markdown": [
       "\n",
       "A data.table: 126 × 6\n",
       "\n",
       "| semilla &lt;int&gt; | cp &lt;dbl&gt; | maxdepth &lt;dbl&gt; | minsplit &lt;dbl&gt; | minbucket &lt;int&gt; | ganancia_test &lt;dbl&gt; |\n",
       "|---|---|---|---|---|---|\n",
       "| 598931 | -0.3 | 5 | 525 |  78 | 49530000 |\n",
       "| 598931 | -0.3 | 5 | 525 | 105 | 48830000 |\n",
       "| 598931 | -0.3 | 5 | 525 | 131 | 49160000 |\n",
       "| 598931 | -0.3 | 5 | 525 | 210 | 50730000 |\n",
       "| 598931 | -0.3 | 5 | 525 | 236 | 50730000 |\n",
       "| 598931 | -0.3 | 5 | 525 | 262 | 50870000 |\n",
       "| 598931 | -0.3 | 5 | 500 |  75 | 49530000 |\n",
       "| 598931 | -0.3 | 5 | 500 | 100 | 48800000 |\n",
       "| 598931 | -0.3 | 5 | 500 | 125 | 48270000 |\n",
       "| 598931 | -0.3 | 5 | 500 | 200 | 50770000 |\n",
       "| 598931 | -0.3 | 5 | 500 | 225 | 50730000 |\n",
       "| 598931 | -0.3 | 5 | 500 | 250 | 50870000 |\n",
       "| 598931 | -0.3 | 5 | 475 |  71 | 49530000 |\n",
       "| 598931 | -0.3 | 5 | 475 |  95 | 48800000 |\n",
       "| 598931 | -0.3 | 5 | 475 | 118 | 48440000 |\n",
       "| 598931 | -0.3 | 5 | 475 | 190 | 50320000 |\n",
       "| 598931 | -0.3 | 5 | 475 | 213 | 50730000 |\n",
       "| 598931 | -0.3 | 5 | 475 | 237 | 50730000 |\n",
       "| 598931 | -0.3 | 5 | 400 |  60 | 49530000 |\n",
       "| 598931 | -0.3 | 5 | 400 |  80 | 49530000 |\n",
       "| 598931 | -0.3 | 5 | 400 | 100 | 48800000 |\n",
       "| 598931 | -0.3 | 5 | 400 | 160 | 50190000 |\n",
       "| 598931 | -0.3 | 5 | 400 | 180 | 50320000 |\n",
       "| 598931 | -0.3 | 5 | 400 | 200 | 50770000 |\n",
       "| 598931 | -0.3 | 5 | 325 |  48 | 49530000 |\n",
       "| 598931 | -0.3 | 5 | 325 |  65 | 49530000 |\n",
       "| 598931 | -0.3 | 5 | 325 |  81 | 49530000 |\n",
       "| 598931 | -0.3 | 5 | 325 | 130 | 48240000 |\n",
       "| 598931 | -0.3 | 5 | 325 | 146 | 49930000 |\n",
       "| 598931 | -0.3 | 5 | 325 | 162 | 50190000 |\n",
       "| ⋮ | ⋮ | ⋮ | ⋮ | ⋮ | ⋮ |\n",
       "| 598931 | -0.3 | 7 | 475 |  71 | 49840000 |\n",
       "| 598931 | -0.3 | 7 | 475 |  95 | 48690000 |\n",
       "| 598931 | -0.3 | 7 | 475 | 118 | 45860000 |\n",
       "| 598931 | -0.3 | 7 | 475 | 190 | 51450000 |\n",
       "| 598931 | -0.3 | 7 | 475 | 213 | 52620000 |\n",
       "| 598931 | -0.3 | 7 | 475 | 237 | 52250000 |\n",
       "| 598931 | -0.3 | 7 | 400 |  60 | 49860000 |\n",
       "| 598931 | -0.3 | 7 | 400 |  80 | 50570000 |\n",
       "| 598931 | -0.3 | 7 | 400 | 100 | 49110000 |\n",
       "| 598931 | -0.3 | 7 | 400 | 160 | 48540000 |\n",
       "| 598931 | -0.3 | 7 | 400 | 180 | 51450000 |\n",
       "| 598931 | -0.3 | 7 | 400 | 200 | 51560000 |\n",
       "| 598931 | -0.3 | 7 | 325 |  48 | 50050000 |\n",
       "| 598931 | -0.3 | 7 | 325 |  65 | 50300000 |\n",
       "| 598931 | -0.3 | 7 | 325 |  81 | 50890000 |\n",
       "| 598931 | -0.3 | 7 | 325 | 130 | 47510000 |\n",
       "| 598931 | -0.3 | 7 | 325 | 146 | 49220000 |\n",
       "| 598931 | -0.3 | 7 | 325 | 162 | 48480000 |\n",
       "| 598931 | -0.3 | 7 | 300 |  45 | 50340000 |\n",
       "| 598931 | -0.3 | 7 | 300 |  60 | 50560000 |\n",
       "| 598931 | -0.3 | 7 | 300 |  75 | 50980000 |\n",
       "| 598931 | -0.3 | 7 | 300 | 120 | 46860000 |\n",
       "| 598931 | -0.3 | 7 | 300 | 135 | 48250000 |\n",
       "| 598931 | -0.3 | 7 | 300 | 150 | 49220000 |\n",
       "| 598931 | -0.3 | 7 | 275 |  41 | 50340000 |\n",
       "| 598931 | -0.3 | 7 | 275 |  55 | 50500000 |\n",
       "| 598931 | -0.3 | 7 | 275 |  68 | 49860000 |\n",
       "| 598931 | -0.3 | 7 | 275 | 110 | 49310000 |\n",
       "| 598931 | -0.3 | 7 | 275 | 123 | 47110000 |\n",
       "| 598931 | -0.3 | 7 | 275 | 137 | 48250000 |\n",
       "\n"
      ],
      "text/plain": [
       "    semilla cp   maxdepth minsplit minbucket ganancia_test\n",
       "1   598931  -0.3 5        525       78       49530000     \n",
       "2   598931  -0.3 5        525      105       48830000     \n",
       "3   598931  -0.3 5        525      131       49160000     \n",
       "4   598931  -0.3 5        525      210       50730000     \n",
       "5   598931  -0.3 5        525      236       50730000     \n",
       "6   598931  -0.3 5        525      262       50870000     \n",
       "7   598931  -0.3 5        500       75       49530000     \n",
       "8   598931  -0.3 5        500      100       48800000     \n",
       "9   598931  -0.3 5        500      125       48270000     \n",
       "10  598931  -0.3 5        500      200       50770000     \n",
       "11  598931  -0.3 5        500      225       50730000     \n",
       "12  598931  -0.3 5        500      250       50870000     \n",
       "13  598931  -0.3 5        475       71       49530000     \n",
       "14  598931  -0.3 5        475       95       48800000     \n",
       "15  598931  -0.3 5        475      118       48440000     \n",
       "16  598931  -0.3 5        475      190       50320000     \n",
       "17  598931  -0.3 5        475      213       50730000     \n",
       "18  598931  -0.3 5        475      237       50730000     \n",
       "19  598931  -0.3 5        400       60       49530000     \n",
       "20  598931  -0.3 5        400       80       49530000     \n",
       "21  598931  -0.3 5        400      100       48800000     \n",
       "22  598931  -0.3 5        400      160       50190000     \n",
       "23  598931  -0.3 5        400      180       50320000     \n",
       "24  598931  -0.3 5        400      200       50770000     \n",
       "25  598931  -0.3 5        325       48       49530000     \n",
       "26  598931  -0.3 5        325       65       49530000     \n",
       "27  598931  -0.3 5        325       81       49530000     \n",
       "28  598931  -0.3 5        325      130       48240000     \n",
       "29  598931  -0.3 5        325      146       49930000     \n",
       "30  598931  -0.3 5        325      162       50190000     \n",
       "⋮   ⋮       ⋮    ⋮        ⋮        ⋮         ⋮            \n",
       "97  598931  -0.3 7        475       71       49840000     \n",
       "98  598931  -0.3 7        475       95       48690000     \n",
       "99  598931  -0.3 7        475      118       45860000     \n",
       "100 598931  -0.3 7        475      190       51450000     \n",
       "101 598931  -0.3 7        475      213       52620000     \n",
       "102 598931  -0.3 7        475      237       52250000     \n",
       "103 598931  -0.3 7        400       60       49860000     \n",
       "104 598931  -0.3 7        400       80       50570000     \n",
       "105 598931  -0.3 7        400      100       49110000     \n",
       "106 598931  -0.3 7        400      160       48540000     \n",
       "107 598931  -0.3 7        400      180       51450000     \n",
       "108 598931  -0.3 7        400      200       51560000     \n",
       "109 598931  -0.3 7        325       48       50050000     \n",
       "110 598931  -0.3 7        325       65       50300000     \n",
       "111 598931  -0.3 7        325       81       50890000     \n",
       "112 598931  -0.3 7        325      130       47510000     \n",
       "113 598931  -0.3 7        325      146       49220000     \n",
       "114 598931  -0.3 7        325      162       48480000     \n",
       "115 598931  -0.3 7        300       45       50340000     \n",
       "116 598931  -0.3 7        300       60       50560000     \n",
       "117 598931  -0.3 7        300       75       50980000     \n",
       "118 598931  -0.3 7        300      120       46860000     \n",
       "119 598931  -0.3 7        300      135       48250000     \n",
       "120 598931  -0.3 7        300      150       49220000     \n",
       "121 598931  -0.3 7        275       41       50340000     \n",
       "122 598931  -0.3 7        275       55       50500000     \n",
       "123 598931  -0.3 7        275       68       49860000     \n",
       "124 598931  -0.3 7        275      110       49310000     \n",
       "125 598931  -0.3 7        275      123       47110000     \n",
       "126 598931  -0.3 7        275      137       48250000     "
      ]
     },
     "metadata": {},
     "output_type": "display_data"
    }
   ],
   "source": [
    "# muestro la tabla\n",
    "tb_grid_search_detalle"
   ]
  },
  {
   "cell_type": "code",
   "execution_count": 44,
   "metadata": {
    "id": "DjCxtx8bIsgl"
   },
   "outputs": [],
   "source": [
    "# genero y grabo el resumen\n",
    "tb_grid_search <- tb_grid_search_detalle[,\n",
    "  list( \"ganancia_mean\" = mean(ganancia_test),\n",
    "    \"qty\" = .N ),\n",
    "  list( cp, maxdepth, minsplit, minbucket )\n",
    "]\n"
   ]
  },
  {
   "cell_type": "code",
   "execution_count": 45,
   "metadata": {
    "id": "LU29UhL1Ivg5"
   },
   "outputs": [],
   "source": [
    "# ordeno descendente por ganancia\n",
    "setorder( tb_grid_search, -ganancia_mean )\n"
   ]
  },
  {
   "cell_type": "code",
   "execution_count": 46,
   "metadata": {
    "id": "g-EjGY7aIyWL"
   },
   "outputs": [
    {
     "data": {
      "text/html": [
       "<table class=\"dataframe\">\n",
       "<caption>A data.table: 10 × 6</caption>\n",
       "<thead>\n",
       "\t<tr><th scope=col>cp</th><th scope=col>maxdepth</th><th scope=col>minsplit</th><th scope=col>minbucket</th><th scope=col>ganancia_mean</th><th scope=col>qty</th></tr>\n",
       "\t<tr><th scope=col>&lt;dbl&gt;</th><th scope=col>&lt;dbl&gt;</th><th scope=col>&lt;dbl&gt;</th><th scope=col>&lt;int&gt;</th><th scope=col>&lt;dbl&gt;</th><th scope=col>&lt;int&gt;</th></tr>\n",
       "</thead>\n",
       "<tbody>\n",
       "\t<tr><td>-0.3</td><td>7</td><td>475</td><td>213</td><td>52620000</td><td>1</td></tr>\n",
       "\t<tr><td>-0.3</td><td>6</td><td>525</td><td>262</td><td>52470000</td><td>1</td></tr>\n",
       "\t<tr><td>-0.3</td><td>6</td><td>500</td><td>250</td><td>52470000</td><td>1</td></tr>\n",
       "\t<tr><td>-0.3</td><td>7</td><td>475</td><td>237</td><td>52250000</td><td>1</td></tr>\n",
       "\t<tr><td>-0.3</td><td>6</td><td>400</td><td>200</td><td>52150000</td><td>1</td></tr>\n",
       "\t<tr><td>-0.3</td><td>6</td><td>325</td><td> 48</td><td>52100000</td><td>1</td></tr>\n",
       "\t<tr><td>-0.3</td><td>6</td><td>300</td><td> 45</td><td>52100000</td><td>1</td></tr>\n",
       "\t<tr><td>-0.3</td><td>6</td><td>300</td><td> 60</td><td>52100000</td><td>1</td></tr>\n",
       "\t<tr><td>-0.3</td><td>6</td><td>275</td><td> 41</td><td>52100000</td><td>1</td></tr>\n",
       "\t<tr><td>-0.3</td><td>6</td><td>275</td><td> 55</td><td>52100000</td><td>1</td></tr>\n",
       "</tbody>\n",
       "</table>\n"
      ],
      "text/latex": [
       "A data.table: 10 × 6\n",
       "\\begin{tabular}{llllll}\n",
       " cp & maxdepth & minsplit & minbucket & ganancia\\_mean & qty\\\\\n",
       " <dbl> & <dbl> & <dbl> & <int> & <dbl> & <int>\\\\\n",
       "\\hline\n",
       "\t -0.3 & 7 & 475 & 213 & 52620000 & 1\\\\\n",
       "\t -0.3 & 6 & 525 & 262 & 52470000 & 1\\\\\n",
       "\t -0.3 & 6 & 500 & 250 & 52470000 & 1\\\\\n",
       "\t -0.3 & 7 & 475 & 237 & 52250000 & 1\\\\\n",
       "\t -0.3 & 6 & 400 & 200 & 52150000 & 1\\\\\n",
       "\t -0.3 & 6 & 325 &  48 & 52100000 & 1\\\\\n",
       "\t -0.3 & 6 & 300 &  45 & 52100000 & 1\\\\\n",
       "\t -0.3 & 6 & 300 &  60 & 52100000 & 1\\\\\n",
       "\t -0.3 & 6 & 275 &  41 & 52100000 & 1\\\\\n",
       "\t -0.3 & 6 & 275 &  55 & 52100000 & 1\\\\\n",
       "\\end{tabular}\n"
      ],
      "text/markdown": [
       "\n",
       "A data.table: 10 × 6\n",
       "\n",
       "| cp &lt;dbl&gt; | maxdepth &lt;dbl&gt; | minsplit &lt;dbl&gt; | minbucket &lt;int&gt; | ganancia_mean &lt;dbl&gt; | qty &lt;int&gt; |\n",
       "|---|---|---|---|---|---|\n",
       "| -0.3 | 7 | 475 | 213 | 52620000 | 1 |\n",
       "| -0.3 | 6 | 525 | 262 | 52470000 | 1 |\n",
       "| -0.3 | 6 | 500 | 250 | 52470000 | 1 |\n",
       "| -0.3 | 7 | 475 | 237 | 52250000 | 1 |\n",
       "| -0.3 | 6 | 400 | 200 | 52150000 | 1 |\n",
       "| -0.3 | 6 | 325 |  48 | 52100000 | 1 |\n",
       "| -0.3 | 6 | 300 |  45 | 52100000 | 1 |\n",
       "| -0.3 | 6 | 300 |  60 | 52100000 | 1 |\n",
       "| -0.3 | 6 | 275 |  41 | 52100000 | 1 |\n",
       "| -0.3 | 6 | 275 |  55 | 52100000 | 1 |\n",
       "\n"
      ],
      "text/plain": [
       "   cp   maxdepth minsplit minbucket ganancia_mean qty\n",
       "1  -0.3 7        475      213       52620000      1  \n",
       "2  -0.3 6        525      262       52470000      1  \n",
       "3  -0.3 6        500      250       52470000      1  \n",
       "4  -0.3 7        475      237       52250000      1  \n",
       "5  -0.3 6        400      200       52150000      1  \n",
       "6  -0.3 6        325       48       52100000      1  \n",
       "7  -0.3 6        300       45       52100000      1  \n",
       "8  -0.3 6        300       60       52100000      1  \n",
       "9  -0.3 6        275       41       52100000      1  \n",
       "10 -0.3 6        275       55       52100000      1  "
      ]
     },
     "metadata": {},
     "output_type": "display_data"
    }
   ],
   "source": [
    "# veo los 10 mejores hiperparámetros\n",
    "tb_grid_search[1:10]"
   ]
  },
  {
   "cell_type": "code",
   "execution_count": 47,
   "metadata": {
    "id": "K3S-I2PTI5ZE"
   },
   "outputs": [],
   "source": [
    "# genero un id a la tabla\n",
    "tb_grid_search[, id := .I ]\n",
    "\n",
    "fwrite( tb_grid_search,\n",
    "  file = \"gridsearch.txt\",\n",
    "  sep = \"\\t\"\n",
    ")\n"
   ]
  },
  {
   "cell_type": "markdown",
   "metadata": {
    "id": "1rYHk1YkI_9k"
   },
   "source": [
    "# 4.  Análisis de resultados de Grid Search"
   ]
  },
  {
   "cell_type": "markdown",
   "metadata": {
    "id": "ZTJgPhMWJHTk"
   },
   "source": [
    "La salida de la corrida anterior queda en ~/buckets/b1/exp/HT2900  que corresponde a su Google Drive\n",
    "<br>HT significa Hyperparameter Tuning\n",
    "<br>El Grid Search es un método de fuerza bruta de un altísimo costo computacional.\n",
    "<br>Queremos ver si es posible crear un algoritmo de optimización de hiperparámetros que se ahorre recorrer ciertas porciones muy malas del espacio de búsqueda. Algo del estilo “cada vez que pruebo una combinación de hiperparámetros donde  cp > 1 , la ganancia es muy mala, con lo cual ni vale la pena perder el tiempo explorando en esa region”\n"
   ]
  },
  {
   "cell_type": "markdown",
   "metadata": {
    "id": "IaVgMu4tPwyB"
   },
   "source": [
    "<br>Levante el archivo de salida gridsearch.txt  a una planilla tipo Excel y analícelo detenidamente\n",
    "<br>Ordene por ganancia_mean descendente\n",
    "<br>\n",
    "<br>El de mayor ganancia_mean  decimos que es el primero del ranking\n",
    "En Zulip, correspondiente channel  #Tarea Hogar 02 , topic Analisis Grid Search   intente contestar estas preguntas:\n",
    "\n",
    "* ¿Qué combinaciones de hiperparámetros poseen una ganancia muy buena?\n",
    "* ¿Hay algun hiperparámetro que para cierto valor siempre genera una ganancia muy mala, a independientemente de lo que valgan los otros hiperparámetros ?\n",
    "* ¿Que combinaciones de hiperparámetros es pésima y hubiera sido bueno ahorrarse esas corridas ?\n",
    "\n",
    "( tiempo estimado 30 minutos, dificultad media )"
   ]
  }
 ],
 "metadata": {
  "colab": {
   "provenance": []
  },
  "kernelspec": {
   "display_name": "R",
   "language": "R",
   "name": "ir"
  },
  "language_info": {
   "codemirror_mode": "r",
   "file_extension": ".r",
   "mimetype": "text/x-r-source",
   "name": "R",
   "pygments_lexer": "r",
   "version": "4.4.3"
  }
 },
 "nbformat": 4,
 "nbformat_minor": 4
}
