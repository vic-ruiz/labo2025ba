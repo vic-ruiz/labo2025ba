{
 "cells": [
  {
   "cell_type": "markdown",
   "metadata": {
    "id": "kgJ0E--L0n9s"
   },
   "source": [
    "# 4. Ensembles de Arboles de Decision"
   ]
  },
  {
   "cell_type": "markdown",
   "metadata": {
    "id": "PgLdmWznXWGZ"
   },
   "source": [
    "Un arbol de decisión es un modelo débil, el aumento del poder predictivo proviene al ensamblar varios arboles de decisión.\n",
    "<br> Si promedio n arboles identicos, el resultados es exactamente el mismo que utilizar un solo arbol, necesito PERTURBAR cada arbol para disponer de variablidad"
   ]
  },
  {
   "cell_type": "markdown",
   "metadata": {
    "id": "FTnxMEOqYRXZ"
   },
   "source": [
    "la variabilidad provendrá de estas fuentes:\n",
    "\n",
    "\n",
    "*   Perturbar el dataset\n",
    "*   Perturbar el algoritmo del arbol\n",
    "*   Perturbar el dataset y el algoritmo del arbol al mismo tiempo"
   ]
  },
  {
   "cell_type": "markdown",
   "metadata": {
    "id": "DHp1h9m-X7Rc"
   },
   "source": [
    "Se verán estos tres algoritmos\n",
    "\n",
    "\n",
    "*   Arboles Azarosos\n",
    "*   Random Forest\n",
    "*   Gradient Boosting of Decision Trees"
   ]
  },
  {
   "cell_type": "markdown",
   "metadata": {
    "id": "3m0ySYPfa7Zr"
   },
   "source": [
    "#### 4.01 Seteo del ambiente en Google Colab"
   ]
  },
  {
   "cell_type": "markdown",
   "metadata": {
    "id": "NGY7H9xza7Zr"
   },
   "source": [
    "Esta parte se debe correr con el runtime en Python3\n",
    "<br>Ir al menu, Runtime -> Change Runtime Type -> Runtime type ->  **Python 3**"
   ]
  },
  {
   "cell_type": "markdown",
   "metadata": {
    "id": "7PupIBNba7Zr"
   },
   "source": [
    "Conectar la virtual machine donde esta corriendo Google Colab con el  Google Drive, para poder tener persistencia de archivos"
   ]
  },
  {
   "cell_type": "code",
   "execution_count": null,
   "metadata": {
    "id": "9LpZCst5a7Zs"
   },
   "outputs": [],
   "source": [
    "# primero establecer el Runtime de Python 3\n",
    "from google.colab import drive\n",
    "drive.mount('/content/.drive')"
   ]
  },
  {
   "cell_type": "markdown",
   "metadata": {
    "id": "JYC_F-wla7Zs"
   },
   "source": [
    "Para correr la siguiente celda es fundamental en Arranque en Frio haber copiado el archivo kaggle.json al Google Drive, en la carpeta indicada en el instructivo\n",
    "\n",
    "<br>los siguientes comando estan en shell script de Linux\n",
    "*   Crear las carpetas en el Google Drive\n",
    "*   \"instalar\" el archivo kaggle.json desde el Google Drive a la virtual machine para que pueda ser utilizado por la libreria  kaggle de Python\n",
    "*   Bajar el  **dataset_pequeno**  al  Google Drive  y tambien al disco local de la virtual machine que esta corriendo Google Colab\n",
    "\n"
   ]
  },
  {
   "cell_type": "code",
   "execution_count": null,
   "metadata": {
    "id": "XWLelftXa7Zt"
   },
   "outputs": [],
   "source": [
    "%%shell\n",
    "\n",
    "mkdir -p \"/content/.drive/My Drive/labo1\"\n",
    "mkdir -p \"/content/buckets\"\n",
    "ln -s \"/content/.drive/My Drive/labo1\" /content/buckets/b1\n",
    "\n",
    "mkdir -p ~/.kaggle\n",
    "cp /content/buckets/b1/kaggle/kaggle.json  ~/.kaggle\n",
    "chmod 600 ~/.kaggle/kaggle.json\n",
    "\n",
    "\n",
    "mkdir -p /content/buckets/b1/exp\n",
    "mkdir -p /content/buckets/b1/datasets\n",
    "mkdir -p /content/datasets\n",
    "\n",
    "\n",
    "\n",
    "archivo_origen=\"https://storage.googleapis.com/open-courses/austral2025-af91/dataset_pequeno.csv\"\n",
    "archivo_destino=\"/content/datasets/dataset_pequeno.csv\"\n",
    "archivo_destino_bucket=\"/content/buckets/b1/datasets/dataset_pequeno.csv\"\n",
    "\n",
    "if ! test -f $archivo_destino_bucket; then\n",
    "  wget  $archivo_origen  -O $archivo_destino_bucket\n",
    "fi\n",
    "\n",
    "\n",
    "if ! test -f $archivo_destino; then\n",
    "  cp  $archivo_destino_bucket  $archivo_destino\n",
    "fi"
   ]
  },
  {
   "cell_type": "markdown",
   "metadata": {
    "id": "Pc9x9DnsNlZv"
   },
   "source": [
    "\n",
    "\n",
    "---\n",
    "\n"
   ]
  },
  {
   "cell_type": "markdown",
   "metadata": {
    "id": "qq0KVOtq1K5D"
   },
   "source": [
    "## 4.02 Arboles Azarosos"
   ]
  },
  {
   "cell_type": "markdown",
   "metadata": {
    "id": "HsNJjhlRo9jM"
   },
   "source": [
    "Arboles Azarosos es el nombre de un algoritmo trivial (por favor NO confundir con Random Forest)\n",
    "Qué tipo de perturbaciones se realizan en Arboles Azarosos\n",
    "* Se perturba el dataset\n",
    "* No se perturba el algoritmo, es siempre rpart original"
   ]
  },
  {
   "cell_type": "markdown",
   "metadata": {
    "id": "rq2HC28CpXBR"
   },
   "source": [
    "Cada  arbolito de  Arboles Azarosos se entrena sobre un dataset perturbado,  que tiene exactamente la misma cantidad de registros pero solo un subconjunto de los atributos (campos)  del dataset, tomados al azar, de los originales.\n",
    "<br> En esta primera corrida, se construira cada arbol en un dataset utilizando el 50% de los campos"
   ]
  },
  {
   "cell_type": "markdown",
   "metadata": {
    "id": "eSU5vi00CPRS"
   },
   "source": [
    "Esta parte se debe correr con el runtime en lenguaje **R** Ir al menu, Runtime -> Change Runtime Type -> Runtime type -> R"
   ]
  },
  {
   "cell_type": "markdown",
   "metadata": {
    "id": "Zq8dySimCPRT"
   },
   "source": [
    "limpio el ambiente de R"
   ]
  },
  {
   "cell_type": "code",
   "execution_count": 1,
   "metadata": {
    "id": "LrdtraBYJrsx"
   },
   "outputs": [
    {
     "data": {
      "text/html": [
       "'Sat Sep 20 12:21:38 2025'"
      ],
      "text/latex": [
       "'Sat Sep 20 12:21:38 2025'"
      ],
      "text/markdown": [
       "'Sat Sep 20 12:21:38 2025'"
      ],
      "text/plain": [
       "[1] \"Sat Sep 20 12:21:38 2025\""
      ]
     },
     "metadata": {},
     "output_type": "display_data"
    }
   ],
   "source": [
    "format(Sys.time(), \"%a %b %d %X %Y\")"
   ]
  },
  {
   "cell_type": "code",
   "execution_count": 2,
   "metadata": {
    "id": "1iE0U4_WCPRT"
   },
   "outputs": [
    {
     "data": {
      "text/html": [
       "<table class=\"dataframe\">\n",
       "<caption>A matrix: 2 × 6 of type dbl</caption>\n",
       "<thead>\n",
       "\t<tr><th></th><th scope=col>used</th><th scope=col>(Mb)</th><th scope=col>gc trigger</th><th scope=col>(Mb)</th><th scope=col>max used</th><th scope=col>(Mb)</th></tr>\n",
       "</thead>\n",
       "<tbody>\n",
       "\t<tr><th scope=row>Ncells</th><td> 657002</td><td>35.1</td><td>1439408</td><td>76.9</td><td>1431532</td><td>76.5</td></tr>\n",
       "\t<tr><th scope=row>Vcells</th><td>1225037</td><td> 9.4</td><td>8388608</td><td>64.0</td><td>1924969</td><td>14.7</td></tr>\n",
       "</tbody>\n",
       "</table>\n"
      ],
      "text/latex": [
       "A matrix: 2 × 6 of type dbl\n",
       "\\begin{tabular}{r|llllll}\n",
       "  & used & (Mb) & gc trigger & (Mb) & max used & (Mb)\\\\\n",
       "\\hline\n",
       "\tNcells &  657002 & 35.1 & 1439408 & 76.9 & 1431532 & 76.5\\\\\n",
       "\tVcells & 1225037 &  9.4 & 8388608 & 64.0 & 1924969 & 14.7\\\\\n",
       "\\end{tabular}\n"
      ],
      "text/markdown": [
       "\n",
       "A matrix: 2 × 6 of type dbl\n",
       "\n",
       "| <!--/--> | used | (Mb) | gc trigger | (Mb) | max used | (Mb) |\n",
       "|---|---|---|---|---|---|---|\n",
       "| Ncells |  657002 | 35.1 | 1439408 | 76.9 | 1431532 | 76.5 |\n",
       "| Vcells | 1225037 |  9.4 | 8388608 | 64.0 | 1924969 | 14.7 |\n",
       "\n"
      ],
      "text/plain": [
       "       used    (Mb) gc trigger (Mb) max used (Mb)\n",
       "Ncells  657002 35.1 1439408    76.9 1431532  76.5\n",
       "Vcells 1225037  9.4 8388608    64.0 1924969  14.7"
      ]
     },
     "metadata": {},
     "output_type": "display_data"
    }
   ],
   "source": [
    "# limpio la memoria\n",
    "rm(list=ls(all.names=TRUE)) # remove all objects\n",
    "gc(full=TRUE, verbose=FALSE) # garbage collection"
   ]
  },
  {
   "cell_type": "code",
   "execution_count": 3,
   "metadata": {
    "id": "BJDwdD0dCPRU"
   },
   "outputs": [
    {
     "name": "stderr",
     "output_type": "stream",
     "text": [
      "Loading required package: data.table\n",
      "\n",
      "Loading required package: rpart\n",
      "\n"
     ]
    }
   ],
   "source": [
    "# cargo las librerias que necesito\n",
    "require(\"data.table\")\n",
    "require(\"rpart\")"
   ]
  },
  {
   "cell_type": "markdown",
   "metadata": {
    "id": "M8-Pyp6CCPRU"
   },
   "source": [
    "Aqui debe cargar SU semilla primigenia"
   ]
  },
  {
   "cell_type": "code",
   "execution_count": 4,
   "metadata": {
    "id": "peRH7ySLCPRV"
   },
   "outputs": [],
   "source": [
    "PARAM <- list()\n",
    "PARAM$semilla_primigenia <- 100613\n",
    "\n",
    "# parametros  arbol\n",
    "# entreno cada arbol con solo 50% de las variables variables\n",
    "#  por ahora, es fijo\n",
    "PARAM$feature_fraction <- 0.5\n",
    "\n",
    "PARAM$rpart$cp <- -1\n",
    "PARAM$rpart$minsplit <- 50\n",
    "PARAM$rpart$minbucket <- 20\n",
    "PARAM$rpart$maxdepth <- 6\n",
    "\n",
    "# voy a generar 512 arboles,\n",
    "#  a mas arboles mas tiempo de proceso y MEJOR MODELO,\n",
    "#  pero ganancias marginales\n",
    "PARAM$num_trees_max <- 512"
   ]
  },
  {
   "cell_type": "code",
   "execution_count": 5,
   "metadata": {
    "id": "1gZD6ZMvCPRV"
   },
   "outputs": [],
   "source": [
    "# carpeta de trabajo\n",
    "setwd(\"/content/buckets/b1/exp\")\n",
    "experimento <- \"exp4020\"\n",
    "dir.create(experimento, showWarnings=FALSE)\n",
    "setwd( paste0(\"/content/buckets/b1/exp/\", experimento ))"
   ]
  },
  {
   "cell_type": "code",
   "execution_count": 6,
   "metadata": {
    "id": "Xi0emX2ECPRV"
   },
   "outputs": [],
   "source": [
    "# lectura del dataset\n",
    "dataset <- fread(\"/content/datasets/dataset_pequeno.csv\")"
   ]
  },
  {
   "cell_type": "code",
   "execution_count": 7,
   "metadata": {
    "id": "RA3cSJ6KaGwA"
   },
   "outputs": [],
   "source": [
    "# defino los dataset de entrenamiento y aplicacion\n",
    "dtrain <- dataset[foto_mes == 202107]\n",
    "dfuture <- dataset[foto_mes == 202109]\n",
    "\n",
    "# arreglo clase_ternaria por algun distraido \"\"\n",
    "dfuture[, clase_ternaria := NA ]"
   ]
  },
  {
   "cell_type": "code",
   "execution_count": 8,
   "metadata": {
    "id": "EByLkVMwaC8K"
   },
   "outputs": [],
   "source": [
    "# Establezco cuales son los campos que puedo usar para la prediccion\n",
    "# el copy() es por la Lazy Evaluation\n",
    "campos_buenos <- copy(setdiff(colnames(dtrain), c(\"clase_ternaria\")))"
   ]
  },
  {
   "cell_type": "code",
   "execution_count": 9,
   "metadata": {
    "id": "rHMrHwwpaB8D"
   },
   "outputs": [],
   "source": [
    "# que tamanos de ensemble grabo a disco\n",
    "grabar <- c(1, 2, 4, 8, 16, 32, 64, 128, 256, 384, 512)"
   ]
  },
  {
   "cell_type": "code",
   "execution_count": 10,
   "metadata": {
    "id": "bJHS2aeghw6I"
   },
   "outputs": [],
   "source": [
    "tb_prediccion <- dfuture[, list(numero_de_cliente)]\n",
    "# aqui se va acumulando la probabilidad del ensemble\n",
    "tb_prediccion[, prob_acumulada := 0]"
   ]
  },
  {
   "cell_type": "code",
   "execution_count": 11,
   "metadata": {
    "id": "H_DGUB_fhzHr"
   },
   "outputs": [],
   "source": [
    "set.seed(PARAM$semilla_primigenia) # Establezco la semilla aleatoria"
   ]
  },
  {
   "cell_type": "code",
   "execution_count": 12,
   "metadata": {
    "id": "j-xp2HQDhFmY"
   },
   "outputs": [
    {
     "name": "stderr",
     "output_type": "stream",
     "text": [
      "1 \n",
      "\n"
     ]
    },
    {
     "name": "stdout",
     "output_type": "stream",
     "text": [
      "Successfully submitted to LaboI 2025 BA analista sr"
     ]
    },
    {
     "name": "stderr",
     "output_type": "stream",
     "text": [
      "2 \n",
      "\n"
     ]
    },
    {
     "name": "stdout",
     "output_type": "stream",
     "text": [
      "Successfully submitted to LaboI 2025 BA analista sr"
     ]
    },
    {
     "name": "stderr",
     "output_type": "stream",
     "text": [
      "3 \n",
      "\n",
      "4 \n",
      "\n"
     ]
    },
    {
     "name": "stdout",
     "output_type": "stream",
     "text": [
      "Successfully submitted to LaboI 2025 BA analista sr"
     ]
    },
    {
     "name": "stderr",
     "output_type": "stream",
     "text": [
      "5 \n",
      "\n",
      "6 \n",
      "\n",
      "7 \n",
      "\n",
      "8 \n",
      "\n"
     ]
    },
    {
     "name": "stdout",
     "output_type": "stream",
     "text": [
      "Successfully submitted to LaboI 2025 BA analista sr"
     ]
    },
    {
     "name": "stderr",
     "output_type": "stream",
     "text": [
      "9 \n",
      "\n",
      "10 \n",
      "\n",
      "11 \n",
      "\n"
     ]
    }
   ],
   "source": [
    "for (arbolito in seq(PARAM$num_trees_max) ) {\n",
    "  message( arbolito, \" \")\n",
    "  qty_campos_a_utilizar <- as.integer(length(campos_buenos)\n",
    "    * PARAM$feature_fraction)\n",
    "\n",
    "  # elijo los campos al azar\n",
    "  campos_random <- sample(campos_buenos, qty_campos_a_utilizar)\n",
    "\n",
    "  # paso de un vector a un string con los elementos\n",
    "  # separados por un signo de \"+\"\n",
    "  # este hace falta para la formula\n",
    "  campos_random <- paste(campos_random, collapse= \" + \")\n",
    "\n",
    "  # armo la formula para rpart\n",
    "  formulita <- paste0(\"clase_ternaria ~ \", campos_random)\n",
    "\n",
    "  # genero el arbol de decision\n",
    "  modelo <- rpart(formulita,\n",
    "    data= dtrain,\n",
    "    xval= 0,\n",
    "    control= PARAM$rpart\n",
    "  )\n",
    "\n",
    "  # aplico el modelo a los datos que no tienen clase\n",
    "  prediccion <- predict(modelo, dfuture, type= \"prob\")\n",
    "\n",
    "  tb_prediccion[, prob_acumulada := prob_acumulada + prediccion[, \"BAJA+2\"]]\n",
    "\n",
    "  if (arbolito %in% grabar) {\n",
    "    umbral_corte <- (1 / 40) * arbolito\n",
    "    tb_prediccion[, Predicted := as.numeric(prob_acumulada > umbral_corte)]\n",
    "\n",
    "    archivo_kaggle <- paste0(\n",
    "        \"KA420_\",\n",
    "        sprintf(\"%.3d\", arbolito), # para que tenga ceros adelante\n",
    "        \".csv\"\n",
    "      )\n",
    "\n",
    "    # grabo el archivo\n",
    "    fwrite( tb_prediccion[, list(numero_de_cliente, Predicted)],\n",
    "      file= archivo_kaggle,\n",
    "      sep= \",\"\n",
    "    )\n",
    "\n",
    "    # subida a Kaggle\n",
    "    comando <- \"kaggle competitions submit\"\n",
    "    competencia <- \"-c labo-i-2025-ba-analista-sr\"\n",
    "    arch <- paste( \"-f\", archivo_kaggle)\n",
    "\n",
    "    mensaje <- paste0(\"-m 'cp=\", PARAM$rpart$cp, \"  minsplit=\", PARAM$rpart$minsplit, \"  minbucket=\", PARAM$rpart$minbucket, \" maxdepth=\", PARAM$rpart$maxdepth, \"'\" )\n",
    "    linea <- paste( comando, competencia, arch, mensaje)\n",
    "    salida <- system(linea, intern=TRUE)\n",
    "    cat(salida)\n",
    "  }\n",
    "}\n"
   ]
  },
  {
   "cell_type": "code",
   "execution_count": null,
   "metadata": {
    "id": "lgmvRHcfJpls"
   },
   "outputs": [],
   "source": [
    "format(Sys.time(), \"%a %b %d %X %Y\")"
   ]
  },
  {
   "cell_type": "markdown",
   "metadata": {
    "id": "UMr6Z1enOyd3"
   },
   "source": [
    "\n",
    "\n",
    "---\n",
    "\n"
   ]
  }
 ],
 "metadata": {
  "colab": {
   "provenance": []
  },
  "kernelspec": {
   "display_name": "R",
   "language": "R",
   "name": "ir"
  },
  "language_info": {
   "codemirror_mode": "r",
   "file_extension": ".r",
   "mimetype": "text/x-r-source",
   "name": "R",
   "pygments_lexer": "r",
   "version": "4.4.3"
  }
 },
 "nbformat": 4,
 "nbformat_minor": 4
}
