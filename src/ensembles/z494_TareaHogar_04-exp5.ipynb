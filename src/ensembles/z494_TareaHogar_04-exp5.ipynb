{
 "cells": [
  {
   "cell_type": "markdown",
   "metadata": {
    "id": "0cEmzeUKFkPh"
   },
   "source": [
    "# Tarea para el Hogar 04"
   ]
  },
  {
   "cell_type": "markdown",
   "metadata": {
    "id": "nSICPpyTGQmC"
   },
   "source": [
    "Esta Tarea para el Hogar 02 se entrega el final de la cuarta clase\n",
    "<br> se espera de usted que intente avanzar con los desafios propuestos y que los traiga terminados para la Clase 05 que será el miercoles 03 de septiembre"
   ]
  },
  {
   "cell_type": "markdown",
   "metadata": {
    "id": "DenyKXkiJ5JN"
   },
   "source": [
    "##  1. Overfitting the Public Leaderboard"
   ]
  },
  {
   "cell_type": "markdown",
   "metadata": {
    "id": "l-K2_ZsZGrVD"
   },
   "source": [
    "Leer  https://medium.com/hmif-itb/overfitting-the-leaderboard-da25172ac62e\n",
    "( 8 minutos )"
   ]
  },
  {
   "cell_type": "markdown",
   "metadata": {
    "id": "K9GkTOk5J9t3"
   },
   "source": [
    "## 2. Hiperparámetros del LightGBM"
   ]
  },
  {
   "cell_type": "markdown",
   "metadata": {
    "id": "VmEFy0ukKL5T"
   },
   "source": [
    "Los objetivos de esta tarea son:\n",
    "\n",
    "\n",
    "*   Aumentar la rentabilidad de la campaña de marketing de retención proactiva de clientes.\n",
    "*   Generar un mejor modelo optimizando sus hiperparámetros\n",
    "*   Conceptual : investigar los mas relevantes hiperparámetros de LightGBM\n",
    "*   Familiarizarse con la Bayesian Optimization, sus largos tiempos de corrida y opciones para reducirlos\n",
    "*   Familiarizarse con el uso de máquinas virtuales de Google Colab\n",
    "*   Ver un pipeline completo de optimización de hiperparámetros y puesta en producción"
   ]
  },
  {
   "cell_type": "markdown",
   "metadata": {
    "id": "5yvlS6JQLRMd"
   },
   "source": [
    "LightGBM cuenta con mas de 60 hiperparámetros, siendo posible utilizar 40 al mismo tiempo, aunque no razonable.\n",
    "<br> La documentación oficial de los hiperparámetros de LightGBM es  https://lightgbm.readthedocs.io/en/latest/Parameters.html#core-parameters\n"
   ]
  },
  {
   "cell_type": "markdown",
   "metadata": {
    "id": "eydI4YNAsFaf"
   },
   "source": [
    "Se lo alerta sobre que una Optimizacion Bayesiana lleva varias horas de corrida, y usted deberá correr VARIAS optimizaciones para descubrir cuales parámetros conviene optimizar.\n",
    "<br> A pesar que la próxima clase es recien en viernes 01 de agosto, inicie la tarea con tiempo, aprenda a planificar estratégicamente sus corridas como un@ científ@  de datos."
   ]
  },
  {
   "cell_type": "markdown",
   "metadata": {
    "id": "RzU4S0SeMcpp"
   },
   "source": [
    "Es necesario investigar cuales son los hiperparámetros de LightGBM que vale la pena optimizar en una Bayesian Optimization, ya que los realmente utiles son apenas un reducido subconjunto.\n",
    "<br>Usted deberá investigar cuales son los hiperparámetros mas relevantes de LightGBM, su primer alternativa es preguntándole a su amigo con capacidades especiales ChatGPT o sus endogámicos familiares Claude, DeepSeek, Gemini, Grok, etc\n",
    "<br> La segunda alternativa es la propia documentación de LightGBM  https://lightgbm.readthedocs.io/en/latest/Parameters-Tuning.html\n"
   ]
  },
  {
   "cell_type": "markdown",
   "metadata": {
    "id": "LNptUgI_NWWG"
   },
   "source": [
    "Adicionalmente podra buscar información como la que proveen esta diminuta muestra aleatoria de artículos ligeros:\n",
    "* https://machinelearningmastery.com/light-gradient-boosted-machine-lightgbm-ensemble/\n",
    "*  https://medium.com/@sarahzouinina/a-deep-dive-into-lightgbm-how-to-choose-and-tune-parameters-7c584945842e\n",
    "*  https://www.kaggle.com/code/somang1418/tuning-hyperparameters-under-10-minutes-lgbm\n",
    "*  https://towardsdatascience.com/beginners-guide-to-the-must-know-lightgbm-hyperparameters-a0005a812702/\n",
    "\n",
    "\n",
    "<br>  La muestra anterior se brinda a modo de ejemplo, usted deberá buscar muuuuchas  fuentes adicionales de información\n",
    "<br> Tenga presente que LightGBM es el estado del arte en modelado predictivo para datasets estructurado, que son el 90% del trabajo del 95% de los Data Scientists en Argentina."
   ]
  },
  {
   "cell_type": "markdown",
   "metadata": {
    "id": "WpUThBojODyK"
   },
   "source": [
    "El desafío de esta tarea es:\n",
    "* Qué hiperparparámetros conviene optimizar?  Las recomendaciones de los artículos ligeros es siempre sensata?  Sus autores realmente hicieron experimentos o son siemplemente escritores de entretenimiento carente de base científica?\n",
    "* Elegidos los hiperparámetros, cual es el  <desde, hasta> que se debe utilizar en la Bayesian Optimization ?\n",
    "* Realmente vale la pena optimizar 10 o 16 hiperparámetros al mismo tiempo ?  No resulta contraproducente una búsqueda en un espacio de tal alta dimensionalidad ?"
   ]
  },
  {
   "cell_type": "markdown",
   "metadata": {
    "id": "PX0qg_c0yqob"
   },
   "source": [
    "#### 2.1  Seteo del ambiente en Google Colab"
   ]
  },
  {
   "cell_type": "markdown",
   "metadata": {
    "id": "NGY7H9xza7Zr"
   },
   "source": [
    "Esta parte se debe correr con el runtime en Python3\n",
    "<br>Ir al menu, Runtime -> Change Runtime Type -> Runtime type ->  **Python 3**"
   ]
  },
  {
   "cell_type": "markdown",
   "metadata": {
    "id": "7PupIBNba7Zr"
   },
   "source": [
    "Conectar la virtual machine donde esta corriendo Google Colab con el  Google Drive, para poder tener persistencia de archivos"
   ]
  },
  {
   "cell_type": "code",
   "execution_count": null,
   "metadata": {
    "id": "9LpZCst5a7Zs"
   },
   "outputs": [],
   "source": [
    "# primero establecer el Runtime de Python 3\n",
    "from google.colab import drive\n",
    "drive.mount('/content/.drive')"
   ]
  },
  {
   "cell_type": "markdown",
   "metadata": {
    "id": "JYC_F-wla7Zs"
   },
   "source": [
    "Para correr la siguiente celda es fundamental en Arranque en Frio haber copiado el archivo kaggle.json al Google Drive, en la carpeta indicada en el instructivo\n",
    "\n",
    "<br>los siguientes comando estan en shell script de Linux\n",
    "*   Crear las carpetas en el Google Drive\n",
    "*   \"instalar\" el archivo kaggle.json desde el Google Drive a la virtual machine para que pueda ser utilizado por la libreria  kaggle de Python\n",
    "*   Bajar el  **dataset_pequeno**  al  Google Drive  y tambien al disco local de la virtual machine que esta corriendo Google Colab\n",
    "\n"
   ]
  },
  {
   "cell_type": "code",
   "execution_count": null,
   "metadata": {
    "id": "XWLelftXa7Zt"
   },
   "outputs": [],
   "source": [
    "%%shell\n",
    "\n",
    "mkdir -p \"/content/.drive/My Drive/labo1\"\n",
    "mkdir -p \"/content/buckets\"\n",
    "ln -s \"/content/.drive/My Drive/labo1\" /content/buckets/b1\n",
    "\n",
    "mkdir -p ~/.kaggle\n",
    "cp /content/buckets/b1/kaggle/kaggle.json  ~/.kaggle\n",
    "chmod 600 ~/.kaggle/kaggle.json\n",
    "\n",
    "\n",
    "mkdir -p /content/buckets/b1/exp\n",
    "mkdir -p /content/buckets/b1/datasets\n",
    "mkdir -p /content/datasets\n",
    "\n",
    "\n",
    "\n",
    "archivo_origen=\"https://storage.googleapis.com/open-courses/austral2025-af91/dataset_pequeno.csv\"\n",
    "archivo_destino=\"/content/datasets/dataset_pequeno.csv\"\n",
    "archivo_destino_bucket=\"/content/buckets/b1/datasets/dataset_pequeno.csv\"\n",
    "\n",
    "if ! test -f $archivo_destino_bucket; then\n",
    "  wget  $archivo_origen  -O $archivo_destino_bucket\n",
    "fi\n",
    "\n",
    "\n",
    "if ! test -f $archivo_destino; then\n",
    "  cp  $archivo_destino_bucket  $archivo_destino\n",
    "fi\n"
   ]
  },
  {
   "cell_type": "markdown",
   "metadata": {
    "id": "oSKhZRToy2F7"
   },
   "source": [
    "### 2.2 Optimizacion Hiperparámetros"
   ]
  },
  {
   "cell_type": "markdown",
   "metadata": {
    "id": "2kwPpHAtSmix"
   },
   "source": [
    "Esta parte se debe correr con el runtime en lenguaje R Ir al menu, Runtime -> Change Runtime Type -> Runtime type -> R"
   ]
  },
  {
   "cell_type": "markdown",
   "metadata": {
    "id": "xp4-Bj3aYI8d"
   },
   "source": [
    "### 2.2.1 Inicio"
   ]
  },
  {
   "cell_type": "markdown",
   "metadata": {
    "id": "zy8YTZfESxeJ"
   },
   "source": [
    "limpio el ambiente de R"
   ]
  },
  {
   "cell_type": "code",
   "execution_count": 2,
   "metadata": {
    "id": "gBq__iAdQliq"
   },
   "outputs": [
    {
     "data": {
      "text/html": [
       "'Tue Sep 23 17:37:38 2025'"
      ],
      "text/latex": [
       "'Tue Sep 23 17:37:38 2025'"
      ],
      "text/markdown": [
       "'Tue Sep 23 17:37:38 2025'"
      ],
      "text/plain": [
       "[1] \"Tue Sep 23 17:37:38 2025\""
      ]
     },
     "metadata": {},
     "output_type": "display_data"
    }
   ],
   "source": [
    "format(Sys.time(), \"%a %b %d %X %Y\")"
   ]
  },
  {
   "cell_type": "code",
   "execution_count": 3,
   "metadata": {
    "id": "7rdVrBojS1IV"
   },
   "outputs": [
    {
     "data": {
      "text/html": [
       "<table class=\"dataframe\">\n",
       "<caption>A matrix: 2 × 6 of type dbl</caption>\n",
       "<thead>\n",
       "\t<tr><th></th><th scope=col>used</th><th scope=col>(Mb)</th><th scope=col>gc trigger</th><th scope=col>(Mb)</th><th scope=col>max used</th><th scope=col>(Mb)</th></tr>\n",
       "</thead>\n",
       "<tbody>\n",
       "\t<tr><th scope=row>Ncells</th><td> 658236</td><td>35.2</td><td>1439408</td><td>76.9</td><td>1439408</td><td>76.9</td></tr>\n",
       "\t<tr><th scope=row>Vcells</th><td>1227667</td><td> 9.4</td><td>8388608</td><td>64.0</td><td>1924969</td><td>14.7</td></tr>\n",
       "</tbody>\n",
       "</table>\n"
      ],
      "text/latex": [
       "A matrix: 2 × 6 of type dbl\n",
       "\\begin{tabular}{r|llllll}\n",
       "  & used & (Mb) & gc trigger & (Mb) & max used & (Mb)\\\\\n",
       "\\hline\n",
       "\tNcells &  658236 & 35.2 & 1439408 & 76.9 & 1439408 & 76.9\\\\\n",
       "\tVcells & 1227667 &  9.4 & 8388608 & 64.0 & 1924969 & 14.7\\\\\n",
       "\\end{tabular}\n"
      ],
      "text/markdown": [
       "\n",
       "A matrix: 2 × 6 of type dbl\n",
       "\n",
       "| <!--/--> | used | (Mb) | gc trigger | (Mb) | max used | (Mb) |\n",
       "|---|---|---|---|---|---|---|\n",
       "| Ncells |  658236 | 35.2 | 1439408 | 76.9 | 1439408 | 76.9 |\n",
       "| Vcells | 1227667 |  9.4 | 8388608 | 64.0 | 1924969 | 14.7 |\n",
       "\n"
      ],
      "text/plain": [
       "       used    (Mb) gc trigger (Mb) max used (Mb)\n",
       "Ncells  658236 35.2 1439408    76.9 1439408  76.9\n",
       "Vcells 1227667  9.4 8388608    64.0 1924969  14.7"
      ]
     },
     "metadata": {},
     "output_type": "display_data"
    }
   ],
   "source": [
    "# limpio la memoria\n",
    "rm(list=ls(all.names=TRUE)) # remove all objects\n",
    "gc(full=TRUE, verbose=FALSE) # garbage collection"
   ]
  },
  {
   "cell_type": "markdown",
   "metadata": {
    "id": "kuPfQ7ksjwW3"
   },
   "source": [
    "### 2.2.2 Carga de Librerias"
   ]
  },
  {
   "cell_type": "code",
   "execution_count": 4,
   "metadata": {
    "id": "lVyxLaJ1j1J_"
   },
   "outputs": [
    {
     "name": "stderr",
     "output_type": "stream",
     "text": [
      "Loading required package: data.table\n",
      "\n",
      "Loading required package: parallel\n",
      "\n",
      "Loading required package: primes\n",
      "\n",
      "Loading required package: rlist\n",
      "\n",
      "Loading required package: yaml\n",
      "\n",
      "Loading required package: lightgbm\n",
      "\n",
      "Loading required package: DiceKriging\n",
      "\n",
      "Loading required package: mlrMBO\n",
      "\n",
      "Loading required package: mlr\n",
      "\n",
      "Loading required package: ParamHelpers\n",
      "\n",
      "Loading required package: smoof\n",
      "\n",
      "Loading required package: checkmate\n",
      "\n",
      "\n",
      "Attaching package: ‘checkmate’\n",
      "\n",
      "\n",
      "The following object is masked from ‘package:DiceKriging’:\n",
      "\n",
      "    checkNames\n",
      "\n",
      "\n"
     ]
    }
   ],
   "source": [
    "# cargo las librerias que necesito\n",
    "require(\"data.table\")\n",
    "require(\"parallel\")\n",
    "\n",
    "if( !require(\"primes\") ) install.packages(\"primes\")\n",
    "require(\"primes\")\n",
    "\n",
    "if( !require(\"utils\") ) install.packages(\"utils\")\n",
    "require(\"utils\")\n",
    "\n",
    "if( !require(\"rlist\") ) install.packages(\"rlist\")\n",
    "require(\"rlist\")\n",
    "\n",
    "if( !require(\"yaml\")) install.packages(\"yaml\")\n",
    "require(\"yaml\")\n",
    "\n",
    "if( !require(\"lightgbm\") ) install.packages(\"lightgbm\")\n",
    "require(\"lightgbm\")\n",
    "\n",
    "if( !require(\"DiceKriging\") ) install.packages(\"DiceKriging\")\n",
    "require(\"DiceKriging\")\n",
    "\n",
    "if( !require(\"mlrMBO\") ) install.packages(\"mlrMBO\")\n",
    "require(\"mlrMBO\")"
   ]
  },
  {
   "cell_type": "markdown",
   "metadata": {
    "id": "Iz-6Qt6BUaA3"
   },
   "source": [
    "### 2.2.3 Definicion de Parametros"
   ]
  },
  {
   "cell_type": "markdown",
   "metadata": {
    "id": "cOdlKd7lUm2I"
   },
   "source": [
    "aqui debe cargar SU semilla primigenia\n",
    "<br>recuerde cambiar el numero de experimento en cada corrida nueva"
   ]
  },
  {
   "cell_type": "code",
   "execution_count": 5,
   "metadata": {
    "id": "ASYkebOu2mF6"
   },
   "outputs": [],
   "source": [
    "PARAM <- list()\n",
    "PARAM$experimento <- 4944\n",
    "PARAM$semilla_primigenia <- 100613\n"
   ]
  },
  {
   "cell_type": "code",
   "execution_count": 6,
   "metadata": {
    "id": "ezOhQdbA293o"
   },
   "outputs": [],
   "source": [
    "PARAM$kaggle$competencia <- \"labo-i-2025-ba-analista-sr\"\n",
    "PARAM$kaggle$cortes <- seq(10000, 12000, by= 500)"
   ]
  },
  {
   "cell_type": "code",
   "execution_count": 7,
   "metadata": {
    "id": "jtB0Lub42rHO"
   },
   "outputs": [],
   "source": [
    "# un undersampling de 0.1  toma solo el 10% de los CONTINUA\n",
    "# undersampling de 1.0  implica tomar TODOS los datos\n",
    "\n",
    "PARAM$trainingstrategy$undersampling <- 0.5"
   ]
  },
  {
   "cell_type": "code",
   "execution_count": 8,
   "metadata": {
    "id": "OFxm-xiNUOJX"
   },
   "outputs": [],
   "source": [
    "# Parametros LightGBM\n",
    "\n",
    "PARAM$hyperparametertuning$xval_folds <- 5\n",
    "\n",
    "# parametros fijos del LightGBM que se pisaran con la parte variable de la BO\n",
    "PARAM$lgbm$param_fijos <-  list(\n",
    "  boosting= \"gbdt\", # puede ir  dart  , ni pruebe random_forest\n",
    "  objective= \"binary\",\n",
    "  metric= \"auc\",\n",
    "  first_metric_only= FALSE,\n",
    "  boost_from_average= TRUE,\n",
    "  feature_pre_filter= FALSE,\n",
    "  force_row_wise= TRUE, # para reducir warnings\n",
    "  verbosity= -100,\n",
    "\n",
    "  seed= PARAM$semilla_primigenia,\n",
    "\n",
    "  max_depth= -1L, # -1 significa no limitar,  por ahora lo dejo fijo\n",
    "  min_gain_to_split= 0, # min_gain_to_split >= 0\n",
    "  min_sum_hessian_in_leaf= 0.001, #  min_sum_hessian_in_leaf >= 0.0\n",
    "  lambda_l1= 0.0, # lambda_l1 >= 0.0\n",
    "  lambda_l2= 0.0, # lambda_l2 >= 0.0\n",
    "  max_bin= 31L, # lo debo dejar fijo, no participa de la BO\n",
    "\n",
    "  bagging_fraction= 1.0, # 0.0 < bagging_fraction <= 1.0\n",
    "  pos_bagging_fraction= 1.0, # 0.0 < pos_bagging_fraction <= 1.0\n",
    "  neg_bagging_fraction= 1.0, # 0.0 < neg_bagging_fraction <= 1.0\n",
    "  is_unbalance= FALSE, #\n",
    "  scale_pos_weight= 1.0, # scale_pos_weight > 0.0\n",
    "\n",
    "  drop_rate= 0.1, # 0.0 < neg_bagging_fraction <= 1.0\n",
    "  max_drop= 50, # <=0 means no limit\n",
    "  skip_drop= 0.5, # 0.0 <= skip_drop <= 1.0\n",
    "\n",
    "  extra_trees= FALSE,\n",
    "\n",
    "  num_iterations= 1200,\n",
    "  learning_rate= 0.02,\n",
    "  feature_fraction= 0.5,\n",
    "  num_leaves= 750,\n",
    "  min_data_in_leaf= 5000\n",
    ")\n"
   ]
  },
  {
   "cell_type": "markdown",
   "metadata": {
    "id": "D5Yj-JV4yvOt"
   },
   "source": [
    "Aqui se definen los hiperparámetros de LightGBM que participan de la Bayesian Optimization\n",
    "<br> si es un numero entero debe ir  makeIntegerParam\n",
    "<br> si es un numero real (con decimales) debe ir  makeNumericParam\n",
    "<br> es muy importante leer cuales son un lower y upper  permitidos y ademas razonables"
   ]
  },
  {
   "cell_type": "code",
   "execution_count": 9,
   "metadata": {
    "id": "jENpR26ZyuS8"
   },
   "outputs": [],
   "source": [
    "# Aqui se cargan los bordes de los hiperparametros de la BO\n",
    "PARAM$hypeparametertuning$hs <- makeParamSet(\n",
    "  makeIntegerParam(\"num_iterations\", lower= 8L, upper= 2048L),\n",
    "  makeNumericParam(\"learning_rate\", lower= 0.01, upper= 0.3),\n",
    "  makeNumericParam(\"feature_fraction\", lower= 0.1, upper= 1.0),\n",
    "  makeIntegerParam(\"num_leaves\", lower= 8L, upper= 2048L),\n",
    "  makeIntegerParam(\"min_data_in_leaf\", lower= 1L, upper= 8000L),\n",
    "  makeNumericParam(\"bagging_fraction\", lower = 0.7, upper = 0.92),\n",
    "  makeIntegerParam(\"bagging_freq\", lower = 1L, upper = 5L),\n",
    "  makeNumericParam(\"lambda_l2\", lower = 1e-5, upper = 1.0)\n",
    ")"
   ]
  },
  {
   "cell_type": "markdown",
   "metadata": {
    "id": "-_RPFUb3zMoW"
   },
   "source": [
    "A mayor cantidad de hiperparámetros, se debe aumentar las iteraciones de la Bayesian Optimization\n",
    "<br> 30 es un valor muy tacaño, pero corre rápido\n",
    "<br> deberia partir de 50, alcanzando los 100 si se dispone de tiempo"
   ]
  },
  {
   "cell_type": "code",
   "execution_count": 10,
   "metadata": {
    "id": "q5Rd3pnbzSiG"
   },
   "outputs": [],
   "source": [
    "PARAM$hyperparametertuning$iteraciones <- 50 # iteraciones bayesianas"
   ]
  },
  {
   "cell_type": "markdown",
   "metadata": {
    "id": "4RWZXL1VZjMI"
   },
   "source": [
    "### 2.2.4  Preprocesamiento"
   ]
  },
  {
   "cell_type": "code",
   "execution_count": 11,
   "metadata": {
    "id": "j3toG9-lZm4K"
   },
   "outputs": [],
   "source": [
    "# carpeta de trabajo\n",
    "\n",
    "setwd(\"/content/buckets/b1/exp\")\n",
    "experimento_folder <- paste0(\"HT\", PARAM$experimento)\n",
    "dir.create(experimento_folder, showWarnings=FALSE)\n",
    "setwd( paste0(\"/content/buckets/b1/exp/\", experimento_folder ))"
   ]
  },
  {
   "cell_type": "code",
   "execution_count": 12,
   "metadata": {
    "id": "FM3lxKoLZ643"
   },
   "outputs": [],
   "source": [
    "# lectura del dataset\n",
    "\n",
    "dataset <- fread(\"/content/datasets/dataset_pequeno.csv\")"
   ]
  },
  {
   "cell_type": "code",
   "execution_count": 13,
   "metadata": {
    "id": "OsJ-91UeZ-I_"
   },
   "outputs": [],
   "source": [
    "dataset_train <- dataset[foto_mes %in% c(202107)]"
   ]
  },
  {
   "cell_type": "code",
   "execution_count": 14,
   "metadata": {
    "id": "vrWE7BE0aB2J"
   },
   "outputs": [],
   "source": [
    "# paso la clase a binaria que tome valores {0,1}  enteros\n",
    "#  BAJA+1 y BAJA+2  son  1,   CONTINUA es 0\n",
    "\n",
    "dataset_train[,\n",
    "  clase01 := ifelse(clase_ternaria %in% c(\"BAJA+2\",\"BAJA+1\"), 1L, 0L)\n",
    "]"
   ]
  },
  {
   "cell_type": "code",
   "execution_count": 15,
   "metadata": {
    "id": "jP7YlQBnaW6W"
   },
   "outputs": [],
   "source": [
    "# defino los datos que forma parte del training\n",
    "# aqui se hace el undersampling de los CONTINUA\n",
    "# notar que para esto utilizo la SEGUNDA semilla\n",
    "\n",
    "set.seed(PARAM$semilla_primigenia, kind = \"L'Ecuyer-CMRG\")\n",
    "dataset_train[, azar := runif(nrow(dataset_train))]\n",
    "dataset_train[, training := 0L]\n",
    "\n",
    "dataset_train[\n",
    "  foto_mes %in% c(202107) &\n",
    "    (azar <= PARAM$trainingstrategy$undersampling | clase_ternaria %in% c(\"BAJA+1\", \"BAJA+2\")),\n",
    "  training := 1L\n",
    "]"
   ]
  },
  {
   "cell_type": "code",
   "execution_count": 16,
   "metadata": {
    "id": "xElu4s5W4rX7"
   },
   "outputs": [],
   "source": [
    "# los campos que se van a utilizar\n",
    "\n",
    "campos_buenos <- setdiff(\n",
    "  colnames(dataset_train),\n",
    "  c(\"clase_ternaria\", \"clase01\", \"azar\", \"training\")\n",
    ")"
   ]
  },
  {
   "cell_type": "code",
   "execution_count": 17,
   "metadata": {
    "id": "PppMHcGYaaol"
   },
   "outputs": [
    {
     "data": {
      "text/html": [
       "83529"
      ],
      "text/latex": [
       "83529"
      ],
      "text/markdown": [
       "83529"
      ],
      "text/plain": [
       "[1] 83529"
      ]
     },
     "metadata": {},
     "output_type": "display_data"
    },
    {
     "data": {
      "text/html": [
       "154"
      ],
      "text/latex": [
       "154"
      ],
      "text/markdown": [
       "154"
      ],
      "text/plain": [
       "[1] 154"
      ]
     },
     "metadata": {},
     "output_type": "display_data"
    }
   ],
   "source": [
    "# dejo los datos en el formato que necesita LightGBM\n",
    "\n",
    "dtrain <- lgb.Dataset(\n",
    "  data= data.matrix(dataset_train[training == 1L, campos_buenos, with= FALSE]),\n",
    "  label= dataset_train[training == 1L, clase01],\n",
    "  free_raw_data= FALSE\n",
    ")\n",
    "\n",
    "nrow(dtrain)\n",
    "ncol(dtrain)"
   ]
  },
  {
   "cell_type": "markdown",
   "metadata": {
    "id": "Ta-EkOu3cphF"
   },
   "source": [
    "2.2.5 Configuracion Bayesian Optimization"
   ]
  },
  {
   "cell_type": "code",
   "execution_count": 18,
   "metadata": {
    "id": "cjgfurjdfiXb"
   },
   "outputs": [],
   "source": [
    "# En el argumento x llegan los parmaetros de la bayesiana\n",
    "#  devuelve la AUC en cross validation del modelo entrenado\n",
    "\n",
    "EstimarGanancia_AUC_lightgbm <- function(x) {\n",
    "\n",
    "  # x pisa (o agrega) a param_fijos\n",
    "  param_completo <- modifyList(PARAM$lgbm$param_fijos, x)\n",
    "\n",
    "  # entreno LightGBM\n",
    "  modelocv <- lgb.cv(\n",
    "    data= dtrain,\n",
    "    nfold= PARAM$hyperparametertuning$xval_folds,\n",
    "    stratified= TRUE,\n",
    "    param= param_completo\n",
    "  )\n",
    "\n",
    "  # obtengo la ganancia\n",
    "  AUC <- modelocv$best_score\n",
    "\n",
    "  # hago espacio en la memoria\n",
    "  rm(modelocv)\n",
    "  gc(full= TRUE, verbose= FALSE)\n",
    "\n",
    "  message(format(Sys.time(), \"%a %b %d %X %Y\"), \" AUC \", AUC)\n",
    "\n",
    "  return(AUC)\n",
    "}"
   ]
  },
  {
   "cell_type": "code",
   "execution_count": 19,
   "metadata": {
    "id": "WLi_o1hocvN-"
   },
   "outputs": [],
   "source": [
    "# Aqui comienza la configuracion de la Bayesian Optimization\n",
    "\n",
    "# en este archivo quedan la evolucion binaria de la BO\n",
    "kbayesiana <- \"bayesiana.RDATA\"\n",
    "\n",
    "funcion_optimizar <- EstimarGanancia_AUC_lightgbm # la funcion que voy a maximizar\n",
    "\n",
    "configureMlr(show.learner.output= FALSE)\n",
    "\n",
    "# configuro la busqueda bayesiana,  los hiperparametros que se van a optimizar\n",
    "# por favor, no desesperarse por lo complejo\n",
    "\n",
    "obj.fun <- makeSingleObjectiveFunction(\n",
    "  fn= funcion_optimizar, # la funcion que voy a maximizar\n",
    "  minimize= FALSE, # estoy Maximizando la ganancia\n",
    "  noisy= TRUE,\n",
    "  par.set= PARAM$hypeparametertuning$hs, # definido al comienzo del programa\n",
    "  has.simple.signature= FALSE # paso los parametros en una lista\n",
    ")\n",
    "\n",
    "# cada 600 segundos guardo el resultado intermedio\n",
    "ctrl <- makeMBOControl(\n",
    "  save.on.disk.at.time= 600, # se graba cada 600 segundos\n",
    "  save.file.path= kbayesiana\n",
    ") # se graba cada 600 segundos\n",
    "\n",
    "# indico la cantidad de iteraciones que va a tener la Bayesian Optimization\n",
    "ctrl <- setMBOControlTermination(\n",
    "  ctrl,\n",
    "  iters= PARAM$hyperparametertuning$iteraciones\n",
    ") # cantidad de iteraciones\n",
    "\n",
    "# defino el método estandar para la creacion de los puntos iniciales,\n",
    "# los \"No Inteligentes\"\n",
    "ctrl <- setMBOControlInfill(ctrl, crit= makeMBOInfillCritEI())\n",
    "\n",
    "# establezco la funcion que busca el maximo\n",
    "surr.km <- makeLearner(\n",
    "  \"regr.km\",\n",
    "  predict.type= \"se\",\n",
    "  covtype= \"matern3_2\",\n",
    "  control= list(trace= TRUE)\n",
    ")\n"
   ]
  },
  {
   "cell_type": "markdown",
   "metadata": {
    "id": "_uUeVo5pc4zc"
   },
   "source": [
    "2.2.6 Corrida Bayesian Optimization"
   ]
  },
  {
   "cell_type": "code",
   "execution_count": 20,
   "metadata": {
    "id": "RcABNaKGciaz"
   },
   "outputs": [
    {
     "name": "stderr",
     "output_type": "stream",
     "text": [
      "Computing y column(s) for design. Not provided.\n",
      "\n",
      "Tue Sep 23 17:38:57 2025 AUC 0.92347871473913\n",
      "\n",
      "Tue Sep 23 17:39:55 2025 AUC 0.923353046188139\n",
      "\n",
      "Tue Sep 23 17:40:41 2025 AUC 0.922814791515114\n",
      "\n",
      "Tue Sep 23 17:41:43 2025 AUC 0.924312978343525\n",
      "\n",
      "Tue Sep 23 17:43:28 2025 AUC 0.925189644779568\n",
      "\n",
      "Tue Sep 23 17:43:46 2025 AUC 0.922657463474218\n",
      "\n",
      "Tue Sep 23 17:44:54 2025 AUC 0.926028367410585\n",
      "\n",
      "Tue Sep 23 17:45:38 2025 AUC 0.924687113406591\n",
      "\n",
      "Tue Sep 23 17:46:03 2025 AUC 0.923262721584915\n",
      "\n",
      "Tue Sep 23 17:47:20 2025 AUC 0.924146646859888\n",
      "\n",
      "Tue Sep 23 17:47:34 2025 AUC 0.924850936979249\n",
      "\n",
      "Tue Sep 23 17:48:32 2025 AUC 0.92489247024348\n",
      "\n",
      "Tue Sep 23 17:49:53 2025 AUC 0.925063016041368\n",
      "\n",
      "Tue Sep 23 17:51:10 2025 AUC 0.924297475364363\n",
      "\n",
      "Tue Sep 23 17:51:24 2025 AUC 0.924252976976686\n",
      "\n",
      "Tue Sep 23 17:52:47 2025 AUC 0.923791637401527\n",
      "\n",
      "Tue Sep 23 17:52:52 2025 AUC 0.912302685922849\n",
      "\n",
      "Tue Sep 23 17:53:35 2025 AUC 0.924247459261891\n",
      "\n",
      "Tue Sep 23 17:55:37 2025 AUC 0.927022395012181\n",
      "\n",
      "Tue Sep 23 17:56:28 2025 AUC 0.922286453951119\n",
      "\n",
      "Tue Sep 23 17:56:56 2025 AUC 0.92245512534725\n",
      "\n",
      "Tue Sep 23 17:57:05 2025 AUC 0.921894672793145\n",
      "\n",
      "Tue Sep 23 17:57:40 2025 AUC 0.915749898362151\n",
      "\n",
      "Tue Sep 23 17:58:58 2025 AUC 0.926405391842189\n",
      "\n",
      "Tue Sep 23 18:00:02 2025 AUC 0.923823404977651\n",
      "\n",
      "Tue Sep 23 18:00:14 2025 AUC 0.918612503949652\n",
      "\n",
      "Tue Sep 23 18:00:46 2025 AUC 0.9259338453445\n",
      "\n",
      "Tue Sep 23 18:01:28 2025 AUC 0.923257440550039\n",
      "\n",
      "Tue Sep 23 18:01:49 2025 AUC 0.925102027545408\n",
      "\n",
      "Tue Sep 23 18:01:52 2025 AUC 0.915954527006604\n",
      "\n",
      "Tue Sep 23 18:03:44 2025 AUC 0.921004447513025\n",
      "\n",
      "Tue Sep 23 18:04:21 2025 AUC 0.922688133930304\n",
      "\n",
      "[mbo] 0: num_iterations=650; learning_rate=0.229; feature_fraction=0.509; num_leaves=1545; min_data_in_leaf=4644; bagging_fraction=0.832; bagging_freq=2; lambda_l2=0.314 : y = 0.923 : 41.3 secs : initdesign\n",
      "\n",
      "[mbo] 0: num_iterations=1300; learning_rate=0.158; feature_fraction=0.112; num_leaves=143; min_data_in_leaf=4249; bagging_fraction=0.785; bagging_freq=2; lambda_l2=0.705 : y = 0.923 : 58.4 secs : initdesign\n",
      "\n",
      "[mbo] 0: num_iterations=1047; learning_rate=0.172; feature_fraction=0.191; num_leaves=1384; min_data_in_leaf=6020; bagging_fraction=0.767; bagging_freq=3; lambda_l2=0.641 : y = 0.923 : 45.9 secs : initdesign\n",
      "\n",
      "[mbo] 0: num_iterations=1381; learning_rate=0.0604; feature_fraction=0.246; num_leaves=591; min_data_in_leaf=5370; bagging_fraction=0.817; bagging_freq=5; lambda_l2=0.255 : y = 0.924 : 61.5 secs : initdesign\n",
      "\n",
      "[mbo] 0: num_iterations=1767; learning_rate=0.133; feature_fraction=0.491; num_leaves=254; min_data_in_leaf=2942; bagging_fraction=0.866; bagging_freq=4; lambda_l2=0.868 : y = 0.925 : 105.7 secs : initdesign\n",
      "\n",
      "[mbo] 0: num_iterations=710; learning_rate=0.22; feature_fraction=0.874; num_leaves=1158; min_data_in_leaf=7543; bagging_fraction=0.795; bagging_freq=1; lambda_l2=0.403 : y = 0.923 : 17.5 secs : initdesign\n",
      "\n",
      "[mbo] 0: num_iterations=971; learning_rate=0.0825; feature_fraction=0.544; num_leaves=887; min_data_in_leaf=1247; bagging_fraction=0.829; bagging_freq=4; lambda_l2=0.17 : y = 0.926 : 68.1 secs : initdesign\n",
      "\n",
      "[mbo] 0: num_iterations=837; learning_rate=0.194; feature_fraction=0.331; num_leaves=1684; min_data_in_leaf=3573; bagging_fraction=0.759; bagging_freq=2; lambda_l2=0.451 : y = 0.925 : 43.7 secs : initdesign\n",
      "\n",
      "[mbo] 0: num_iterations=380; learning_rate=0.253; feature_fraction=0.61; num_leaves=778; min_data_in_leaf=1675; bagging_fraction=0.885; bagging_freq=2; lambda_l2=0.571 : y = 0.923 : 25.1 secs : initdesign\n",
      "\n",
      "[mbo] 0: num_iterations=1419; learning_rate=0.204; feature_fraction=0.399; num_leaves=1532; min_data_in_leaf=3352; bagging_fraction=0.843; bagging_freq=4; lambda_l2=0.623 : y = 0.924 : 76.8 secs : initdesign\n",
      "\n",
      "[mbo] 0: num_iterations=395; learning_rate=0.12; feature_fraction=0.837; num_leaves=389; min_data_in_leaf=5534; bagging_fraction=0.81; bagging_freq=3; lambda_l2=0.434 : y = 0.925 : 14.0 secs : initdesign\n",
      "\n",
      "[mbo] 0: num_iterations=1822; learning_rate=0.0815; feature_fraction=0.647; num_leaves=525; min_data_in_leaf=5210; bagging_fraction=0.77; bagging_freq=5; lambda_l2=0.888 : y = 0.925 : 58.0 secs : initdesign\n",
      "\n",
      "[mbo] 0: num_iterations=1656; learning_rate=0.0231; feature_fraction=0.423; num_leaves=1412; min_data_in_leaf=5835; bagging_fraction=0.821; bagging_freq=4; lambda_l2=0.296 : y = 0.925 : 81.0 secs : initdesign\n",
      "\n",
      "[mbo] 0: num_iterations=1502; learning_rate=0.143; feature_fraction=0.45; num_leaves=2016; min_data_in_leaf=3089; bagging_fraction=0.732; bagging_freq=1; lambda_l2=0.978 : y = 0.924 : 77.6 secs : initdesign\n",
      "\n",
      "[mbo] 0: num_iterations=505; learning_rate=0.0549; feature_fraction=0.89; num_leaves=1018; min_data_in_leaf=6578; bagging_fraction=0.717; bagging_freq=5; lambda_l2=0.794 : y = 0.924 : 14.1 secs : initdesign\n",
      "\n",
      "[mbo] 0: num_iterations=1897; learning_rate=0.244; feature_fraction=0.681; num_leaves=124; min_data_in_leaf=2610; bagging_fraction=0.799; bagging_freq=3; lambda_l2=0.241 : y = 0.924 : 82.4 secs : initdesign\n",
      "\n",
      "[mbo] 0: num_iterations=81; learning_rate=0.0418; feature_fraction=0.272; num_leaves=391; min_data_in_leaf=6885; bagging_fraction=0.863; bagging_freq=5; lambda_l2=0.832 : y = 0.912 : 5.0 secs : initdesign\n",
      "\n",
      "[mbo] 0: num_iterations=1170; learning_rate=0.261; feature_fraction=0.918; num_leaves=488; min_data_in_leaf=3890; bagging_fraction=0.876; bagging_freq=4; lambda_l2=0.94 : y = 0.924 : 42.8 secs : initdesign\n",
      "\n",
      "[mbo] 0: num_iterations=1971; learning_rate=0.109; feature_fraction=0.214; num_leaves=1320; min_data_in_leaf=1477; bagging_fraction=0.856; bagging_freq=2; lambda_l2=0.215 : y = 0.927 : 122.1 secs : initdesign\n",
      "\n",
      "[mbo] 0: num_iterations=1248; learning_rate=0.0148; feature_fraction=0.304; num_leaves=1102; min_data_in_leaf=7228; bagging_fraction=0.747; bagging_freq=1; lambda_l2=0.478 : y = 0.922 : 51.5 secs : initdesign\n",
      "\n",
      "[mbo] 0: num_iterations=1147; learning_rate=0.268; feature_fraction=0.718; num_leaves=1838; min_data_in_leaf=7955; bagging_fraction=0.898; bagging_freq=1; lambda_l2=0.156 : y = 0.922 : 27.8 secs : initdesign\n",
      "\n",
      "[mbo] 0: num_iterations=198; learning_rate=0.284; feature_fraction=0.592; num_leaves=1772; min_data_in_leaf=4883; bagging_fraction=0.779; bagging_freq=5; lambda_l2=0.541 : y = 0.922 : 8.9 secs : initdesign\n",
      "\n",
      "[mbo] 0: num_iterations=321; learning_rate=0.217; feature_fraction=0.79; num_leaves=1964; min_data_in_leaf=126; bagging_fraction=0.738; bagging_freq=1; lambda_l2=0.368 : y = 0.916 : 34.9 secs : initdesign\n",
      "\n",
      "[mbo] 0: num_iterations=921; learning_rate=0.115; feature_fraction=0.553; num_leaves=1085; min_data_in_leaf=432; bagging_fraction=0.753; bagging_freq=4; lambda_l2=0.925 : y = 0.926 : 77.8 secs : initdesign\n",
      "\n",
      "[mbo] 0: num_iterations=2043; learning_rate=0.029; feature_fraction=0.752; num_leaves=1875; min_data_in_leaf=7410; bagging_fraction=0.903; bagging_freq=5; lambda_l2=0.671 : y = 0.924 : 64.5 secs : initdesign\n",
      "\n",
      "[mbo] 0: num_iterations=253; learning_rate=0.299; feature_fraction=0.132; num_leaves=736; min_data_in_leaf=1818; bagging_fraction=0.7; bagging_freq=3; lambda_l2=0.123 : y = 0.919 : 11.6 secs : initdesign\n",
      "\n",
      "[mbo] 0: num_iterations=610; learning_rate=0.0942; feature_fraction=0.376; num_leaves=67; min_data_in_leaf=2331; bagging_fraction=0.887; bagging_freq=1; lambda_l2=0.045 : y = 0.926 : 32.5 secs : initdesign\n",
      "\n",
      "[mbo] 0: num_iterations=1686; learning_rate=0.177; feature_fraction=0.952; num_leaves=1260; min_data_in_leaf=4497; bagging_fraction=0.713; bagging_freq=1; lambda_l2=0.512 : y = 0.923 : 42.2 secs : initdesign\n",
      "\n",
      "[mbo] 0: num_iterations=548; learning_rate=0.149; feature_fraction=0.821; num_leaves=288; min_data_in_leaf=2066; bagging_fraction=0.725; bagging_freq=5; lambda_l2=0.0754 : y = 0.925 : 21.0 secs : initdesign\n",
      "\n",
      "[mbo] 0: num_iterations=14; learning_rate=0.0721; feature_fraction=0.981; num_leaves=921; min_data_in_leaf=644; bagging_fraction=0.916; bagging_freq=2; lambda_l2=0.767 : y = 0.916 : 2.3 secs : initdesign\n",
      "\n",
      "[mbo] 0: num_iterations=1543; learning_rate=0.276; feature_fraction=0.724; num_leaves=1634; min_data_in_leaf=929; bagging_fraction=0.908; bagging_freq=3; lambda_l2=0.0197 : y = 0.921 : 112.2 secs : initdesign\n",
      "\n",
      "[mbo] 0: num_iterations=813; learning_rate=0.188; feature_fraction=0.168; num_leaves=708; min_data_in_leaf=6264; bagging_fraction=0.851; bagging_freq=3; lambda_l2=0.733 : y = 0.923 : 36.7 secs : initdesign\n",
      "\n",
      "Saved the current state after iteration 1 in the file bayesiana.RDATA.\n",
      "\n",
      "Tue Sep 23 18:06:08 2025 AUC 0.927098353343286\n",
      "\n",
      "[mbo] 1: num_iterations=1908; learning_rate=0.0171; feature_fraction=0.102; num_leaves=1243; min_data_in_leaf=1791; bagging_fraction=0.848; bagging_freq=2; lambda_l2=0.665 : y = 0.927 : 101.4 secs : infill_ei\n",
      "\n",
      "Tue Sep 23 18:06:41 2025 AUC 0.925341387382397\n",
      "\n",
      "[mbo] 2: num_iterations=805; learning_rate=0.139; feature_fraction=0.632; num_leaves=13; min_data_in_leaf=2944; bagging_fraction=0.823; bagging_freq=4; lambda_l2=0.654 : y = 0.925 : 32.7 secs : infill_ei\n",
      "\n",
      "Tue Sep 23 18:08:10 2025 AUC 0.925375641091804\n",
      "\n",
      "[mbo] 3: num_iterations=1969; learning_rate=0.0489; feature_fraction=0.1; num_leaves=1546; min_data_in_leaf=2755; bagging_fraction=0.874; bagging_freq=4; lambda_l2=0.548 : y = 0.925 : 88.2 secs : infill_ei\n",
      "\n",
      "Tue Sep 23 18:10:14 2025 AUC 0.928111158284485\n",
      "\n",
      "[mbo] 4: num_iterations=1939; learning_rate=0.0408; feature_fraction=0.33; num_leaves=1074; min_data_in_leaf=1335; bagging_fraction=0.774; bagging_freq=2; lambda_l2=0.711 : y = 0.928 : 122.2 secs : infill_ei\n",
      "\n",
      "Tue Sep 23 18:16:24 2025 AUC 0.926743073082113\n",
      "\n",
      "[mbo] 5: num_iterations=1978; learning_rate=0.0621; feature_fraction=0.44; num_leaves=547; min_data_in_leaf=5; bagging_fraction=0.797; bagging_freq=1; lambda_l2=0.795 : y = 0.927 : 369.9 secs : infill_ei\n",
      "\n",
      "Saved the current state after iteration 6 in the file bayesiana.RDATA.\n",
      "\n",
      "Tue Sep 23 18:18:44 2025 AUC 0.928360964357318\n",
      "\n",
      "[mbo] 6: num_iterations=1916; learning_rate=0.0298; feature_fraction=0.322; num_leaves=1471; min_data_in_leaf=648; bagging_fraction=0.718; bagging_freq=2; lambda_l2=0.13 : y = 0.928 : 135.3 secs : infill_ei\n",
      "\n",
      "Tue Sep 23 18:20:48 2025 AUC 0.928708789653563\n",
      "\n",
      "[mbo] 7: num_iterations=1838; learning_rate=0.0104; feature_fraction=0.24; num_leaves=918; min_data_in_leaf=548; bagging_fraction=0.707; bagging_freq=2; lambda_l2=0.388 : y = 0.929 : 123.3 secs : infill_ei\n",
      "\n",
      "Tue Sep 23 18:22:16 2025 AUC 0.925846403983827\n",
      "\n",
      "[mbo] 8: num_iterations=1878; learning_rate=0.0574; feature_fraction=0.172; num_leaves=935; min_data_in_leaf=1527; bagging_fraction=0.7; bagging_freq=1; lambda_l2=0.309 : y = 0.926 : 87.6 secs : infill_ei\n",
      "\n",
      "Tue Sep 23 18:28:56 2025 AUC 0.927353236292586\n",
      "\n",
      "[mbo] 9: num_iterations=1857; learning_rate=0.0104; feature_fraction=0.314; num_leaves=634; min_data_in_leaf=2; bagging_fraction=0.726; bagging_freq=3; lambda_l2=0.268 : y = 0.927 : 398.7 secs : infill_ei\n",
      "\n",
      "Saved the current state after iteration 10 in the file bayesiana.RDATA.\n",
      "\n",
      "Tue Sep 23 18:33:37 2025 AUC 0.927258339369603\n",
      "\n",
      "[mbo] 10: num_iterations=1796; learning_rate=0.0284; feature_fraction=0.383; num_leaves=1055; min_data_in_leaf=46; bagging_fraction=0.761; bagging_freq=2; lambda_l2=0.487 : y = 0.927 : 275.2 secs : infill_ei\n",
      "\n",
      "Tue Sep 23 18:37:15 2025 AUC 0.927463995106532\n",
      "\n",
      "[mbo] 11: num_iterations=2004; learning_rate=0.0151; feature_fraction=0.221; num_leaves=765; min_data_in_leaf=108; bagging_fraction=0.711; bagging_freq=2; lambda_l2=0.542 : y = 0.927 : 217.4 secs : infill_ei\n",
      "\n",
      "Tue Sep 23 18:39:03 2025 AUC 0.928735946317964\n",
      "\n",
      "[mbo] 12: num_iterations=1686; learning_rate=0.0103; feature_fraction=0.256; num_leaves=1242; min_data_in_leaf=1112; bagging_fraction=0.807; bagging_freq=2; lambda_l2=0.235 : y = 0.929 : 107.3 secs : infill_ei\n",
      "\n",
      "Saved the current state after iteration 13 in the file bayesiana.RDATA.\n",
      "\n",
      "Tue Sep 23 18:41:02 2025 AUC 0.928528371523549\n",
      "\n",
      "[mbo] 13: num_iterations=1828; learning_rate=0.01; feature_fraction=0.256; num_leaves=1704; min_data_in_leaf=816; bagging_fraction=0.711; bagging_freq=2; lambda_l2=0.727 : y = 0.929 : 113.8 secs : infill_ei\n",
      "\n",
      "Tue Sep 23 18:42:32 2025 AUC 0.927464960657439\n",
      "\n",
      "[mbo] 14: num_iterations=1789; learning_rate=0.0115; feature_fraction=0.265; num_leaves=1193; min_data_in_leaf=1663; bagging_fraction=0.702; bagging_freq=3; lambda_l2=0.273 : y = 0.927 : 89.5 secs : infill_ei\n",
      "\n",
      "Tue Sep 23 18:44:26 2025 AUC 0.929160513898523\n",
      "\n",
      "[mbo] 15: num_iterations=1011; learning_rate=0.0103; feature_fraction=0.283; num_leaves=174; min_data_in_leaf=6; bagging_fraction=0.892; bagging_freq=2; lambda_l2=0.213 : y = 0.929 : 112.7 secs : infill_ei\n",
      "\n",
      "Tue Sep 23 18:46:06 2025 AUC 0.929374239241178\n",
      "\n",
      "[mbo] 16: num_iterations=1408; learning_rate=0.0114; feature_fraction=0.282; num_leaves=459; min_data_in_leaf=861; bagging_fraction=0.842; bagging_freq=2; lambda_l2=0.134 : y = 0.929 : 99.6 secs : infill_ei\n",
      "\n",
      "Tue Sep 23 18:47:33 2025 AUC 0.931140899793378\n",
      "\n",
      "[mbo] 17: num_iterations=1150; learning_rate=0.011; feature_fraction=0.282; num_leaves=232; min_data_in_leaf=595; bagging_fraction=0.839; bagging_freq=2; lambda_l2=0.766 : y = 0.931 : 86.3 secs : infill_ei\n",
      "\n",
      "Tue Sep 23 18:48:57 2025 AUC 0.92806406673391\n",
      "\n",
      "[mbo] 18: num_iterations=1196; learning_rate=0.034; feature_fraction=0.311; num_leaves=387; min_data_in_leaf=1552; bagging_fraction=0.907; bagging_freq=2; lambda_l2=0.976 : y = 0.928 : 82.4 secs : infill_ei\n",
      "\n",
      "Tue Sep 23 18:50:58 2025 AUC 0.928667926355716\n",
      "\n",
      "[mbo] 19: num_iterations=1093; learning_rate=0.0116; feature_fraction=0.272; num_leaves=241; min_data_in_leaf=132; bagging_fraction=0.765; bagging_freq=2; lambda_l2=0.793 : y = 0.929 : 120.3 secs : infill_ei\n",
      "\n",
      "Saved the current state after iteration 20 in the file bayesiana.RDATA.\n",
      "\n",
      "Tue Sep 23 18:52:40 2025 AUC 0.930683348032255\n",
      "\n",
      "[mbo] 20: num_iterations=1291; learning_rate=0.0116; feature_fraction=0.275; num_leaves=173; min_data_in_leaf=553; bagging_fraction=0.892; bagging_freq=4; lambda_l2=0.796 : y = 0.931 : 96.2 secs : infill_ei\n",
      "\n",
      "Tue Sep 23 18:54:04 2025 AUC 0.930307934724068\n",
      "\n",
      "[mbo] 21: num_iterations=1172; learning_rate=0.0205; feature_fraction=0.308; num_leaves=40; min_data_in_leaf=599; bagging_fraction=0.88; bagging_freq=2; lambda_l2=0.688 : y = 0.93 : 82.4 secs : infill_ei\n",
      "\n",
      "Tue Sep 23 18:55:33 2025 AUC 0.92785066177605\n",
      "\n",
      "[mbo] 22: num_iterations=1131; learning_rate=0.0758; feature_fraction=0.222; num_leaves=725; min_data_in_leaf=464; bagging_fraction=0.85; bagging_freq=3; lambda_l2=0.946 : y = 0.928 : 88.1 secs : infill_ei\n",
      "\n",
      "Tue Sep 23 18:56:56 2025 AUC 0.931212597637878\n",
      "\n",
      "[mbo] 23: num_iterations=1290; learning_rate=0.0104; feature_fraction=0.256; num_leaves=41; min_data_in_leaf=393; bagging_fraction=0.844; bagging_freq=3; lambda_l2=0.735 : y = 0.931 : 82.4 secs : infill_ei\n",
      "\n",
      "Tue Sep 23 18:59:29 2025 AUC 0.929405335931653\n",
      "\n",
      "[mbo] 24: num_iterations=1244; learning_rate=0.01; feature_fraction=0.341; num_leaves=213; min_data_in_leaf=11; bagging_fraction=0.844; bagging_freq=4; lambda_l2=0.858 : y = 0.929 : 151.5 secs : infill_ei\n",
      "\n",
      "Tue Sep 23 19:01:43 2025 AUC 0.929751906009106\n",
      "\n",
      "[mbo] 25: num_iterations=1800; learning_rate=0.01; feature_fraction=0.242; num_leaves=142; min_data_in_leaf=598; bagging_fraction=0.857; bagging_freq=2; lambda_l2=0.834 : y = 0.93 : 133.6 secs : infill_ei\n",
      "\n",
      "Saved the current state after iteration 26 in the file bayesiana.RDATA.\n",
      "\n",
      "Tue Sep 23 19:03:19 2025 AUC 0.929842847239959\n",
      "\n",
      "[mbo] 26: num_iterations=1279; learning_rate=0.0101; feature_fraction=0.25; num_leaves=689; min_data_in_leaf=419; bagging_fraction=0.857; bagging_freq=1; lambda_l2=0.741 : y = 0.93 : 89.6 secs : infill_ei\n",
      "\n",
      "Tue Sep 23 19:04:16 2025 AUC 0.92851668698392\n",
      "\n",
      "[mbo] 27: num_iterations=1235; learning_rate=0.0948; feature_fraction=0.258; num_leaves=13; min_data_in_leaf=624; bagging_fraction=0.855; bagging_freq=5; lambda_l2=0.47 : y = 0.929 : 56.6 secs : infill_ei\n",
      "\n",
      "Tue Sep 23 19:04:58 2025 AUC 0.924757739186103\n",
      "\n",
      "[mbo] 28: num_iterations=1407; learning_rate=0.0104; feature_fraction=0.876; num_leaves=96; min_data_in_leaf=5654; bagging_fraction=0.793; bagging_freq=5; lambda_l2=0.0135 : y = 0.925 : 41.4 secs : infill_ei\n",
      "\n",
      "Tue Sep 23 19:06:10 2025 AUC 0.928596180953983\n",
      "\n",
      "[mbo] 29: num_iterations=1175; learning_rate=0.0102; feature_fraction=0.26; num_leaves=57; min_data_in_leaf=1062; bagging_fraction=0.857; bagging_freq=4; lambda_l2=0.789 : y = 0.929 : 70.6 secs : infill_ei\n",
      "\n",
      "Tue Sep 23 19:08:49 2025 AUC 0.927566483461533\n",
      "\n",
      "[mbo] 30: num_iterations=1317; learning_rate=0.0103; feature_fraction=0.269; num_leaves=217; min_data_in_leaf=54; bagging_fraction=0.84; bagging_freq=2; lambda_l2=0.712 : y = 0.928 : 158.2 secs : infill_ei\n",
      "\n",
      "Tue Sep 23 19:10:25 2025 AUC 0.929935284872528\n",
      "\n",
      "[mbo] 31: num_iterations=1256; learning_rate=0.0105; feature_fraction=0.363; num_leaves=129; min_data_in_leaf=424; bagging_fraction=0.767; bagging_freq=5; lambda_l2=0.544 : y = 0.93 : 94.1 secs : infill_ei\n",
      "\n",
      "Tue Sep 23 19:11:49 2025 AUC 0.929631723381804\n",
      "\n",
      "[mbo] 32: num_iterations=965; learning_rate=0.0104; feature_fraction=0.276; num_leaves=522; min_data_in_leaf=432; bagging_fraction=0.912; bagging_freq=3; lambda_l2=0.2 : y = 0.93 : 82.5 secs : infill_ei\n",
      "\n",
      "Saved the current state after iteration 33 in the file bayesiana.RDATA.\n",
      "\n",
      "Tue Sep 23 19:12:57 2025 AUC 0.930388862338715\n",
      "\n",
      "[mbo] 33: num_iterations=838; learning_rate=0.0107; feature_fraction=0.343; num_leaves=81; min_data_in_leaf=431; bagging_fraction=0.82; bagging_freq=4; lambda_l2=0.83 : y = 0.93 : 63.3 secs : infill_ei\n",
      "\n",
      "Tue Sep 23 19:14:18 2025 AUC 0.929693257648856\n",
      "\n",
      "[mbo] 34: num_iterations=1124; learning_rate=0.0104; feature_fraction=0.292; num_leaves=77; min_data_in_leaf=505; bagging_fraction=0.783; bagging_freq=3; lambda_l2=0.677 : y = 0.93 : 79.5 secs : infill_ei\n",
      "\n",
      "Tue Sep 23 19:15:56 2025 AUC 0.929193191368997\n",
      "\n",
      "[mbo] 35: num_iterations=1148; learning_rate=0.0102; feature_fraction=0.314; num_leaves=240; min_data_in_leaf=369; bagging_fraction=0.851; bagging_freq=4; lambda_l2=0.413 : y = 0.929 : 96.4 secs : infill_ei\n",
      "\n",
      "Tue Sep 23 19:17:56 2025 AUC 0.929697630705435\n",
      "\n",
      "[mbo] 36: num_iterations=1625; learning_rate=0.0125; feature_fraction=0.234; num_leaves=93; min_data_in_leaf=407; bagging_fraction=0.833; bagging_freq=5; lambda_l2=0.927 : y = 0.93 : 119.0 secs : infill_ei\n",
      "\n",
      "Tue Sep 23 19:20:13 2025 AUC 0.929192740337756\n",
      "\n",
      "[mbo] 37: num_iterations=1474; learning_rate=0.0126; feature_fraction=0.376; num_leaves=942; min_data_in_leaf=349; bagging_fraction=0.849; bagging_freq=5; lambda_l2=0.764 : y = 0.929 : 135.8 secs : infill_ei\n",
      "\n",
      "Tue Sep 23 19:21:57 2025 AUC 0.930475804579398\n",
      "\n",
      "[mbo] 38: num_iterations=1263; learning_rate=0.01; feature_fraction=0.397; num_leaves=755; min_data_in_leaf=607; bagging_fraction=0.833; bagging_freq=2; lambda_l2=0.834 : y = 0.93 : 103.1 secs : infill_ei\n",
      "\n",
      "Saved the current state after iteration 39 in the file bayesiana.RDATA.\n",
      "\n",
      "Tue Sep 23 19:23:33 2025 AUC 0.930326396452775\n",
      "\n",
      "[mbo] 39: num_iterations=1205; learning_rate=0.0117; feature_fraction=0.251; num_leaves=69; min_data_in_leaf=457; bagging_fraction=0.845; bagging_freq=3; lambda_l2=0.771 : y = 0.93 : 89.0 secs : infill_ei\n",
      "\n",
      "Tue Sep 23 19:24:30 2025 AUC 0.930411356250324\n",
      "\n",
      "[mbo] 40: num_iterations=979; learning_rate=0.01; feature_fraction=0.18; num_leaves=369; min_data_in_leaf=721; bagging_fraction=0.853; bagging_freq=1; lambda_l2=0.824 : y = 0.93 : 55.0 secs : infill_ei\n",
      "\n",
      "Tue Sep 23 19:25:43 2025 AUC 0.930397682378337\n",
      "\n",
      "[mbo] 41: num_iterations=884; learning_rate=0.0104; feature_fraction=0.381; num_leaves=152; min_data_in_leaf=607; bagging_fraction=0.849; bagging_freq=2; lambda_l2=0.541 : y = 0.93 : 72.0 secs : infill_ei\n",
      "\n",
      "Tue Sep 23 19:27:04 2025 AUC 0.927031087218103\n",
      "\n",
      "[mbo] 42: num_iterations=1351; learning_rate=0.0121; feature_fraction=0.104; num_leaves=123; min_data_in_leaf=542; bagging_fraction=0.822; bagging_freq=4; lambda_l2=0.843 : y = 0.927 : 79.7 secs : infill_ei\n",
      "\n",
      "Tue Sep 23 19:28:59 2025 AUC 0.930498043862594\n",
      "\n",
      "[mbo] 43: num_iterations=1535; learning_rate=0.0141; feature_fraction=0.308; num_leaves=325; min_data_in_leaf=619; bagging_fraction=0.855; bagging_freq=3; lambda_l2=0.842 : y = 0.93 : 113.8 secs : infill_ei\n",
      "\n",
      "Tue Sep 23 19:30:26 2025 AUC 0.929795436916526\n",
      "\n",
      "[mbo] 44: num_iterations=1272; learning_rate=0.0105; feature_fraction=0.34; num_leaves=115; min_data_in_leaf=818; bagging_fraction=0.824; bagging_freq=3; lambda_l2=0.0588 : y = 0.93 : 85.8 secs : infill_ei\n",
      "\n",
      "Tue Sep 23 19:31:57 2025 AUC 0.929616508838897\n",
      "\n",
      "[mbo] 45: num_iterations=1287; learning_rate=0.0109; feature_fraction=0.278; num_leaves=329; min_data_in_leaf=698; bagging_fraction=0.795; bagging_freq=2; lambda_l2=0.762 : y = 0.93 : 89.3 secs : infill_ei\n",
      "\n",
      "Tue Sep 23 19:32:47 2025 AUC 0.930046902509819\n",
      "\n",
      "[mbo] 46: num_iterations=656; learning_rate=0.0109; feature_fraction=0.252; num_leaves=1366; min_data_in_leaf=617; bagging_fraction=0.875; bagging_freq=2; lambda_l2=0.74 : y = 0.93 : 49.0 secs : infill_ei\n",
      "\n",
      "Saved the current state after iteration 47 in the file bayesiana.RDATA.\n",
      "\n",
      "Tue Sep 23 19:33:54 2025 AUC 0.929066713607741\n",
      "\n",
      "[mbo] 47: num_iterations=773; learning_rate=0.0103; feature_fraction=0.173; num_leaves=531; min_data_in_leaf=332; bagging_fraction=0.83; bagging_freq=2; lambda_l2=0.804 : y = 0.929 : 61.1 secs : infill_ei\n",
      "\n",
      "Tue Sep 23 19:35:25 2025 AUC 0.93104328794757\n",
      "\n",
      "[mbo] 48: num_iterations=1502; learning_rate=0.0105; feature_fraction=0.42; num_leaves=20; min_data_in_leaf=796; bagging_fraction=0.858; bagging_freq=3; lambda_l2=0.269 : y = 0.931 : 89.5 secs : infill_ei\n",
      "\n",
      "Tue Sep 23 19:36:39 2025 AUC 0.92972786777975\n",
      "\n",
      "[mbo] 49: num_iterations=910; learning_rate=0.0544; feature_fraction=0.324; num_leaves=114; min_data_in_leaf=524; bagging_fraction=0.88; bagging_freq=4; lambda_l2=0.737 : y = 0.93 : 73.0 secs : infill_ei\n",
      "\n",
      "Tue Sep 23 19:37:57 2025 AUC 0.930477635127747\n",
      "\n",
      "[mbo] 50: num_iterations=1004; learning_rate=0.0106; feature_fraction=0.286; num_leaves=673; min_data_in_leaf=646; bagging_fraction=0.86; bagging_freq=2; lambda_l2=0.864 : y = 0.93 : 76.1 secs : infill_ei\n",
      "\n",
      "Saved the final state in the file bayesiana.RDATA\n",
      "\n"
     ]
    }
   ],
   "source": [
    "# inicio la optimizacion bayesiana, retomando si ya existe\n",
    "# es la celda mas lenta de todo el notebook\n",
    "\n",
    "if (!file.exists(kbayesiana)) {\n",
    "  bayesiana_salida <- mbo(obj.fun, learner= surr.km, control= ctrl)\n",
    "} else {\n",
    "  bayesiana_salida <- mboContinue(kbayesiana) # retomo en caso que ya exista\n",
    "}"
   ]
  },
  {
   "cell_type": "code",
   "execution_count": 21,
   "metadata": {
    "id": "ssk5nnMk6INK"
   },
   "outputs": [
    {
     "data": {
      "text/html": [
       "<style>\n",
       ".list-inline {list-style: none; margin:0; padding: 0}\n",
       ".list-inline>li {display: inline-block}\n",
       ".list-inline>li:not(:last-child)::after {content: \"\\00b7\"; padding: 0 .5ex}\n",
       "</style>\n",
       "<ol class=list-inline><li>'num_iterations'</li><li>'learning_rate'</li><li>'feature_fraction'</li><li>'num_leaves'</li><li>'min_data_in_leaf'</li><li>'bagging_fraction'</li><li>'bagging_freq'</li><li>'lambda_l2'</li><li>'y'</li><li>'dob'</li><li>'eol'</li><li>'error.message'</li><li>'exec.time'</li><li>'ei'</li><li>'error.model'</li><li>'train.time'</li><li>'prop.type'</li><li>'propose.time'</li><li>'se'</li><li>'mean'</li></ol>\n"
      ],
      "text/latex": [
       "\\begin{enumerate*}\n",
       "\\item 'num\\_iterations'\n",
       "\\item 'learning\\_rate'\n",
       "\\item 'feature\\_fraction'\n",
       "\\item 'num\\_leaves'\n",
       "\\item 'min\\_data\\_in\\_leaf'\n",
       "\\item 'bagging\\_fraction'\n",
       "\\item 'bagging\\_freq'\n",
       "\\item 'lambda\\_l2'\n",
       "\\item 'y'\n",
       "\\item 'dob'\n",
       "\\item 'eol'\n",
       "\\item 'error.message'\n",
       "\\item 'exec.time'\n",
       "\\item 'ei'\n",
       "\\item 'error.model'\n",
       "\\item 'train.time'\n",
       "\\item 'prop.type'\n",
       "\\item 'propose.time'\n",
       "\\item 'se'\n",
       "\\item 'mean'\n",
       "\\end{enumerate*}\n"
      ],
      "text/markdown": [
       "1. 'num_iterations'\n",
       "2. 'learning_rate'\n",
       "3. 'feature_fraction'\n",
       "4. 'num_leaves'\n",
       "5. 'min_data_in_leaf'\n",
       "6. 'bagging_fraction'\n",
       "7. 'bagging_freq'\n",
       "8. 'lambda_l2'\n",
       "9. 'y'\n",
       "10. 'dob'\n",
       "11. 'eol'\n",
       "12. 'error.message'\n",
       "13. 'exec.time'\n",
       "14. 'ei'\n",
       "15. 'error.model'\n",
       "16. 'train.time'\n",
       "17. 'prop.type'\n",
       "18. 'propose.time'\n",
       "19. 'se'\n",
       "20. 'mean'\n",
       "\n",
       "\n"
      ],
      "text/plain": [
       " [1] \"num_iterations\"   \"learning_rate\"    \"feature_fraction\" \"num_leaves\"      \n",
       " [5] \"min_data_in_leaf\" \"bagging_fraction\" \"bagging_freq\"     \"lambda_l2\"       \n",
       " [9] \"y\"                \"dob\"              \"eol\"              \"error.message\"   \n",
       "[13] \"exec.time\"        \"ei\"               \"error.model\"      \"train.time\"      \n",
       "[17] \"prop.type\"        \"propose.time\"     \"se\"               \"mean\"            "
      ]
     },
     "metadata": {},
     "output_type": "display_data"
    }
   ],
   "source": [
    "\n",
    "tb_bayesiana <- as.data.table(bayesiana_salida$opt.path)\n",
    "colnames( tb_bayesiana)"
   ]
  },
  {
   "cell_type": "code",
   "execution_count": 22,
   "metadata": {
    "id": "u4zq-vknhjGc"
   },
   "outputs": [],
   "source": [
    "# almaceno los resultados de la Bayesian Optimization\n",
    "# y capturo los mejores hiperparametros encontrados\n",
    "\n",
    "tb_bayesiana <- as.data.table(bayesiana_salida$opt.path)\n",
    "\n",
    "tb_bayesiana[, iter := .I]\n",
    "\n",
    "# ordeno en forma descendente por AUC = y\n",
    "setorder(tb_bayesiana, -y)\n",
    "\n",
    "# grabo para eventualmente poder utilizarlos en OTRA corrida\n",
    "fwrite( tb_bayesiana,\n",
    "  file= \"BO_log.txt\",\n",
    "  sep= \"\\t\"\n",
    ")\n",
    "\n",
    "# los mejores hiperparámetros son los que quedaron en el registro 1 de la tabla\n",
    "PARAM$out$lgbm$mejores_hiperparametros <- tb_bayesiana[\n",
    "  1, # el primero es el de mejor AUC\n",
    "  setdiff(colnames(tb_bayesiana),\n",
    "    c(\"y\",\"dob\",\"eol\",\"error.message\",\"exec.time\",\"ei\",\"error.model\",\n",
    "      \"train.time\",\"prop.type\",\"propose.time\",\"se\",\"mean\",\"iter\")),\n",
    "  with= FALSE\n",
    "]\n",
    "\n",
    "\n",
    "PARAM$out$lgbm$y <- tb_bayesiana[1, y]\n"
   ]
  },
  {
   "cell_type": "code",
   "execution_count": 23,
   "metadata": {
    "id": "E8v2eA427N8e"
   },
   "outputs": [],
   "source": [
    "write_yaml( PARAM, file=\"PARAM.yml\")"
   ]
  },
  {
   "cell_type": "code",
   "execution_count": 24,
   "metadata": {
    "id": "iBTWexVU7PGC"
   },
   "outputs": [
    {
     "name": "stdout",
     "output_type": "stream",
     "text": [
      "   num_iterations learning_rate feature_fraction num_leaves min_data_in_leaf\n",
      "            <int>         <num>            <num>      <int>            <int>\n",
      "1:           1290    0.01035084        0.2556921         41              393\n",
      "   bagging_fraction bagging_freq lambda_l2\n",
      "              <num>        <int>     <num>\n",
      "1:        0.8435213            3 0.7346643\n",
      "[1] 0.9312126\n"
     ]
    }
   ],
   "source": [
    "print(PARAM$out$lgbm$mejores_hiperparametros)\n",
    "print(PARAM$out$lgbm$y)"
   ]
  },
  {
   "cell_type": "markdown",
   "metadata": {
    "id": "TKsVZmAnhwX-"
   },
   "source": [
    "## 2.3  Produccion"
   ]
  },
  {
   "cell_type": "markdown",
   "metadata": {
    "id": "RQ_C33Tr5B_9"
   },
   "source": [
    "### Final Training\n",
    "Construyo el modelo final, que es uno solo, no hace ningun tipo de particion < training, validation, testing>]"
   ]
  },
  {
   "cell_type": "code",
   "execution_count": 25,
   "metadata": {
    "id": "eDqfyA14hzwv"
   },
   "outputs": [],
   "source": [
    "setwd(\"/content/buckets/b1/exp\")\n",
    "experimento <- paste0(\"exp\", PARAM$experimento)\n",
    "dir.create(experimento, showWarnings= FALSE)\n",
    "setwd( paste0(\"/content/buckets/b1/exp/\", experimento ))"
   ]
  },
  {
   "cell_type": "markdown",
   "metadata": {
    "id": "8qFmFivf5Iet"
   },
   "source": [
    "#### Final Training Dataset\n",
    "\n",
    "Aqui esta la gran decision de en qué meses hago el Final Training\n",
    "<br> debo utilizar los mejores hiperparámetros que encontré en la optimización bayesiana"
   ]
  },
  {
   "cell_type": "code",
   "execution_count": 26,
   "metadata": {
    "id": "lg5WVZncvc7H"
   },
   "outputs": [],
   "source": [
    "# clase01\n",
    "dataset[, clase01 := ifelse(clase_ternaria %in% c(\"BAJA+1\", \"BAJA+2\"), 1L, 0L)]"
   ]
  },
  {
   "cell_type": "code",
   "execution_count": 27,
   "metadata": {
    "id": "yc9QzXREv0xf"
   },
   "outputs": [],
   "source": [
    "dataset_train <- dataset[foto_mes %in% c(202107)]"
   ]
  },
  {
   "cell_type": "code",
   "execution_count": 28,
   "metadata": {
    "id": "thjdqEBLuvNt"
   },
   "outputs": [],
   "source": [
    "# dejo los datos en el formato que necesita LightGBM\n",
    "\n",
    "dtrain <- lgb.Dataset(\n",
    "  data= data.matrix(dataset_train[, campos_buenos, with= FALSE]),\n",
    "  label= dataset_train[, clase01]\n",
    ")"
   ]
  },
  {
   "cell_type": "markdown",
   "metadata": {
    "id": "VNUa-WSz5Oqu"
   },
   "source": [
    "#### Final Training Hyperparameters"
   ]
  },
  {
   "cell_type": "code",
   "execution_count": 29,
   "metadata": {
    "id": "FgCcvBfEwImu"
   },
   "outputs": [
    {
     "data": {
      "text/html": [
       "<dl>\n",
       "\t<dt>$boosting</dt>\n",
       "\t\t<dd>'gbdt'</dd>\n",
       "\t<dt>$objective</dt>\n",
       "\t\t<dd>'binary'</dd>\n",
       "\t<dt>$metric</dt>\n",
       "\t\t<dd>'auc'</dd>\n",
       "\t<dt>$first_metric_only</dt>\n",
       "\t\t<dd>FALSE</dd>\n",
       "\t<dt>$boost_from_average</dt>\n",
       "\t\t<dd>TRUE</dd>\n",
       "\t<dt>$feature_pre_filter</dt>\n",
       "\t\t<dd>FALSE</dd>\n",
       "\t<dt>$force_row_wise</dt>\n",
       "\t\t<dd>TRUE</dd>\n",
       "\t<dt>$verbosity</dt>\n",
       "\t\t<dd>-100</dd>\n",
       "\t<dt>$seed</dt>\n",
       "\t\t<dd>100613</dd>\n",
       "\t<dt>$max_depth</dt>\n",
       "\t\t<dd>-1</dd>\n",
       "\t<dt>$min_gain_to_split</dt>\n",
       "\t\t<dd>0</dd>\n",
       "\t<dt>$min_sum_hessian_in_leaf</dt>\n",
       "\t\t<dd>0.001</dd>\n",
       "\t<dt>$lambda_l1</dt>\n",
       "\t\t<dd>0</dd>\n",
       "\t<dt>$lambda_l2</dt>\n",
       "\t\t<dd>0.734664329370695</dd>\n",
       "\t<dt>$max_bin</dt>\n",
       "\t\t<dd>31</dd>\n",
       "\t<dt>$bagging_fraction</dt>\n",
       "\t\t<dd>0.843521259662013</dd>\n",
       "\t<dt>$pos_bagging_fraction</dt>\n",
       "\t\t<dd>1</dd>\n",
       "\t<dt>$neg_bagging_fraction</dt>\n",
       "\t\t<dd>1</dd>\n",
       "\t<dt>$is_unbalance</dt>\n",
       "\t\t<dd>FALSE</dd>\n",
       "\t<dt>$scale_pos_weight</dt>\n",
       "\t\t<dd>1</dd>\n",
       "\t<dt>$drop_rate</dt>\n",
       "\t\t<dd>0.1</dd>\n",
       "\t<dt>$max_drop</dt>\n",
       "\t\t<dd>50</dd>\n",
       "\t<dt>$skip_drop</dt>\n",
       "\t\t<dd>0.5</dd>\n",
       "\t<dt>$extra_trees</dt>\n",
       "\t\t<dd>FALSE</dd>\n",
       "\t<dt>$num_iterations</dt>\n",
       "\t\t<dd>1290</dd>\n",
       "\t<dt>$learning_rate</dt>\n",
       "\t\t<dd>0.0103508400291552</dd>\n",
       "\t<dt>$feature_fraction</dt>\n",
       "\t\t<dd>0.255692147435871</dd>\n",
       "\t<dt>$num_leaves</dt>\n",
       "\t\t<dd>41</dd>\n",
       "\t<dt>$min_data_in_leaf</dt>\n",
       "\t\t<dd>393</dd>\n",
       "\t<dt>$bagging_freq</dt>\n",
       "\t\t<dd>3</dd>\n",
       "</dl>\n"
      ],
      "text/latex": [
       "\\begin{description}\n",
       "\\item[\\$boosting] 'gbdt'\n",
       "\\item[\\$objective] 'binary'\n",
       "\\item[\\$metric] 'auc'\n",
       "\\item[\\$first\\_metric\\_only] FALSE\n",
       "\\item[\\$boost\\_from\\_average] TRUE\n",
       "\\item[\\$feature\\_pre\\_filter] FALSE\n",
       "\\item[\\$force\\_row\\_wise] TRUE\n",
       "\\item[\\$verbosity] -100\n",
       "\\item[\\$seed] 100613\n",
       "\\item[\\$max\\_depth] -1\n",
       "\\item[\\$min\\_gain\\_to\\_split] 0\n",
       "\\item[\\$min\\_sum\\_hessian\\_in\\_leaf] 0.001\n",
       "\\item[\\$lambda\\_l1] 0\n",
       "\\item[\\$lambda\\_l2] 0.734664329370695\n",
       "\\item[\\$max\\_bin] 31\n",
       "\\item[\\$bagging\\_fraction] 0.843521259662013\n",
       "\\item[\\$pos\\_bagging\\_fraction] 1\n",
       "\\item[\\$neg\\_bagging\\_fraction] 1\n",
       "\\item[\\$is\\_unbalance] FALSE\n",
       "\\item[\\$scale\\_pos\\_weight] 1\n",
       "\\item[\\$drop\\_rate] 0.1\n",
       "\\item[\\$max\\_drop] 50\n",
       "\\item[\\$skip\\_drop] 0.5\n",
       "\\item[\\$extra\\_trees] FALSE\n",
       "\\item[\\$num\\_iterations] 1290\n",
       "\\item[\\$learning\\_rate] 0.0103508400291552\n",
       "\\item[\\$feature\\_fraction] 0.255692147435871\n",
       "\\item[\\$num\\_leaves] 41\n",
       "\\item[\\$min\\_data\\_in\\_leaf] 393\n",
       "\\item[\\$bagging\\_freq] 3\n",
       "\\end{description}\n"
      ],
      "text/markdown": [
       "$boosting\n",
       ":   'gbdt'\n",
       "$objective\n",
       ":   'binary'\n",
       "$metric\n",
       ":   'auc'\n",
       "$first_metric_only\n",
       ":   FALSE\n",
       "$boost_from_average\n",
       ":   TRUE\n",
       "$feature_pre_filter\n",
       ":   FALSE\n",
       "$force_row_wise\n",
       ":   TRUE\n",
       "$verbosity\n",
       ":   -100\n",
       "$seed\n",
       ":   100613\n",
       "$max_depth\n",
       ":   -1\n",
       "$min_gain_to_split\n",
       ":   0\n",
       "$min_sum_hessian_in_leaf\n",
       ":   0.001\n",
       "$lambda_l1\n",
       ":   0\n",
       "$lambda_l2\n",
       ":   0.734664329370695\n",
       "$max_bin\n",
       ":   31\n",
       "$bagging_fraction\n",
       ":   0.843521259662013\n",
       "$pos_bagging_fraction\n",
       ":   1\n",
       "$neg_bagging_fraction\n",
       ":   1\n",
       "$is_unbalance\n",
       ":   FALSE\n",
       "$scale_pos_weight\n",
       ":   1\n",
       "$drop_rate\n",
       ":   0.1\n",
       "$max_drop\n",
       ":   50\n",
       "$skip_drop\n",
       ":   0.5\n",
       "$extra_trees\n",
       ":   FALSE\n",
       "$num_iterations\n",
       ":   1290\n",
       "$learning_rate\n",
       ":   0.0103508400291552\n",
       "$feature_fraction\n",
       ":   0.255692147435871\n",
       "$num_leaves\n",
       ":   41\n",
       "$min_data_in_leaf\n",
       ":   393\n",
       "$bagging_freq\n",
       ":   3\n",
       "\n",
       "\n"
      ],
      "text/plain": [
       "$boosting\n",
       "[1] \"gbdt\"\n",
       "\n",
       "$objective\n",
       "[1] \"binary\"\n",
       "\n",
       "$metric\n",
       "[1] \"auc\"\n",
       "\n",
       "$first_metric_only\n",
       "[1] FALSE\n",
       "\n",
       "$boost_from_average\n",
       "[1] TRUE\n",
       "\n",
       "$feature_pre_filter\n",
       "[1] FALSE\n",
       "\n",
       "$force_row_wise\n",
       "[1] TRUE\n",
       "\n",
       "$verbosity\n",
       "[1] -100\n",
       "\n",
       "$seed\n",
       "[1] 100613\n",
       "\n",
       "$max_depth\n",
       "[1] -1\n",
       "\n",
       "$min_gain_to_split\n",
       "[1] 0\n",
       "\n",
       "$min_sum_hessian_in_leaf\n",
       "[1] 0.001\n",
       "\n",
       "$lambda_l1\n",
       "[1] 0\n",
       "\n",
       "$lambda_l2\n",
       "[1] 0.7346643\n",
       "\n",
       "$max_bin\n",
       "[1] 31\n",
       "\n",
       "$bagging_fraction\n",
       "[1] 0.8435213\n",
       "\n",
       "$pos_bagging_fraction\n",
       "[1] 1\n",
       "\n",
       "$neg_bagging_fraction\n",
       "[1] 1\n",
       "\n",
       "$is_unbalance\n",
       "[1] FALSE\n",
       "\n",
       "$scale_pos_weight\n",
       "[1] 1\n",
       "\n",
       "$drop_rate\n",
       "[1] 0.1\n",
       "\n",
       "$max_drop\n",
       "[1] 50\n",
       "\n",
       "$skip_drop\n",
       "[1] 0.5\n",
       "\n",
       "$extra_trees\n",
       "[1] FALSE\n",
       "\n",
       "$num_iterations\n",
       "[1] 1290\n",
       "\n",
       "$learning_rate\n",
       "[1] 0.01035084\n",
       "\n",
       "$feature_fraction\n",
       "[1] 0.2556921\n",
       "\n",
       "$num_leaves\n",
       "[1] 41\n",
       "\n",
       "$min_data_in_leaf\n",
       "[1] 393\n",
       "\n",
       "$bagging_freq\n",
       "[1] 3\n"
      ]
     },
     "metadata": {},
     "output_type": "display_data"
    }
   ],
   "source": [
    "param_final <- modifyList(PARAM$lgbm$param_fijos,\n",
    "  PARAM$out$lgbm$mejores_hiperparametros)\n",
    "\n",
    "param_final"
   ]
  },
  {
   "cell_type": "markdown",
   "metadata": {
    "id": "TZIYn4l95TBH"
   },
   "source": [
    "#### Training\n",
    "Genero el modelo final, siempre sobre TODOS los datos de  final_train, sin hacer ningun tipo de undersampling de la clase mayoritaria"
   ]
  },
  {
   "cell_type": "code",
   "execution_count": 30,
   "metadata": {
    "id": "vPLsd4mMRe4u"
   },
   "outputs": [],
   "source": [
    "# este punto es muy SUTIL  y será revisado en la Clase 05\n",
    "\n",
    "param_normalizado <- copy(param_final)\n",
    "param_normalizado$min_data_in_leaf <-  round(param_final$min_data_in_leaf / PARAM$trainingstrategy$undersampling)"
   ]
  },
  {
   "cell_type": "code",
   "execution_count": 31,
   "metadata": {
    "id": "WRI_-taRwOXO"
   },
   "outputs": [],
   "source": [
    "  # entreno LightGBM\n",
    "\n",
    "  modelo_final <- lgb.train(\n",
    "    data= dtrain,\n",
    "    param= param_normalizado\n",
    "  )"
   ]
  },
  {
   "cell_type": "code",
   "execution_count": 32,
   "metadata": {
    "id": "_bkhnCvj0g3Q"
   },
   "outputs": [],
   "source": [
    "# ahora imprimo la importancia de variables\n",
    "\n",
    "tb_importancia <- as.data.table(lgb.importance(modelo_final))\n",
    "archivo_importancia <- \"impo.txt\"\n",
    "\n",
    "fwrite(tb_importancia,\n",
    "  file= archivo_importancia,\n",
    "  sep= \"\\t\"\n",
    ")"
   ]
  },
  {
   "cell_type": "code",
   "execution_count": 33,
   "metadata": {
    "id": "lZ3sLmbh0kFj"
   },
   "outputs": [],
   "source": [
    "# grabo a disco el modelo en un formato para seres humanos ... ponele ...\n",
    "\n",
    "lgb.save(modelo_final, \"modelo.txt\" )"
   ]
  },
  {
   "cell_type": "markdown",
   "metadata": {
    "id": "VEtp2--t5Ymg"
   },
   "source": [
    "### Scoring"
   ]
  },
  {
   "cell_type": "markdown",
   "metadata": {
    "id": "hI5008Mj5ZdI"
   },
   "source": [
    "Aplico el modelo final a los datos del futuro"
   ]
  },
  {
   "cell_type": "code",
   "execution_count": 34,
   "metadata": {
    "id": "PimBY3N_0ryP"
   },
   "outputs": [],
   "source": [
    "# aplico el modelo a los datos sin clase\n",
    "dfuture <- dataset[foto_mes == 202109]\n",
    "\n",
    "# aplico el modelo a los datos nuevos\n",
    "prediccion <- predict(\n",
    "  modelo_final,\n",
    "  data.matrix(dfuture[, campos_buenos, with= FALSE])\n",
    ")"
   ]
  },
  {
   "cell_type": "markdown",
   "metadata": {
    "id": "D26rNRh55gpw"
   },
   "source": [
    "#### Tabla Prediccion"
   ]
  },
  {
   "cell_type": "code",
   "execution_count": 35,
   "metadata": {
    "id": "RJwg7LHd11yu"
   },
   "outputs": [],
   "source": [
    "# tabla de prediccion\n",
    "\n",
    "tb_prediccion <- dfuture[, list(numero_de_cliente)]\n",
    "tb_prediccion[, prob := prediccion ]\n",
    "\n",
    "# grabo las probabilidad del modelo\n",
    "fwrite(tb_prediccion,\n",
    "  file= \"prediccion.txt\",\n",
    "  sep= \"\\t\"\n",
    ")"
   ]
  },
  {
   "cell_type": "markdown",
   "metadata": {
    "id": "jOt4eG_55ltv"
   },
   "source": [
    "Kaggle Competition Submit"
   ]
  },
  {
   "cell_type": "code",
   "execution_count": 36,
   "metadata": {
    "id": "gWW3tatE12je"
   },
   "outputs": [
    {
     "name": "stdout",
     "output_type": "stream",
     "text": [
      "Successfully submitted to LaboI 2025 BA analista sr \n",
      "Successfully submitted to LaboI 2025 BA analista sr \n",
      "Successfully submitted to LaboI 2025 BA analista sr \n",
      "Successfully submitted to LaboI 2025 BA analista sr \n",
      "Successfully submitted to LaboI 2025 BA analista sr \n"
     ]
    }
   ],
   "source": [
    "# genero archivos con los  \"envios\" mejores\n",
    "# suba TODOS los archivos a Kaggle\n",
    "\n",
    "# ordeno por probabilidad descendente\n",
    "setorder(tb_prediccion, -prob)\n",
    "\n",
    "dir.create(\"kaggle\")\n",
    "\n",
    "for (envios in PARAM$kaggle$cortes) {\n",
    "\n",
    "  tb_prediccion[, Predicted := 0L] # seteo inicial a 0\n",
    "  tb_prediccion[1:envios, Predicted := 1L] # marclo los primeros\n",
    "\n",
    "  archivo_kaggle <- paste0(\"./kaggle/KA\", PARAM$experimento, \"_\", envios, \".csv\")\n",
    "\n",
    "  # grabo el archivo\n",
    "  fwrite(tb_prediccion[, list(numero_de_cliente, Predicted)],\n",
    "    file= archivo_kaggle,\n",
    "    sep= \",\"\n",
    "  )\n",
    "\n",
    "  # subida a Kaggle, armo la linea de comando\n",
    "  comando <- \"kaggle competitions submit\"\n",
    "  competencia <- paste(\"-c\", PARAM$kaggle$competencia)\n",
    "  arch <- paste( \"-f\", archivo_kaggle)\n",
    "\n",
    "  mensaje <- paste0(\"-m 'envios=\", envios,\n",
    "  \"  semilla=\", PARAM$semilla_primigenia,\n",
    "    \"'\" )\n",
    "\n",
    "  linea <- paste( comando, competencia, arch, mensaje)\n",
    "\n",
    "  salida <- system(linea, intern=TRUE) # el submit a Kaggle\n",
    "  cat(salida, \"\\n\")\n",
    "  Sys.sleep(45)\n",
    "}"
   ]
  },
  {
   "cell_type": "code",
   "execution_count": 37,
   "metadata": {
    "id": "B9tB2X4439Hg"
   },
   "outputs": [],
   "source": [
    "write_yaml( PARAM, file=\"PARAM.yml\")"
   ]
  },
  {
   "cell_type": "code",
   "execution_count": 38,
   "metadata": {
    "id": "9zA_W25c15DP"
   },
   "outputs": [
    {
     "data": {
      "text/html": [
       "'Tue Sep 23 19:43:11 2025'"
      ],
      "text/latex": [
       "'Tue Sep 23 19:43:11 2025'"
      ],
      "text/markdown": [
       "'Tue Sep 23 19:43:11 2025'"
      ],
      "text/plain": [
       "[1] \"Tue Sep 23 19:43:11 2025\""
      ]
     },
     "metadata": {},
     "output_type": "display_data"
    }
   ],
   "source": [
    "format(Sys.time(), \"%a %b %d %X %Y\")"
   ]
  },
  {
   "cell_type": "markdown",
   "metadata": {
    "id": "UdVZucdLHzZ0"
   },
   "source": [
    "Finalmente usted deberá cargar el resultado de su corrida en la Google Sheet Colaborativa,  hoja **TareaHogar04**\n",
    "<br> Siéntase libre de agregar las columnas que hagan falta a la planilla"
   ]
  },
  {
   "cell_type": "code",
   "execution_count": null,
   "metadata": {},
   "outputs": [],
   "source": []
  }
 ],
 "metadata": {
  "colab": {
   "provenance": []
  },
  "kernelspec": {
   "display_name": "R",
   "language": "R",
   "name": "ir"
  },
  "language_info": {
   "codemirror_mode": "r",
   "file_extension": ".r",
   "mimetype": "text/x-r-source",
   "name": "R",
   "pygments_lexer": "r",
   "version": "4.4.3"
  }
 },
 "nbformat": 4,
 "nbformat_minor": 4
}
