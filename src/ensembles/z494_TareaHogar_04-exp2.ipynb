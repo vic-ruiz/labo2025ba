{
 "cells": [
  {
   "cell_type": "markdown",
   "metadata": {
    "id": "0cEmzeUKFkPh"
   },
   "source": [
    "# Tarea para el Hogar 04"
   ]
  },
  {
   "cell_type": "markdown",
   "metadata": {
    "id": "nSICPpyTGQmC"
   },
   "source": [
    "Esta Tarea para el Hogar 02 se entrega el final de la cuarta clase\n",
    "<br> se espera de usted que intente avanzar con los desafios propuestos y que los traiga terminados para la Clase 05 que será el miercoles 03 de septiembre"
   ]
  },
  {
   "cell_type": "markdown",
   "metadata": {
    "id": "DenyKXkiJ5JN"
   },
   "source": [
    "##  1. Overfitting the Public Leaderboard"
   ]
  },
  {
   "cell_type": "markdown",
   "metadata": {
    "id": "l-K2_ZsZGrVD"
   },
   "source": [
    "Leer  https://medium.com/hmif-itb/overfitting-the-leaderboard-da25172ac62e\n",
    "( 8 minutos )"
   ]
  },
  {
   "cell_type": "markdown",
   "metadata": {
    "id": "K9GkTOk5J9t3"
   },
   "source": [
    "## 2. Hiperparámetros del LightGBM"
   ]
  },
  {
   "cell_type": "markdown",
   "metadata": {
    "id": "VmEFy0ukKL5T"
   },
   "source": [
    "Los objetivos de esta tarea son:\n",
    "\n",
    "\n",
    "*   Aumentar la rentabilidad de la campaña de marketing de retención proactiva de clientes.\n",
    "*   Generar un mejor modelo optimizando sus hiperparámetros\n",
    "*   Conceptual : investigar los mas relevantes hiperparámetros de LightGBM\n",
    "*   Familiarizarse con la Bayesian Optimization, sus largos tiempos de corrida y opciones para reducirlos\n",
    "*   Familiarizarse con el uso de máquinas virtuales de Google Colab\n",
    "*   Ver un pipeline completo de optimización de hiperparámetros y puesta en producción"
   ]
  },
  {
   "cell_type": "markdown",
   "metadata": {
    "id": "5yvlS6JQLRMd"
   },
   "source": [
    "LightGBM cuenta con mas de 60 hiperparámetros, siendo posible utilizar 40 al mismo tiempo, aunque no razonable.\n",
    "<br> La documentación oficial de los hiperparámetros de LightGBM es  https://lightgbm.readthedocs.io/en/latest/Parameters.html#core-parameters\n"
   ]
  },
  {
   "cell_type": "markdown",
   "metadata": {
    "id": "eydI4YNAsFaf"
   },
   "source": [
    "Se lo alerta sobre que una Optimizacion Bayesiana lleva varias horas de corrida, y usted deberá correr VARIAS optimizaciones para descubrir cuales parámetros conviene optimizar.\n",
    "<br> A pesar que la próxima clase es recien en viernes 01 de agosto, inicie la tarea con tiempo, aprenda a planificar estratégicamente sus corridas como un@ científ@  de datos."
   ]
  },
  {
   "cell_type": "markdown",
   "metadata": {
    "id": "RzU4S0SeMcpp"
   },
   "source": [
    "Es necesario investigar cuales son los hiperparámetros de LightGBM que vale la pena optimizar en una Bayesian Optimization, ya que los realmente utiles son apenas un reducido subconjunto.\n",
    "<br>Usted deberá investigar cuales son los hiperparámetros mas relevantes de LightGBM, su primer alternativa es preguntándole a su amigo con capacidades especiales ChatGPT o sus endogámicos familiares Claude, DeepSeek, Gemini, Grok, etc\n",
    "<br> La segunda alternativa es la propia documentación de LightGBM  https://lightgbm.readthedocs.io/en/latest/Parameters-Tuning.html\n"
   ]
  },
  {
   "cell_type": "markdown",
   "metadata": {
    "id": "LNptUgI_NWWG"
   },
   "source": [
    "Adicionalmente podra buscar información como la que proveen esta diminuta muestra aleatoria de artículos ligeros:\n",
    "* https://machinelearningmastery.com/light-gradient-boosted-machine-lightgbm-ensemble/\n",
    "*  https://medium.com/@sarahzouinina/a-deep-dive-into-lightgbm-how-to-choose-and-tune-parameters-7c584945842e\n",
    "*  https://www.kaggle.com/code/somang1418/tuning-hyperparameters-under-10-minutes-lgbm\n",
    "*  https://towardsdatascience.com/beginners-guide-to-the-must-know-lightgbm-hyperparameters-a0005a812702/\n",
    "\n",
    "\n",
    "<br>  La muestra anterior se brinda a modo de ejemplo, usted deberá buscar muuuuchas  fuentes adicionales de información\n",
    "<br> Tenga presente que LightGBM es el estado del arte en modelado predictivo para datasets estructurado, que son el 90% del trabajo del 95% de los Data Scientists en Argentina."
   ]
  },
  {
   "cell_type": "markdown",
   "metadata": {
    "id": "WpUThBojODyK"
   },
   "source": [
    "El desafío de esta tarea es:\n",
    "* Qué hiperparparámetros conviene optimizar?  Las recomendaciones de los artículos ligeros es siempre sensata?  Sus autores realmente hicieron experimentos o son siemplemente escritores de entretenimiento carente de base científica?\n",
    "* Elegidos los hiperparámetros, cual es el  <desde, hasta> que se debe utilizar en la Bayesian Optimization ?\n",
    "* Realmente vale la pena optimizar 10 o 16 hiperparámetros al mismo tiempo ?  No resulta contraproducente una búsqueda en un espacio de tal alta dimensionalidad ?"
   ]
  },
  {
   "cell_type": "markdown",
   "metadata": {
    "id": "PX0qg_c0yqob"
   },
   "source": [
    "#### 2.1  Seteo del ambiente en Google Colab"
   ]
  },
  {
   "cell_type": "markdown",
   "metadata": {
    "id": "NGY7H9xza7Zr"
   },
   "source": [
    "Esta parte se debe correr con el runtime en Python3\n",
    "<br>Ir al menu, Runtime -> Change Runtime Type -> Runtime type ->  **Python 3**"
   ]
  },
  {
   "cell_type": "markdown",
   "metadata": {
    "id": "7PupIBNba7Zr"
   },
   "source": [
    "Conectar la virtual machine donde esta corriendo Google Colab con el  Google Drive, para poder tener persistencia de archivos"
   ]
  },
  {
   "cell_type": "code",
   "execution_count": null,
   "metadata": {
    "id": "9LpZCst5a7Zs"
   },
   "outputs": [],
   "source": [
    "# primero establecer el Runtime de Python 3\n",
    "from google.colab import drive\n",
    "drive.mount('/content/.drive')"
   ]
  },
  {
   "cell_type": "markdown",
   "metadata": {
    "id": "JYC_F-wla7Zs"
   },
   "source": [
    "Para correr la siguiente celda es fundamental en Arranque en Frio haber copiado el archivo kaggle.json al Google Drive, en la carpeta indicada en el instructivo\n",
    "\n",
    "<br>los siguientes comando estan en shell script de Linux\n",
    "*   Crear las carpetas en el Google Drive\n",
    "*   \"instalar\" el archivo kaggle.json desde el Google Drive a la virtual machine para que pueda ser utilizado por la libreria  kaggle de Python\n",
    "*   Bajar el  **dataset_pequeno**  al  Google Drive  y tambien al disco local de la virtual machine que esta corriendo Google Colab\n",
    "\n"
   ]
  },
  {
   "cell_type": "code",
   "execution_count": null,
   "metadata": {
    "id": "XWLelftXa7Zt"
   },
   "outputs": [],
   "source": [
    "%%shell\n",
    "\n",
    "mkdir -p \"/content/.drive/My Drive/labo1\"\n",
    "mkdir -p \"/content/buckets\"\n",
    "ln -s \"/content/.drive/My Drive/labo1\" /content/buckets/b1\n",
    "\n",
    "mkdir -p ~/.kaggle\n",
    "cp /content/buckets/b1/kaggle/kaggle.json  ~/.kaggle\n",
    "chmod 600 ~/.kaggle/kaggle.json\n",
    "\n",
    "\n",
    "mkdir -p /content/buckets/b1/exp\n",
    "mkdir -p /content/buckets/b1/datasets\n",
    "mkdir -p /content/datasets\n",
    "\n",
    "\n",
    "\n",
    "archivo_origen=\"https://storage.googleapis.com/open-courses/austral2025-af91/dataset_pequeno.csv\"\n",
    "archivo_destino=\"/content/datasets/dataset_pequeno.csv\"\n",
    "archivo_destino_bucket=\"/content/buckets/b1/datasets/dataset_pequeno.csv\"\n",
    "\n",
    "if ! test -f $archivo_destino_bucket; then\n",
    "  wget  $archivo_origen  -O $archivo_destino_bucket\n",
    "fi\n",
    "\n",
    "\n",
    "if ! test -f $archivo_destino; then\n",
    "  cp  $archivo_destino_bucket  $archivo_destino\n",
    "fi\n"
   ]
  },
  {
   "cell_type": "markdown",
   "metadata": {
    "id": "oSKhZRToy2F7"
   },
   "source": [
    "### 2.2 Optimizacion Hiperparámetros"
   ]
  },
  {
   "cell_type": "markdown",
   "metadata": {
    "id": "2kwPpHAtSmix"
   },
   "source": [
    "Esta parte se debe correr con el runtime en lenguaje R Ir al menu, Runtime -> Change Runtime Type -> Runtime type -> R"
   ]
  },
  {
   "cell_type": "markdown",
   "metadata": {
    "id": "xp4-Bj3aYI8d"
   },
   "source": [
    "### 2.2.1 Inicio"
   ]
  },
  {
   "cell_type": "markdown",
   "metadata": {
    "id": "zy8YTZfESxeJ"
   },
   "source": [
    "limpio el ambiente de R"
   ]
  },
  {
   "cell_type": "code",
   "execution_count": 20,
   "metadata": {
    "id": "gBq__iAdQliq"
   },
   "outputs": [
    {
     "data": {
      "text/html": [
       "'Mon Sep 22 23:49:35 2025'"
      ],
      "text/latex": [
       "'Mon Sep 22 23:49:35 2025'"
      ],
      "text/markdown": [
       "'Mon Sep 22 23:49:35 2025'"
      ],
      "text/plain": [
       "[1] \"Mon Sep 22 23:49:35 2025\""
      ]
     },
     "metadata": {},
     "output_type": "display_data"
    }
   ],
   "source": [
    "format(Sys.time(), \"%a %b %d %X %Y\")"
   ]
  },
  {
   "cell_type": "code",
   "execution_count": 21,
   "metadata": {
    "id": "7rdVrBojS1IV"
   },
   "outputs": [
    {
     "data": {
      "text/html": [
       "<table class=\"dataframe\">\n",
       "<caption>A matrix: 2 × 6 of type dbl</caption>\n",
       "<thead>\n",
       "\t<tr><th></th><th scope=col>used</th><th scope=col>(Mb)</th><th scope=col>gc trigger</th><th scope=col>(Mb)</th><th scope=col>max used</th><th scope=col>(Mb)</th></tr>\n",
       "</thead>\n",
       "<tbody>\n",
       "\t<tr><th scope=row>Ncells</th><td> 2091579</td><td>111.8</td><td> 3890962</td><td>207.8</td><td>  2994007</td><td>159.9</td></tr>\n",
       "\t<tr><th scope=row>Vcells</th><td>16600675</td><td>126.7</td><td>93064480</td><td>710.1</td><td>102268583</td><td>780.3</td></tr>\n",
       "</tbody>\n",
       "</table>\n"
      ],
      "text/latex": [
       "A matrix: 2 × 6 of type dbl\n",
       "\\begin{tabular}{r|llllll}\n",
       "  & used & (Mb) & gc trigger & (Mb) & max used & (Mb)\\\\\n",
       "\\hline\n",
       "\tNcells &  2091579 & 111.8 &  3890962 & 207.8 &   2994007 & 159.9\\\\\n",
       "\tVcells & 16600675 & 126.7 & 93064480 & 710.1 & 102268583 & 780.3\\\\\n",
       "\\end{tabular}\n"
      ],
      "text/markdown": [
       "\n",
       "A matrix: 2 × 6 of type dbl\n",
       "\n",
       "| <!--/--> | used | (Mb) | gc trigger | (Mb) | max used | (Mb) |\n",
       "|---|---|---|---|---|---|---|\n",
       "| Ncells |  2091579 | 111.8 |  3890962 | 207.8 |   2994007 | 159.9 |\n",
       "| Vcells | 16600675 | 126.7 | 93064480 | 710.1 | 102268583 | 780.3 |\n",
       "\n"
      ],
      "text/plain": [
       "       used     (Mb)  gc trigger (Mb)  max used  (Mb) \n",
       "Ncells  2091579 111.8  3890962   207.8   2994007 159.9\n",
       "Vcells 16600675 126.7 93064480   710.1 102268583 780.3"
      ]
     },
     "metadata": {},
     "output_type": "display_data"
    }
   ],
   "source": [
    "# limpio la memoria\n",
    "rm(list=ls(all.names=TRUE)) # remove all objects\n",
    "gc(full=TRUE, verbose=FALSE) # garbage collection"
   ]
  },
  {
   "cell_type": "markdown",
   "metadata": {
    "id": "kuPfQ7ksjwW3"
   },
   "source": [
    "### 2.2.2 Carga de Librerias"
   ]
  },
  {
   "cell_type": "code",
   "execution_count": 22,
   "metadata": {
    "id": "lVyxLaJ1j1J_"
   },
   "outputs": [],
   "source": [
    "# cargo las librerias que necesito\n",
    "require(\"data.table\")\n",
    "require(\"parallel\")\n",
    "\n",
    "if( !require(\"primes\") ) install.packages(\"primes\")\n",
    "require(\"primes\")\n",
    "\n",
    "if( !require(\"utils\") ) install.packages(\"utils\")\n",
    "require(\"utils\")\n",
    "\n",
    "if( !require(\"rlist\") ) install.packages(\"rlist\")\n",
    "require(\"rlist\")\n",
    "\n",
    "if( !require(\"yaml\")) install.packages(\"yaml\")\n",
    "require(\"yaml\")\n",
    "\n",
    "if( !require(\"lightgbm\") ) install.packages(\"lightgbm\")\n",
    "require(\"lightgbm\")\n",
    "\n",
    "if( !require(\"DiceKriging\") ) install.packages(\"DiceKriging\")\n",
    "require(\"DiceKriging\")\n",
    "\n",
    "if( !require(\"mlrMBO\") ) install.packages(\"mlrMBO\")\n",
    "require(\"mlrMBO\")"
   ]
  },
  {
   "cell_type": "markdown",
   "metadata": {
    "id": "Iz-6Qt6BUaA3"
   },
   "source": [
    "### 2.2.3 Definicion de Parametros"
   ]
  },
  {
   "cell_type": "markdown",
   "metadata": {
    "id": "cOdlKd7lUm2I"
   },
   "source": [
    "aqui debe cargar SU semilla primigenia\n",
    "<br>recuerde cambiar el numero de experimento en cada corrida nueva"
   ]
  },
  {
   "cell_type": "code",
   "execution_count": 23,
   "metadata": {
    "id": "ASYkebOu2mF6"
   },
   "outputs": [],
   "source": [
    "PARAM <- list()\n",
    "PARAM$experimento <- 4941\n",
    "PARAM$semilla_primigenia <- 100613\n"
   ]
  },
  {
   "cell_type": "code",
   "execution_count": 24,
   "metadata": {
    "id": "ezOhQdbA293o"
   },
   "outputs": [],
   "source": [
    "PARAM$kaggle$competencia <- \"labo-i-2025-ba-analista-sr\"\n",
    "PARAM$kaggle$cortes <- seq(10000, 12000, by= 500)"
   ]
  },
  {
   "cell_type": "code",
   "execution_count": 25,
   "metadata": {
    "id": "jtB0Lub42rHO"
   },
   "outputs": [],
   "source": [
    "# un undersampling de 0.1  toma solo el 10% de los CONTINUA\n",
    "# undersampling de 1.0  implica tomar TODOS los datos\n",
    "\n",
    "PARAM$trainingstrategy$undersampling <- 0.5"
   ]
  },
  {
   "cell_type": "code",
   "execution_count": 26,
   "metadata": {
    "id": "OFxm-xiNUOJX"
   },
   "outputs": [],
   "source": [
    "# Parametros LightGBM\n",
    "\n",
    "PARAM$hyperparametertuning$xval_folds <- 5\n",
    "\n",
    "# parametros fijos del LightGBM que se pisaran con la parte variable de la BO\n",
    "PARAM$lgbm$param_fijos <-  list(\n",
    "  boosting= \"gbdt\", # puede ir  dart  , ni pruebe random_forest\n",
    "  objective= \"binary\",\n",
    "  metric= \"auc\",\n",
    "  first_metric_only= FALSE,\n",
    "  boost_from_average= TRUE,\n",
    "  feature_pre_filter= FALSE,\n",
    "  force_row_wise= TRUE, # para reducir warnings\n",
    "  verbosity= -100,\n",
    "\n",
    "  seed= PARAM$semilla_primigenia,\n",
    "\n",
    "  max_depth= -1L, # -1 significa no limitar,  por ahora lo dejo fijo\n",
    "  min_gain_to_split= 0, # min_gain_to_split >= 0\n",
    "  min_sum_hessian_in_leaf= 0.001, #  min_sum_hessian_in_leaf >= 0.0\n",
    "  lambda_l1= 0.0, # lambda_l1 >= 0.0\n",
    "  lambda_l2= 0.0, # lambda_l2 >= 0.0\n",
    "  max_bin= 31L, # lo debo dejar fijo, no participa de la BO\n",
    "\n",
    "  bagging_fraction= 1.0, # 0.0 < bagging_fraction <= 1.0\n",
    "  pos_bagging_fraction= 1.0, # 0.0 < pos_bagging_fraction <= 1.0\n",
    "  neg_bagging_fraction= 1.0, # 0.0 < neg_bagging_fraction <= 1.0\n",
    "  is_unbalance= FALSE, #\n",
    "  scale_pos_weight= 1.0, # scale_pos_weight > 0.0\n",
    "\n",
    "  drop_rate= 0.1, # 0.0 < neg_bagging_fraction <= 1.0\n",
    "  max_drop= 50, # <=0 means no limit\n",
    "  skip_drop= 0.5, # 0.0 <= skip_drop <= 1.0\n",
    "\n",
    "  extra_trees= FALSE,\n",
    "\n",
    "  num_iterations= 1200,\n",
    "  learning_rate= 0.02,\n",
    "  feature_fraction= 0.5,\n",
    "  num_leaves= 750,\n",
    "  min_data_in_leaf= 5000\n",
    ")\n"
   ]
  },
  {
   "cell_type": "markdown",
   "metadata": {
    "id": "D5Yj-JV4yvOt"
   },
   "source": [
    "Aqui se definen los hiperparámetros de LightGBM que participan de la Bayesian Optimization\n",
    "<br> si es un numero entero debe ir  makeIntegerParam\n",
    "<br> si es un numero real (con decimales) debe ir  makeNumericParam\n",
    "<br> es muy importante leer cuales son un lower y upper  permitidos y ademas razonables"
   ]
  },
  {
   "cell_type": "code",
   "execution_count": 27,
   "metadata": {
    "id": "jENpR26ZyuS8"
   },
   "outputs": [],
   "source": [
    "# Aqui se cargan los bordes de los hiperparametros de la BO\n",
    "PARAM$hypeparametertuning$hs <- makeParamSet(\n",
    "  makeIntegerParam(\"num_iterations\", lower= 8L, upper= 2048L),\n",
    "  makeNumericParam(\"learning_rate\", lower= 0.01, upper= 0.3),\n",
    "  makeNumericParam(\"feature_fraction\", lower= 0.1, upper= 1.0),\n",
    "  makeIntegerParam(\"num_leaves\", lower= 8L, upper= 2048L),\n",
    "  makeIntegerParam(\"min_data_in_leaf\", lower= 1L, upper= 8000L),\n",
    "  makeNumericParam(\"bagging_fraction\", lower = 0.7, upper = 0.95),\n",
    "  makeIntegerParam(\"bagging_freq\", lower = 1L, upper = 7L)\n",
    ")"
   ]
  },
  {
   "cell_type": "markdown",
   "metadata": {
    "id": "-_RPFUb3zMoW"
   },
   "source": [
    "A mayor cantidad de hiperparámetros, se debe aumentar las iteraciones de la Bayesian Optimization\n",
    "<br> 30 es un valor muy tacaño, pero corre rápido\n",
    "<br> deberia partir de 50, alcanzando los 100 si se dispone de tiempo"
   ]
  },
  {
   "cell_type": "code",
   "execution_count": 28,
   "metadata": {
    "id": "q5Rd3pnbzSiG"
   },
   "outputs": [],
   "source": [
    "PARAM$hyperparametertuning$iteraciones <- 40 # iteraciones bayesianas"
   ]
  },
  {
   "cell_type": "markdown",
   "metadata": {
    "id": "4RWZXL1VZjMI"
   },
   "source": [
    "### 2.2.4  Preprocesamiento"
   ]
  },
  {
   "cell_type": "code",
   "execution_count": 29,
   "metadata": {
    "id": "j3toG9-lZm4K"
   },
   "outputs": [],
   "source": [
    "# carpeta de trabajo\n",
    "\n",
    "setwd(\"/content/buckets/b1/exp\")\n",
    "experimento_folder <- paste0(\"HT\", PARAM$experimento)\n",
    "dir.create(experimento_folder, showWarnings=FALSE)\n",
    "setwd( paste0(\"/content/buckets/b1/exp/\", experimento_folder ))"
   ]
  },
  {
   "cell_type": "code",
   "execution_count": 30,
   "metadata": {
    "id": "FM3lxKoLZ643"
   },
   "outputs": [],
   "source": [
    "# lectura del dataset\n",
    "\n",
    "dataset <- fread(\"/content/datasets/dataset_pequeno.csv\")"
   ]
  },
  {
   "cell_type": "code",
   "execution_count": 31,
   "metadata": {
    "id": "OsJ-91UeZ-I_"
   },
   "outputs": [],
   "source": [
    "dataset_train <- dataset[foto_mes %in% c(202107)]"
   ]
  },
  {
   "cell_type": "code",
   "execution_count": 32,
   "metadata": {
    "id": "vrWE7BE0aB2J"
   },
   "outputs": [],
   "source": [
    "# paso la clase a binaria que tome valores {0,1}  enteros\n",
    "#  BAJA+1 y BAJA+2  son  1,   CONTINUA es 0\n",
    "\n",
    "dataset_train[,\n",
    "  clase01 := ifelse(clase_ternaria %in% c(\"BAJA+2\",\"BAJA+1\"), 1L, 0L)\n",
    "]"
   ]
  },
  {
   "cell_type": "code",
   "execution_count": 33,
   "metadata": {
    "id": "jP7YlQBnaW6W"
   },
   "outputs": [],
   "source": [
    "# defino los datos que forma parte del training\n",
    "# aqui se hace el undersampling de los CONTINUA\n",
    "# notar que para esto utilizo la SEGUNDA semilla\n",
    "\n",
    "set.seed(PARAM$semilla_primigenia, kind = \"L'Ecuyer-CMRG\")\n",
    "dataset_train[, azar := runif(nrow(dataset_train))]\n",
    "dataset_train[, training := 0L]\n",
    "\n",
    "dataset_train[\n",
    "  foto_mes %in% c(202107) &\n",
    "    (azar <= PARAM$trainingstrategy$undersampling | clase_ternaria %in% c(\"BAJA+1\", \"BAJA+2\")),\n",
    "  training := 1L\n",
    "]"
   ]
  },
  {
   "cell_type": "code",
   "execution_count": 34,
   "metadata": {
    "id": "xElu4s5W4rX7"
   },
   "outputs": [],
   "source": [
    "# los campos que se van a utilizar\n",
    "\n",
    "campos_buenos <- setdiff(\n",
    "  colnames(dataset_train),\n",
    "  c(\"clase_ternaria\", \"clase01\", \"azar\", \"training\")\n",
    ")"
   ]
  },
  {
   "cell_type": "code",
   "execution_count": 35,
   "metadata": {
    "id": "PppMHcGYaaol"
   },
   "outputs": [
    {
     "data": {
      "text/html": [
       "83529"
      ],
      "text/latex": [
       "83529"
      ],
      "text/markdown": [
       "83529"
      ],
      "text/plain": [
       "[1] 83529"
      ]
     },
     "metadata": {},
     "output_type": "display_data"
    },
    {
     "data": {
      "text/html": [
       "154"
      ],
      "text/latex": [
       "154"
      ],
      "text/markdown": [
       "154"
      ],
      "text/plain": [
       "[1] 154"
      ]
     },
     "metadata": {},
     "output_type": "display_data"
    }
   ],
   "source": [
    "# dejo los datos en el formato que necesita LightGBM\n",
    "\n",
    "dtrain <- lgb.Dataset(\n",
    "  data= data.matrix(dataset_train[training == 1L, campos_buenos, with= FALSE]),\n",
    "  label= dataset_train[training == 1L, clase01],\n",
    "  free_raw_data= FALSE\n",
    ")\n",
    "\n",
    "nrow(dtrain)\n",
    "ncol(dtrain)"
   ]
  },
  {
   "cell_type": "markdown",
   "metadata": {
    "id": "Ta-EkOu3cphF"
   },
   "source": [
    "2.2.5 Configuracion Bayesian Optimization"
   ]
  },
  {
   "cell_type": "code",
   "execution_count": 36,
   "metadata": {
    "id": "cjgfurjdfiXb"
   },
   "outputs": [],
   "source": [
    "# En el argumento x llegan los parmaetros de la bayesiana\n",
    "#  devuelve la AUC en cross validation del modelo entrenado\n",
    "\n",
    "EstimarGanancia_AUC_lightgbm <- function(x) {\n",
    "\n",
    "  # x pisa (o agrega) a param_fijos\n",
    "  param_completo <- modifyList(PARAM$lgbm$param_fijos, x)\n",
    "\n",
    "  # entreno LightGBM\n",
    "  modelocv <- lgb.cv(\n",
    "    data= dtrain,\n",
    "    nfold= PARAM$hyperparametertuning$xval_folds,\n",
    "    stratified= TRUE,\n",
    "    param= param_completo\n",
    "  )\n",
    "\n",
    "  # obtengo la ganancia\n",
    "  AUC <- modelocv$best_score\n",
    "\n",
    "  # hago espacio en la memoria\n",
    "  rm(modelocv)\n",
    "  gc(full= TRUE, verbose= FALSE)\n",
    "\n",
    "  message(format(Sys.time(), \"%a %b %d %X %Y\"), \" AUC \", AUC)\n",
    "\n",
    "  return(AUC)\n",
    "}"
   ]
  },
  {
   "cell_type": "code",
   "execution_count": 37,
   "metadata": {
    "id": "WLi_o1hocvN-"
   },
   "outputs": [],
   "source": [
    "# Aqui comienza la configuracion de la Bayesian Optimization\n",
    "\n",
    "# en este archivo quedan la evolucion binaria de la BO\n",
    "kbayesiana <- \"bayesiana.RDATA\"\n",
    "\n",
    "funcion_optimizar <- EstimarGanancia_AUC_lightgbm # la funcion que voy a maximizar\n",
    "\n",
    "configureMlr(show.learner.output= FALSE)\n",
    "\n",
    "# configuro la busqueda bayesiana,  los hiperparametros que se van a optimizar\n",
    "# por favor, no desesperarse por lo complejo\n",
    "\n",
    "obj.fun <- makeSingleObjectiveFunction(\n",
    "  fn= funcion_optimizar, # la funcion que voy a maximizar\n",
    "  minimize= FALSE, # estoy Maximizando la ganancia\n",
    "  noisy= TRUE,\n",
    "  par.set= PARAM$hypeparametertuning$hs, # definido al comienzo del programa\n",
    "  has.simple.signature= FALSE # paso los parametros en una lista\n",
    ")\n",
    "\n",
    "# cada 600 segundos guardo el resultado intermedio\n",
    "ctrl <- makeMBOControl(\n",
    "  save.on.disk.at.time= 600, # se graba cada 600 segundos\n",
    "  save.file.path= kbayesiana\n",
    ") # se graba cada 600 segundos\n",
    "\n",
    "# indico la cantidad de iteraciones que va a tener la Bayesian Optimization\n",
    "ctrl <- setMBOControlTermination(\n",
    "  ctrl,\n",
    "  iters= PARAM$hyperparametertuning$iteraciones\n",
    ") # cantidad de iteraciones\n",
    "\n",
    "# defino el método estandar para la creacion de los puntos iniciales,\n",
    "# los \"No Inteligentes\"\n",
    "ctrl <- setMBOControlInfill(ctrl, crit= makeMBOInfillCritEI())\n",
    "\n",
    "# establezco la funcion que busca el maximo\n",
    "surr.km <- makeLearner(\n",
    "  \"regr.km\",\n",
    "  predict.type= \"se\",\n",
    "  covtype= \"matern3_2\",\n",
    "  control= list(trace= TRUE)\n",
    ")\n"
   ]
  },
  {
   "cell_type": "markdown",
   "metadata": {
    "id": "_uUeVo5pc4zc"
   },
   "source": [
    "2.2.6 Corrida Bayesian Optimization"
   ]
  },
  {
   "cell_type": "code",
   "execution_count": 38,
   "metadata": {
    "id": "RcABNaKGciaz"
   },
   "outputs": [
    {
     "name": "stderr",
     "output_type": "stream",
     "text": [
      "Computing y column(s) for design. Not provided.\n",
      "\n",
      "Mon Sep 22 23:51:44 2025 AUC 0.92236229681361\n",
      "\n",
      "Mon Sep 22 23:52:50 2025 AUC 0.923145338370235\n",
      "\n",
      "Mon Sep 22 23:53:21 2025 AUC 0.924817805323974\n",
      "\n",
      "Mon Sep 22 23:54:28 2025 AUC 0.926361530574598\n",
      "\n",
      "Mon Sep 22 23:55:44 2025 AUC 0.921561810888063\n",
      "\n",
      "Mon Sep 22 23:56:31 2025 AUC 0.923892728687057\n",
      "\n",
      "Mon Sep 22 23:56:56 2025 AUC 0.923723948543297\n",
      "\n",
      "Mon Sep 22 23:57:13 2025 AUC 0.923776493505484\n",
      "\n",
      "Mon Sep 22 23:58:31 2025 AUC 0.925772345654857\n",
      "\n",
      "Mon Sep 22 23:59:21 2025 AUC 0.924595751850882\n",
      "\n",
      "Mon Sep 22 23:59:47 2025 AUC 0.926176261280391\n",
      "\n",
      "Tue Sep 23 00:00:16 2025 AUC 0.920124532708942\n",
      "\n",
      "Tue Sep 23 00:00:19 2025 AUC 0.922156846065321\n",
      "\n",
      "Tue Sep 23 00:01:04 2025 AUC 0.923863458516854\n",
      "\n",
      "Tue Sep 23 00:01:23 2025 AUC 0.92302172826152\n",
      "\n",
      "Tue Sep 23 00:01:33 2025 AUC 0.922578170217561\n",
      "\n",
      "Tue Sep 23 00:02:56 2025 AUC 0.923890677096488\n",
      "\n",
      "Tue Sep 23 00:03:29 2025 AUC 0.922964287780838\n",
      "\n",
      "Tue Sep 23 00:04:22 2025 AUC 0.925885732995436\n",
      "\n",
      "Tue Sep 23 00:04:30 2025 AUC 0.924236467992774\n",
      "\n",
      "Tue Sep 23 00:05:01 2025 AUC 0.925290744738641\n",
      "\n",
      "Tue Sep 23 00:05:11 2025 AUC 0.92281548740944\n",
      "\n",
      "Tue Sep 23 00:05:46 2025 AUC 0.928124953399217\n",
      "\n",
      "Tue Sep 23 00:07:01 2025 AUC 0.922800311801722\n",
      "\n",
      "Tue Sep 23 00:09:05 2025 AUC 0.922087456468011\n",
      "\n",
      "Tue Sep 23 00:10:52 2025 AUC 0.924953445466412\n",
      "\n",
      "Tue Sep 23 00:12:05 2025 AUC 0.924093667552106\n",
      "\n",
      "Tue Sep 23 00:12:41 2025 AUC 0.923109367467396\n",
      "\n",
      "[mbo] 0: num_iterations=1151; learning_rate=0.199; feature_fraction=0.228; num_leaves=809; min_data_in_leaf=4520; bagging_fraction=0.84; bagging_freq=4 : y = 0.922 : 53.9 secs : initdesign\n",
      "\n",
      "[mbo] 0: num_iterations=1339; learning_rate=0.243; feature_fraction=0.321; num_leaves=1500; min_data_in_leaf=2494; bagging_fraction=0.803; bagging_freq=7 : y = 0.923 : 66.3 secs : initdesign\n",
      "\n",
      "[mbo] 0: num_iterations=910; learning_rate=0.171; feature_fraction=0.826; num_leaves=1625; min_data_in_leaf=3976; bagging_fraction=0.785; bagging_freq=4 : y = 0.925 : 30.7 secs : initdesign\n",
      "\n",
      "[mbo] 0: num_iterations=1203; learning_rate=0.0437; feature_fraction=0.363; num_leaves=338; min_data_in_leaf=3410; bagging_fraction=0.896; bagging_freq=3 : y = 0.926 : 66.5 secs : initdesign\n",
      "\n",
      "[mbo] 0: num_iterations=1783; learning_rate=0.268; feature_fraction=0.338; num_leaves=1376; min_data_in_leaf=6887; bagging_fraction=0.725; bagging_freq=3 : y = 0.922 : 76.7 secs : initdesign\n",
      "\n",
      "[mbo] 0: num_iterations=962; learning_rate=0.215; feature_fraction=0.28; num_leaves=1175; min_data_in_leaf=3500; bagging_fraction=0.859; bagging_freq=6 : y = 0.924 : 47.2 secs : initdesign\n",
      "\n",
      "[mbo] 0: num_iterations=515; learning_rate=0.103; feature_fraction=0.558; num_leaves=1405; min_data_in_leaf=7681; bagging_fraction=0.849; bagging_freq=5 : y = 0.924 : 24.4 secs : initdesign\n",
      "\n",
      "[mbo] 0: num_iterations=338; learning_rate=0.152; feature_fraction=0.475; num_leaves=781; min_data_in_leaf=3004; bagging_fraction=0.741; bagging_freq=6 : y = 0.924 : 16.8 secs : initdesign\n",
      "\n",
      "[mbo] 0: num_iterations=1649; learning_rate=0.0637; feature_fraction=0.396; num_leaves=1935; min_data_in_leaf=5822; bagging_fraction=0.829; bagging_freq=5 : y = 0.926 : 78.8 secs : initdesign\n",
      "\n",
      "[mbo] 0: num_iterations=1049; learning_rate=0.112; feature_fraction=0.592; num_leaves=122; min_data_in_leaf=4046; bagging_fraction=0.77; bagging_freq=2 : y = 0.925 : 49.9 secs : initdesign\n",
      "\n",
      "[mbo] 0: num_iterations=564; learning_rate=0.127; feature_fraction=0.852; num_leaves=1257; min_data_in_leaf=2675; bagging_fraction=0.903; bagging_freq=3 : y = 0.926 : 26.1 secs : initdesign\n",
      "\n",
      "[mbo] 0: num_iterations=666; learning_rate=0.226; feature_fraction=0.13; num_leaves=1785; min_data_in_leaf=1836; bagging_fraction=0.73; bagging_freq=6 : y = 0.92 : 28.3 secs : initdesign\n",
      "\n",
      "[mbo] 0: num_iterations=117; learning_rate=0.086; feature_fraction=0.779; num_leaves=1830; min_data_in_leaf=5124; bagging_fraction=0.762; bagging_freq=1 : y = 0.922 : 3.4 secs : initdesign\n",
      "\n",
      "[mbo] 0: num_iterations=1516; learning_rate=0.258; feature_fraction=0.687; num_leaves=1094; min_data_in_leaf=5182; bagging_fraction=0.815; bagging_freq=6 : y = 0.924 : 44.6 secs : initdesign\n",
      "\n",
      "[mbo] 0: num_iterations=386; learning_rate=0.236; feature_fraction=0.873; num_leaves=425; min_data_in_leaf=984; bagging_fraction=0.873; bagging_freq=1 : y = 0.923 : 19.7 secs : initdesign\n",
      "\n",
      "[mbo] 0: num_iterations=200; learning_rate=0.056; feature_fraction=0.452; num_leaves=950; min_data_in_leaf=6221; bagging_fraction=0.822; bagging_freq=1 : y = 0.923 : 9.4 secs : initdesign\n",
      "\n",
      "[mbo] 0: num_iterations=2022; learning_rate=0.12; feature_fraction=0.145; num_leaves=16; min_data_in_leaf=2282; bagging_fraction=0.748; bagging_freq=4 : y = 0.924 : 82.7 secs : initdesign\n",
      "\n",
      "[mbo] 0: num_iterations=1286; learning_rate=0.0149; feature_fraction=0.671; num_leaves=967; min_data_in_leaf=7793; bagging_fraction=0.796; bagging_freq=7 : y = 0.923 : 33.1 secs : initdesign\n",
      "\n",
      "[mbo] 0: num_iterations=1438; learning_rate=0.0307; feature_fraction=0.735; num_leaves=578; min_data_in_leaf=5443; bagging_fraction=0.937; bagging_freq=3 : y = 0.926 : 53.6 secs : initdesign\n",
      "\n",
      "[mbo] 0: num_iterations=61; learning_rate=0.0762; feature_fraction=0.241; num_leaves=671; min_data_in_leaf=155; bagging_fraction=0.908; bagging_freq=5 : y = 0.924 : 8.2 secs : initdesign\n",
      "\n",
      "[mbo] 0: num_iterations=766; learning_rate=0.176; feature_fraction=0.626; num_leaves=1999; min_data_in_leaf=4718; bagging_fraction=0.942; bagging_freq=7 : y = 0.925 : 30.6 secs : initdesign\n",
      "\n",
      "[mbo] 0: num_iterations=280; learning_rate=0.29; feature_fraction=0.959; num_leaves=1111; min_data_in_leaf=6757; bagging_fraction=0.772; bagging_freq=2 : y = 0.923 : 10.1 secs : initdesign\n",
      "\n",
      "[mbo] 0: num_iterations=654; learning_rate=0.0366; feature_fraction=0.497; num_leaves=1602; min_data_in_leaf=1547; bagging_fraction=0.702; bagging_freq=5 : y = 0.928 : 34.7 secs : initdesign\n",
      "\n",
      "[mbo] 0: num_iterations=1947; learning_rate=0.287; feature_fraction=0.983; num_leaves=286; min_data_in_leaf=7195; bagging_fraction=0.916; bagging_freq=2 : y = 0.923 : 75.6 secs : initdesign\n",
      "\n",
      "[mbo] 0: num_iterations=1562; learning_rate=0.27; feature_fraction=0.55; num_leaves=1716; min_data_in_leaf=551; bagging_fraction=0.885; bagging_freq=2 : y = 0.922 : 123.1 secs : initdesign\n",
      "\n",
      "[mbo] 0: num_iterations=1739; learning_rate=0.164; feature_fraction=0.758; num_leaves=161; min_data_in_leaf=604; bagging_fraction=0.925; bagging_freq=7 : y = 0.925 : 107.2 secs : initdesign\n",
      "\n",
      "[mbo] 0: num_iterations=1868; learning_rate=0.141; feature_fraction=0.93; num_leaves=511; min_data_in_leaf=1269; bagging_fraction=0.711; bagging_freq=1 : y = 0.924 : 73.3 secs : initdesign\n",
      "\n",
      "[mbo] 0: num_iterations=815; learning_rate=0.187; feature_fraction=0.195; num_leaves=652; min_data_in_leaf=6335; bagging_fraction=0.866; bagging_freq=4 : y = 0.923 : 35.9 secs : initdesign\n",
      "\n",
      "Saved the current state after iteration 1 in the file bayesiana.RDATA.\n",
      "\n",
      "Tue Sep 23 00:13:42 2025 AUC 0.926975200113776\n",
      "\n",
      "[mbo] 1: num_iterations=1324; learning_rate=0.0314; feature_fraction=0.623; num_leaves=1617; min_data_in_leaf=2087; bagging_fraction=0.761; bagging_freq=5 : y = 0.927 : 57.1 secs : infill_ei\n",
      "\n",
      "Tue Sep 23 00:14:13 2025 AUC 0.927692262969509\n",
      "\n",
      "[mbo] 2: num_iterations=572; learning_rate=0.0361; feature_fraction=0.472; num_leaves=1889; min_data_in_leaf=1606; bagging_fraction=0.7; bagging_freq=4 : y = 0.928 : 30.9 secs : infill_ei\n",
      "\n",
      "Tue Sep 23 00:14:57 2025 AUC 0.928288285440774\n",
      "\n",
      "[mbo] 3: num_iterations=781; learning_rate=0.0216; feature_fraction=0.451; num_leaves=1106; min_data_in_leaf=1247; bagging_fraction=0.7; bagging_freq=5 : y = 0.928 : 42.8 secs : infill_ei\n",
      "\n",
      "Tue Sep 23 00:15:51 2025 AUC 0.930471220438796\n",
      "\n",
      "[mbo] 4: num_iterations=724; learning_rate=0.0164; feature_fraction=0.34; num_leaves=1960; min_data_in_leaf=415; bagging_fraction=0.7; bagging_freq=5 : y = 0.93 : 53.5 secs : infill_ei\n",
      "\n",
      "Tue Sep 23 00:16:51 2025 AUC 0.925162053181325\n",
      "\n",
      "[mbo] 5: num_iterations=1517; learning_rate=0.0105; feature_fraction=0.164; num_leaves=1950; min_data_in_leaf=3237; bagging_fraction=0.7; bagging_freq=5 : y = 0.925 : 59.3 secs : infill_ei\n",
      "\n",
      "Tue Sep 23 00:23:46 2025 AUC 0.924318509708467\n",
      "\n",
      "[mbo] 6: num_iterations=759; learning_rate=0.0102; feature_fraction=0.357; num_leaves=2035; min_data_in_leaf=6; bagging_fraction=0.746; bagging_freq=6 : y = 0.924 : 413.7 secs : infill_ei\n",
      "\n",
      "Saved the current state after iteration 7 in the file bayesiana.RDATA.\n",
      "\n",
      "Tue Sep 23 00:24:24 2025 AUC 0.926153764039529\n",
      "\n",
      "[mbo] 7: num_iterations=699; learning_rate=0.0114; feature_fraction=0.249; num_leaves=1520; min_data_in_leaf=1595; bagging_fraction=0.701; bagging_freq=5 : y = 0.926 : 32.7 secs : infill_ei\n",
      "\n",
      "Tue Sep 23 00:30:23 2025 AUC 0.928017080957295\n",
      "\n",
      "[mbo] 8: num_iterations=1612; learning_rate=0.016; feature_fraction=0.377; num_leaves=1960; min_data_in_leaf=74; bagging_fraction=0.787; bagging_freq=5 : y = 0.928 : 357.5 secs : infill_ei\n",
      "\n",
      "Tue Sep 23 00:30:59 2025 AUC 0.927645060775974\n",
      "\n",
      "[mbo] 9: num_iterations=732; learning_rate=0.0181; feature_fraction=0.269; num_leaves=1828; min_data_in_leaf=1605; bagging_fraction=0.707; bagging_freq=5 : y = 0.928 : 35.6 secs : infill_ei\n",
      "\n",
      "Tue Sep 23 00:32:10 2025 AUC 0.927398252026119\n",
      "\n",
      "[mbo] 10: num_iterations=1275; learning_rate=0.0422; feature_fraction=0.348; num_leaves=700; min_data_in_leaf=1006; bagging_fraction=0.701; bagging_freq=5 : y = 0.927 : 70.0 secs : infill_ei\n",
      "\n",
      "Tue Sep 23 00:32:51 2025 AUC 0.927940855207075\n",
      "\n",
      "[mbo] 11: num_iterations=338; learning_rate=0.0261; feature_fraction=0.376; num_leaves=1990; min_data_in_leaf=173; bagging_fraction=0.704; bagging_freq=5 : y = 0.928 : 40.0 secs : infill_ei\n",
      "\n",
      "Tue Sep 23 00:33:38 2025 AUC 0.923203709534048\n",
      "\n",
      "[mbo] 12: num_iterations=672; learning_rate=0.155; feature_fraction=0.363; num_leaves=1680; min_data_in_leaf=569; bagging_fraction=0.7; bagging_freq=6 : y = 0.923 : 46.7 secs : infill_ei\n",
      "\n",
      "Tue Sep 23 00:34:53 2025 AUC 0.930213767901517\n",
      "\n",
      "[mbo] 13: num_iterations=858; learning_rate=0.0156; feature_fraction=0.35; num_leaves=2013; min_data_in_leaf=558; bagging_fraction=0.918; bagging_freq=5 : y = 0.93 : 73.3 secs : infill_ei\n",
      "\n",
      "Saved the current state after iteration 14 in the file bayesiana.RDATA.\n",
      "\n",
      "Tue Sep 23 00:36:16 2025 AUC 0.929754572718982\n",
      "\n",
      "[mbo] 14: num_iterations=934; learning_rate=0.0198; feature_fraction=0.485; num_leaves=1895; min_data_in_leaf=482; bagging_fraction=0.784; bagging_freq=5 : y = 0.93 : 79.6 secs : infill_ei\n",
      "\n",
      "Tue Sep 23 00:37:00 2025 AUC 0.929454926096413\n",
      "\n",
      "[mbo] 15: num_iterations=603; learning_rate=0.0164; feature_fraction=0.3; num_leaves=1009; min_data_in_leaf=501; bagging_fraction=0.754; bagging_freq=5 : y = 0.929 : 42.7 secs : infill_ei\n",
      "\n",
      "Tue Sep 23 00:37:15 2025 AUC 0.9251236993541\n",
      "\n",
      "[mbo] 16: num_iterations=169; learning_rate=0.0167; feature_fraction=0.381; num_leaves=1845; min_data_in_leaf=580; bagging_fraction=0.848; bagging_freq=4 : y = 0.925 : 14.5 secs : infill_ei\n",
      "\n",
      "Tue Sep 23 00:39:22 2025 AUC 0.929004086566104\n",
      "\n",
      "[mbo] 17: num_iterations=849; learning_rate=0.0169; feature_fraction=0.364; num_leaves=1877; min_data_in_leaf=136; bagging_fraction=0.774; bagging_freq=5 : y = 0.929 : 125.5 secs : infill_ei\n",
      "\n",
      "Tue Sep 23 00:40:11 2025 AUC 0.930742427573957\n",
      "\n",
      "[mbo] 18: num_iterations=688; learning_rate=0.0195; feature_fraction=0.33; num_leaves=1791; min_data_in_leaf=690; bagging_fraction=0.816; bagging_freq=5 : y = 0.931 : 48.7 secs : infill_ei\n",
      "\n",
      "Tue Sep 23 00:40:30 2025 AUC 0.919129033956847\n",
      "\n",
      "[mbo] 19: num_iterations=333; learning_rate=0.01; feature_fraction=0.327; num_leaves=1834; min_data_in_leaf=2569; bagging_fraction=0.895; bagging_freq=5 : y = 0.919 : 18.2 secs : infill_ei\n",
      "\n",
      "Tue Sep 23 00:41:41 2025 AUC 0.928931623870294\n",
      "\n",
      "[mbo] 20: num_iterations=1024; learning_rate=0.018; feature_fraction=0.334; num_leaves=1633; min_data_in_leaf=678; bagging_fraction=0.769; bagging_freq=5 : y = 0.929 : 69.4 secs : infill_ei\n",
      "\n",
      "Tue Sep 23 00:42:37 2025 AUC 0.9311342994871\n",
      "\n",
      "[mbo] 21: num_iterations=612; learning_rate=0.0205; feature_fraction=0.493; num_leaves=958; min_data_in_leaf=470; bagging_fraction=0.843; bagging_freq=5 : y = 0.931 : 54.9 secs : infill_ei\n",
      "\n",
      "Tue Sep 23 00:43:52 2025 AUC 0.929723911195701\n",
      "\n",
      "[mbo] 22: num_iterations=704; learning_rate=0.0216; feature_fraction=0.522; num_leaves=1840; min_data_in_leaf=415; bagging_fraction=0.891; bagging_freq=4 : y = 0.93 : 73.7 secs : infill_ei\n",
      "\n",
      "Tue Sep 23 00:44:40 2025 AUC 0.929631678318815\n",
      "\n",
      "[mbo] 23: num_iterations=542; learning_rate=0.0206; feature_fraction=0.635; num_leaves=1677; min_data_in_leaf=481; bagging_fraction=0.877; bagging_freq=5 : y = 0.93 : 47.0 secs : infill_ei\n",
      "\n",
      "Tue Sep 23 00:44:54 2025 AUC 0.926029336245515\n",
      "\n",
      "[mbo] 24: num_iterations=150; learning_rate=0.0202; feature_fraction=0.341; num_leaves=1557; min_data_in_leaf=410; bagging_fraction=0.799; bagging_freq=5 : y = 0.926 : 12.4 secs : infill_ei\n",
      "\n",
      "Tue Sep 23 00:45:58 2025 AUC 0.928948392963391\n",
      "\n",
      "[mbo] 25: num_iterations=701; learning_rate=0.0281; feature_fraction=0.499; num_leaves=1062; min_data_in_leaf=482; bagging_fraction=0.833; bagging_freq=5 : y = 0.929 : 63.0 secs : infill_ei\n",
      "\n",
      "Saved the current state after iteration 26 in the file bayesiana.RDATA.\n",
      "\n",
      "Tue Sep 23 00:47:01 2025 AUC 0.929478336671447\n",
      "\n",
      "[mbo] 26: num_iterations=643; learning_rate=0.0197; feature_fraction=0.429; num_leaves=1283; min_data_in_leaf=503; bagging_fraction=0.897; bagging_freq=5 : y = 0.929 : 57.9 secs : infill_ei\n",
      "\n",
      "Tue Sep 23 00:48:01 2025 AUC 0.92857770091316\n",
      "\n",
      "[mbo] 27: num_iterations=911; learning_rate=0.0222; feature_fraction=0.244; num_leaves=1764; min_data_in_leaf=626; bagging_fraction=0.786; bagging_freq=5 : y = 0.929 : 59.6 secs : infill_ei\n",
      "\n",
      "Tue Sep 23 00:49:43 2025 AUC 0.9287729421345\n",
      "\n",
      "[mbo] 28: num_iterations=1016; learning_rate=0.0193; feature_fraction=0.351; num_leaves=1989; min_data_in_leaf=354; bagging_fraction=0.877; bagging_freq=5 : y = 0.929 : 101.5 secs : infill_ei\n",
      "\n",
      "Tue Sep 23 00:50:37 2025 AUC 0.929044269177759\n",
      "\n",
      "[mbo] 29: num_iterations=647; learning_rate=0.0199; feature_fraction=0.684; num_leaves=849; min_data_in_leaf=448; bagging_fraction=0.827; bagging_freq=5 : y = 0.929 : 52.2 secs : infill_ei\n",
      "\n",
      "Tue Sep 23 00:51:28 2025 AUC 0.930342918132217\n",
      "\n",
      "[mbo] 30: num_iterations=569; learning_rate=0.0201; feature_fraction=0.448; num_leaves=761; min_data_in_leaf=476; bagging_fraction=0.868; bagging_freq=5 : y = 0.93 : 50.3 secs : infill_ei\n",
      "\n",
      "Tue Sep 23 00:52:22 2025 AUC 0.930434456429827\n",
      "\n",
      "[mbo] 31: num_iterations=565; learning_rate=0.0216; feature_fraction=0.507; num_leaves=1003; min_data_in_leaf=413; bagging_fraction=0.809; bagging_freq=5 : y = 0.93 : 52.3 secs : infill_ei\n",
      "\n",
      "Tue Sep 23 00:53:12 2025 AUC 0.929722594185443\n",
      "\n",
      "[mbo] 32: num_iterations=709; learning_rate=0.0184; feature_fraction=0.429; num_leaves=1945; min_data_in_leaf=600; bagging_fraction=0.712; bagging_freq=5 : y = 0.93 : 48.8 secs : infill_ei\n",
      "\n",
      "Tue Sep 23 00:54:55 2025 AUC 0.929758519703761\n",
      "\n",
      "[mbo] 33: num_iterations=1102; learning_rate=0.0154; feature_fraction=0.512; num_leaves=482; min_data_in_leaf=450; bagging_fraction=0.854; bagging_freq=5 : y = 0.93 : 102.4 secs : infill_ei\n",
      "\n",
      "Tue Sep 23 00:55:44 2025 AUC 0.929420410510788\n",
      "\n",
      "[mbo] 34: num_iterations=616; learning_rate=0.0209; feature_fraction=0.461; num_leaves=1639; min_data_in_leaf=627; bagging_fraction=0.835; bagging_freq=5 : y = 0.929 : 48.4 secs : infill_ei\n",
      "\n",
      "Tue Sep 23 00:56:52 2025 AUC 0.928192303530721\n",
      "\n",
      "[mbo] 35: num_iterations=715; learning_rate=0.0174; feature_fraction=0.513; num_leaves=607; min_data_in_leaf=528; bagging_fraction=0.924; bagging_freq=5 : y = 0.928 : 66.6 secs : infill_ei\n",
      "\n",
      "Saved the current state after iteration 36 in the file bayesiana.RDATA.\n",
      "\n",
      "Tue Sep 23 00:58:22 2025 AUC 0.930040673604563\n",
      "\n",
      "[mbo] 36: num_iterations=1071; learning_rate=0.0155; feature_fraction=0.463; num_leaves=953; min_data_in_leaf=649; bagging_fraction=0.834; bagging_freq=5 : y = 0.93 : 82.3 secs : infill_ei\n",
      "\n",
      "Tue Sep 23 00:59:33 2025 AUC 0.930850092827818\n",
      "\n",
      "[mbo] 37: num_iterations=927; learning_rate=0.0159; feature_fraction=0.561; num_leaves=1795; min_data_in_leaf=801; bagging_fraction=0.861; bagging_freq=5 : y = 0.931 : 69.7 secs : infill_ei\n",
      "\n",
      "Tue Sep 23 01:00:54 2025 AUC 0.930183005932799\n",
      "\n",
      "[mbo] 38: num_iterations=935; learning_rate=0.0175; feature_fraction=0.541; num_leaves=1483; min_data_in_leaf=604; bagging_fraction=0.851; bagging_freq=4 : y = 0.93 : 80.2 secs : infill_ei\n",
      "\n",
      "Tue Sep 23 01:02:22 2025 AUC 0.929640808161347\n",
      "\n",
      "[mbo] 39: num_iterations=1086; learning_rate=0.0202; feature_fraction=0.475; num_leaves=952; min_data_in_leaf=603; bagging_fraction=0.829; bagging_freq=5 : y = 0.93 : 86.4 secs : infill_ei\n",
      "\n",
      "Tue Sep 23 01:03:29 2025 AUC 0.929767406158768\n",
      "\n",
      "[mbo] 40: num_iterations=720; learning_rate=0.0138; feature_fraction=0.511; num_leaves=1064; min_data_in_leaf=474; bagging_fraction=0.848; bagging_freq=5 : y = 0.93 : 66.2 secs : infill_ei\n",
      "\n",
      "Saved the final state in the file bayesiana.RDATA\n",
      "\n"
     ]
    }
   ],
   "source": [
    "# inicio la optimizacion bayesiana, retomando si ya existe\n",
    "# es la celda mas lenta de todo el notebook\n",
    "\n",
    "if (!file.exists(kbayesiana)) {\n",
    "  bayesiana_salida <- mbo(obj.fun, learner= surr.km, control= ctrl)\n",
    "} else {\n",
    "  bayesiana_salida <- mboContinue(kbayesiana) # retomo en caso que ya exista\n",
    "}"
   ]
  },
  {
   "cell_type": "code",
   "execution_count": 39,
   "metadata": {
    "id": "ssk5nnMk6INK"
   },
   "outputs": [
    {
     "data": {
      "text/html": [
       "<style>\n",
       ".list-inline {list-style: none; margin:0; padding: 0}\n",
       ".list-inline>li {display: inline-block}\n",
       ".list-inline>li:not(:last-child)::after {content: \"\\00b7\"; padding: 0 .5ex}\n",
       "</style>\n",
       "<ol class=list-inline><li>'num_iterations'</li><li>'learning_rate'</li><li>'feature_fraction'</li><li>'num_leaves'</li><li>'min_data_in_leaf'</li><li>'bagging_fraction'</li><li>'bagging_freq'</li><li>'y'</li><li>'dob'</li><li>'eol'</li><li>'error.message'</li><li>'exec.time'</li><li>'ei'</li><li>'error.model'</li><li>'train.time'</li><li>'prop.type'</li><li>'propose.time'</li><li>'se'</li><li>'mean'</li></ol>\n"
      ],
      "text/latex": [
       "\\begin{enumerate*}\n",
       "\\item 'num\\_iterations'\n",
       "\\item 'learning\\_rate'\n",
       "\\item 'feature\\_fraction'\n",
       "\\item 'num\\_leaves'\n",
       "\\item 'min\\_data\\_in\\_leaf'\n",
       "\\item 'bagging\\_fraction'\n",
       "\\item 'bagging\\_freq'\n",
       "\\item 'y'\n",
       "\\item 'dob'\n",
       "\\item 'eol'\n",
       "\\item 'error.message'\n",
       "\\item 'exec.time'\n",
       "\\item 'ei'\n",
       "\\item 'error.model'\n",
       "\\item 'train.time'\n",
       "\\item 'prop.type'\n",
       "\\item 'propose.time'\n",
       "\\item 'se'\n",
       "\\item 'mean'\n",
       "\\end{enumerate*}\n"
      ],
      "text/markdown": [
       "1. 'num_iterations'\n",
       "2. 'learning_rate'\n",
       "3. 'feature_fraction'\n",
       "4. 'num_leaves'\n",
       "5. 'min_data_in_leaf'\n",
       "6. 'bagging_fraction'\n",
       "7. 'bagging_freq'\n",
       "8. 'y'\n",
       "9. 'dob'\n",
       "10. 'eol'\n",
       "11. 'error.message'\n",
       "12. 'exec.time'\n",
       "13. 'ei'\n",
       "14. 'error.model'\n",
       "15. 'train.time'\n",
       "16. 'prop.type'\n",
       "17. 'propose.time'\n",
       "18. 'se'\n",
       "19. 'mean'\n",
       "\n",
       "\n"
      ],
      "text/plain": [
       " [1] \"num_iterations\"   \"learning_rate\"    \"feature_fraction\" \"num_leaves\"      \n",
       " [5] \"min_data_in_leaf\" \"bagging_fraction\" \"bagging_freq\"     \"y\"               \n",
       " [9] \"dob\"              \"eol\"              \"error.message\"    \"exec.time\"       \n",
       "[13] \"ei\"               \"error.model\"      \"train.time\"       \"prop.type\"       \n",
       "[17] \"propose.time\"     \"se\"               \"mean\"            "
      ]
     },
     "metadata": {},
     "output_type": "display_data"
    }
   ],
   "source": [
    "\n",
    "tb_bayesiana <- as.data.table(bayesiana_salida$opt.path)\n",
    "colnames( tb_bayesiana)"
   ]
  },
  {
   "cell_type": "code",
   "execution_count": 40,
   "metadata": {
    "id": "u4zq-vknhjGc"
   },
   "outputs": [],
   "source": [
    "# almaceno los resultados de la Bayesian Optimization\n",
    "# y capturo los mejores hiperparametros encontrados\n",
    "\n",
    "tb_bayesiana <- as.data.table(bayesiana_salida$opt.path)\n",
    "\n",
    "tb_bayesiana[, iter := .I]\n",
    "\n",
    "# ordeno en forma descendente por AUC = y\n",
    "setorder(tb_bayesiana, -y)\n",
    "\n",
    "# grabo para eventualmente poder utilizarlos en OTRA corrida\n",
    "fwrite( tb_bayesiana,\n",
    "  file= \"BO_log.txt\",\n",
    "  sep= \"\\t\"\n",
    ")\n",
    "\n",
    "# los mejores hiperparámetros son los que quedaron en el registro 1 de la tabla\n",
    "PARAM$out$lgbm$mejores_hiperparametros <- tb_bayesiana[\n",
    "  1, # el primero es el de mejor AUC\n",
    "  setdiff(colnames(tb_bayesiana),\n",
    "    c(\"y\",\"dob\",\"eol\",\"error.message\",\"exec.time\",\"ei\",\"error.model\",\n",
    "      \"train.time\",\"prop.type\",\"propose.time\",\"se\",\"mean\",\"iter\")),\n",
    "  with= FALSE\n",
    "]\n",
    "\n",
    "\n",
    "PARAM$out$lgbm$y <- tb_bayesiana[1, y]\n"
   ]
  },
  {
   "cell_type": "code",
   "execution_count": 41,
   "metadata": {
    "id": "E8v2eA427N8e"
   },
   "outputs": [],
   "source": [
    "write_yaml( PARAM, file=\"PARAM.yml\")"
   ]
  },
  {
   "cell_type": "code",
   "execution_count": 42,
   "metadata": {
    "id": "iBTWexVU7PGC"
   },
   "outputs": [
    {
     "name": "stdout",
     "output_type": "stream",
     "text": [
      "   num_iterations learning_rate feature_fraction num_leaves min_data_in_leaf\n",
      "            <int>         <num>            <num>      <int>            <int>\n",
      "1:            612    0.02048824        0.4928955        958              470\n",
      "   bagging_fraction bagging_freq\n",
      "              <num>        <int>\n",
      "1:        0.8428442            5\n",
      "[1] 0.9311343\n"
     ]
    }
   ],
   "source": [
    "print(PARAM$out$lgbm$mejores_hiperparametros)\n",
    "print(PARAM$out$lgbm$y)"
   ]
  },
  {
   "cell_type": "markdown",
   "metadata": {
    "id": "TKsVZmAnhwX-"
   },
   "source": [
    "## 2.3  Produccion"
   ]
  },
  {
   "cell_type": "markdown",
   "metadata": {
    "id": "RQ_C33Tr5B_9"
   },
   "source": [
    "### Final Training\n",
    "Construyo el modelo final, que es uno solo, no hace ningun tipo de particion < training, validation, testing>]"
   ]
  },
  {
   "cell_type": "code",
   "execution_count": 43,
   "metadata": {
    "id": "eDqfyA14hzwv"
   },
   "outputs": [],
   "source": [
    "setwd(\"/content/buckets/b1/exp\")\n",
    "experimento <- paste0(\"exp\", PARAM$experimento)\n",
    "dir.create(experimento, showWarnings= FALSE)\n",
    "setwd( paste0(\"/content/buckets/b1/exp/\", experimento ))"
   ]
  },
  {
   "cell_type": "markdown",
   "metadata": {
    "id": "8qFmFivf5Iet"
   },
   "source": [
    "#### Final Training Dataset\n",
    "\n",
    "Aqui esta la gran decision de en qué meses hago el Final Training\n",
    "<br> debo utilizar los mejores hiperparámetros que encontré en la optimización bayesiana"
   ]
  },
  {
   "cell_type": "code",
   "execution_count": 44,
   "metadata": {
    "id": "lg5WVZncvc7H"
   },
   "outputs": [],
   "source": [
    "# clase01\n",
    "dataset[, clase01 := ifelse(clase_ternaria %in% c(\"BAJA+1\", \"BAJA+2\"), 1L, 0L)]"
   ]
  },
  {
   "cell_type": "code",
   "execution_count": 45,
   "metadata": {
    "id": "yc9QzXREv0xf"
   },
   "outputs": [],
   "source": [
    "dataset_train <- dataset[foto_mes %in% c(202107)]"
   ]
  },
  {
   "cell_type": "code",
   "execution_count": 46,
   "metadata": {
    "id": "thjdqEBLuvNt"
   },
   "outputs": [],
   "source": [
    "# dejo los datos en el formato que necesita LightGBM\n",
    "\n",
    "dtrain <- lgb.Dataset(\n",
    "  data= data.matrix(dataset_train[, campos_buenos, with= FALSE]),\n",
    "  label= dataset_train[, clase01]\n",
    ")"
   ]
  },
  {
   "cell_type": "markdown",
   "metadata": {
    "id": "VNUa-WSz5Oqu"
   },
   "source": [
    "#### Final Training Hyperparameters"
   ]
  },
  {
   "cell_type": "code",
   "execution_count": 47,
   "metadata": {
    "id": "FgCcvBfEwImu"
   },
   "outputs": [
    {
     "data": {
      "text/html": [
       "<dl>\n",
       "\t<dt>$boosting</dt>\n",
       "\t\t<dd>'gbdt'</dd>\n",
       "\t<dt>$objective</dt>\n",
       "\t\t<dd>'binary'</dd>\n",
       "\t<dt>$metric</dt>\n",
       "\t\t<dd>'auc'</dd>\n",
       "\t<dt>$first_metric_only</dt>\n",
       "\t\t<dd>FALSE</dd>\n",
       "\t<dt>$boost_from_average</dt>\n",
       "\t\t<dd>TRUE</dd>\n",
       "\t<dt>$feature_pre_filter</dt>\n",
       "\t\t<dd>FALSE</dd>\n",
       "\t<dt>$force_row_wise</dt>\n",
       "\t\t<dd>TRUE</dd>\n",
       "\t<dt>$verbosity</dt>\n",
       "\t\t<dd>-100</dd>\n",
       "\t<dt>$seed</dt>\n",
       "\t\t<dd>100613</dd>\n",
       "\t<dt>$max_depth</dt>\n",
       "\t\t<dd>-1</dd>\n",
       "\t<dt>$min_gain_to_split</dt>\n",
       "\t\t<dd>0</dd>\n",
       "\t<dt>$min_sum_hessian_in_leaf</dt>\n",
       "\t\t<dd>0.001</dd>\n",
       "\t<dt>$lambda_l1</dt>\n",
       "\t\t<dd>0</dd>\n",
       "\t<dt>$lambda_l2</dt>\n",
       "\t\t<dd>0</dd>\n",
       "\t<dt>$max_bin</dt>\n",
       "\t\t<dd>31</dd>\n",
       "\t<dt>$bagging_fraction</dt>\n",
       "\t\t<dd>0.84284420195249</dd>\n",
       "\t<dt>$pos_bagging_fraction</dt>\n",
       "\t\t<dd>1</dd>\n",
       "\t<dt>$neg_bagging_fraction</dt>\n",
       "\t\t<dd>1</dd>\n",
       "\t<dt>$is_unbalance</dt>\n",
       "\t\t<dd>FALSE</dd>\n",
       "\t<dt>$scale_pos_weight</dt>\n",
       "\t\t<dd>1</dd>\n",
       "\t<dt>$drop_rate</dt>\n",
       "\t\t<dd>0.1</dd>\n",
       "\t<dt>$max_drop</dt>\n",
       "\t\t<dd>50</dd>\n",
       "\t<dt>$skip_drop</dt>\n",
       "\t\t<dd>0.5</dd>\n",
       "\t<dt>$extra_trees</dt>\n",
       "\t\t<dd>FALSE</dd>\n",
       "\t<dt>$num_iterations</dt>\n",
       "\t\t<dd>612</dd>\n",
       "\t<dt>$learning_rate</dt>\n",
       "\t\t<dd>0.0204882365587407</dd>\n",
       "\t<dt>$feature_fraction</dt>\n",
       "\t\t<dd>0.492895465122887</dd>\n",
       "\t<dt>$num_leaves</dt>\n",
       "\t\t<dd>958</dd>\n",
       "\t<dt>$min_data_in_leaf</dt>\n",
       "\t\t<dd>470</dd>\n",
       "\t<dt>$bagging_freq</dt>\n",
       "\t\t<dd>5</dd>\n",
       "</dl>\n"
      ],
      "text/latex": [
       "\\begin{description}\n",
       "\\item[\\$boosting] 'gbdt'\n",
       "\\item[\\$objective] 'binary'\n",
       "\\item[\\$metric] 'auc'\n",
       "\\item[\\$first\\_metric\\_only] FALSE\n",
       "\\item[\\$boost\\_from\\_average] TRUE\n",
       "\\item[\\$feature\\_pre\\_filter] FALSE\n",
       "\\item[\\$force\\_row\\_wise] TRUE\n",
       "\\item[\\$verbosity] -100\n",
       "\\item[\\$seed] 100613\n",
       "\\item[\\$max\\_depth] -1\n",
       "\\item[\\$min\\_gain\\_to\\_split] 0\n",
       "\\item[\\$min\\_sum\\_hessian\\_in\\_leaf] 0.001\n",
       "\\item[\\$lambda\\_l1] 0\n",
       "\\item[\\$lambda\\_l2] 0\n",
       "\\item[\\$max\\_bin] 31\n",
       "\\item[\\$bagging\\_fraction] 0.84284420195249\n",
       "\\item[\\$pos\\_bagging\\_fraction] 1\n",
       "\\item[\\$neg\\_bagging\\_fraction] 1\n",
       "\\item[\\$is\\_unbalance] FALSE\n",
       "\\item[\\$scale\\_pos\\_weight] 1\n",
       "\\item[\\$drop\\_rate] 0.1\n",
       "\\item[\\$max\\_drop] 50\n",
       "\\item[\\$skip\\_drop] 0.5\n",
       "\\item[\\$extra\\_trees] FALSE\n",
       "\\item[\\$num\\_iterations] 612\n",
       "\\item[\\$learning\\_rate] 0.0204882365587407\n",
       "\\item[\\$feature\\_fraction] 0.492895465122887\n",
       "\\item[\\$num\\_leaves] 958\n",
       "\\item[\\$min\\_data\\_in\\_leaf] 470\n",
       "\\item[\\$bagging\\_freq] 5\n",
       "\\end{description}\n"
      ],
      "text/markdown": [
       "$boosting\n",
       ":   'gbdt'\n",
       "$objective\n",
       ":   'binary'\n",
       "$metric\n",
       ":   'auc'\n",
       "$first_metric_only\n",
       ":   FALSE\n",
       "$boost_from_average\n",
       ":   TRUE\n",
       "$feature_pre_filter\n",
       ":   FALSE\n",
       "$force_row_wise\n",
       ":   TRUE\n",
       "$verbosity\n",
       ":   -100\n",
       "$seed\n",
       ":   100613\n",
       "$max_depth\n",
       ":   -1\n",
       "$min_gain_to_split\n",
       ":   0\n",
       "$min_sum_hessian_in_leaf\n",
       ":   0.001\n",
       "$lambda_l1\n",
       ":   0\n",
       "$lambda_l2\n",
       ":   0\n",
       "$max_bin\n",
       ":   31\n",
       "$bagging_fraction\n",
       ":   0.84284420195249\n",
       "$pos_bagging_fraction\n",
       ":   1\n",
       "$neg_bagging_fraction\n",
       ":   1\n",
       "$is_unbalance\n",
       ":   FALSE\n",
       "$scale_pos_weight\n",
       ":   1\n",
       "$drop_rate\n",
       ":   0.1\n",
       "$max_drop\n",
       ":   50\n",
       "$skip_drop\n",
       ":   0.5\n",
       "$extra_trees\n",
       ":   FALSE\n",
       "$num_iterations\n",
       ":   612\n",
       "$learning_rate\n",
       ":   0.0204882365587407\n",
       "$feature_fraction\n",
       ":   0.492895465122887\n",
       "$num_leaves\n",
       ":   958\n",
       "$min_data_in_leaf\n",
       ":   470\n",
       "$bagging_freq\n",
       ":   5\n",
       "\n",
       "\n"
      ],
      "text/plain": [
       "$boosting\n",
       "[1] \"gbdt\"\n",
       "\n",
       "$objective\n",
       "[1] \"binary\"\n",
       "\n",
       "$metric\n",
       "[1] \"auc\"\n",
       "\n",
       "$first_metric_only\n",
       "[1] FALSE\n",
       "\n",
       "$boost_from_average\n",
       "[1] TRUE\n",
       "\n",
       "$feature_pre_filter\n",
       "[1] FALSE\n",
       "\n",
       "$force_row_wise\n",
       "[1] TRUE\n",
       "\n",
       "$verbosity\n",
       "[1] -100\n",
       "\n",
       "$seed\n",
       "[1] 100613\n",
       "\n",
       "$max_depth\n",
       "[1] -1\n",
       "\n",
       "$min_gain_to_split\n",
       "[1] 0\n",
       "\n",
       "$min_sum_hessian_in_leaf\n",
       "[1] 0.001\n",
       "\n",
       "$lambda_l1\n",
       "[1] 0\n",
       "\n",
       "$lambda_l2\n",
       "[1] 0\n",
       "\n",
       "$max_bin\n",
       "[1] 31\n",
       "\n",
       "$bagging_fraction\n",
       "[1] 0.8428442\n",
       "\n",
       "$pos_bagging_fraction\n",
       "[1] 1\n",
       "\n",
       "$neg_bagging_fraction\n",
       "[1] 1\n",
       "\n",
       "$is_unbalance\n",
       "[1] FALSE\n",
       "\n",
       "$scale_pos_weight\n",
       "[1] 1\n",
       "\n",
       "$drop_rate\n",
       "[1] 0.1\n",
       "\n",
       "$max_drop\n",
       "[1] 50\n",
       "\n",
       "$skip_drop\n",
       "[1] 0.5\n",
       "\n",
       "$extra_trees\n",
       "[1] FALSE\n",
       "\n",
       "$num_iterations\n",
       "[1] 612\n",
       "\n",
       "$learning_rate\n",
       "[1] 0.02048824\n",
       "\n",
       "$feature_fraction\n",
       "[1] 0.4928955\n",
       "\n",
       "$num_leaves\n",
       "[1] 958\n",
       "\n",
       "$min_data_in_leaf\n",
       "[1] 470\n",
       "\n",
       "$bagging_freq\n",
       "[1] 5\n"
      ]
     },
     "metadata": {},
     "output_type": "display_data"
    }
   ],
   "source": [
    "param_final <- modifyList(PARAM$lgbm$param_fijos,\n",
    "  PARAM$out$lgbm$mejores_hiperparametros)\n",
    "\n",
    "param_final"
   ]
  },
  {
   "cell_type": "markdown",
   "metadata": {
    "id": "TZIYn4l95TBH"
   },
   "source": [
    "#### Training\n",
    "Genero el modelo final, siempre sobre TODOS los datos de  final_train, sin hacer ningun tipo de undersampling de la clase mayoritaria"
   ]
  },
  {
   "cell_type": "code",
   "execution_count": 48,
   "metadata": {
    "id": "vPLsd4mMRe4u"
   },
   "outputs": [],
   "source": [
    "# este punto es muy SUTIL  y será revisado en la Clase 05\n",
    "\n",
    "param_normalizado <- copy(param_final)\n",
    "param_normalizado$min_data_in_leaf <-  round(param_final$min_data_in_leaf / PARAM$trainingstrategy$undersampling)"
   ]
  },
  {
   "cell_type": "code",
   "execution_count": 49,
   "metadata": {
    "id": "WRI_-taRwOXO"
   },
   "outputs": [],
   "source": [
    "  # entreno LightGBM\n",
    "\n",
    "  modelo_final <- lgb.train(\n",
    "    data= dtrain,\n",
    "    param= param_normalizado\n",
    "  )"
   ]
  },
  {
   "cell_type": "code",
   "execution_count": 50,
   "metadata": {
    "id": "_bkhnCvj0g3Q"
   },
   "outputs": [],
   "source": [
    "# ahora imprimo la importancia de variables\n",
    "\n",
    "tb_importancia <- as.data.table(lgb.importance(modelo_final))\n",
    "archivo_importancia <- \"impo.txt\"\n",
    "\n",
    "fwrite(tb_importancia,\n",
    "  file= archivo_importancia,\n",
    "  sep= \"\\t\"\n",
    ")"
   ]
  },
  {
   "cell_type": "code",
   "execution_count": 51,
   "metadata": {
    "id": "lZ3sLmbh0kFj"
   },
   "outputs": [],
   "source": [
    "# grabo a disco el modelo en un formato para seres humanos ... ponele ...\n",
    "\n",
    "lgb.save(modelo_final, \"modelo.txt\" )"
   ]
  },
  {
   "cell_type": "markdown",
   "metadata": {
    "id": "VEtp2--t5Ymg"
   },
   "source": [
    "### Scoring"
   ]
  },
  {
   "cell_type": "markdown",
   "metadata": {
    "id": "hI5008Mj5ZdI"
   },
   "source": [
    "Aplico el modelo final a los datos del futuro"
   ]
  },
  {
   "cell_type": "code",
   "execution_count": 52,
   "metadata": {
    "id": "PimBY3N_0ryP"
   },
   "outputs": [],
   "source": [
    "# aplico el modelo a los datos sin clase\n",
    "dfuture <- dataset[foto_mes == 202109]\n",
    "\n",
    "# aplico el modelo a los datos nuevos\n",
    "prediccion <- predict(\n",
    "  modelo_final,\n",
    "  data.matrix(dfuture[, campos_buenos, with= FALSE])\n",
    ")"
   ]
  },
  {
   "cell_type": "markdown",
   "metadata": {
    "id": "D26rNRh55gpw"
   },
   "source": [
    "#### Tabla Prediccion"
   ]
  },
  {
   "cell_type": "code",
   "execution_count": 53,
   "metadata": {
    "id": "RJwg7LHd11yu"
   },
   "outputs": [],
   "source": [
    "# tabla de prediccion\n",
    "\n",
    "tb_prediccion <- dfuture[, list(numero_de_cliente)]\n",
    "tb_prediccion[, prob := prediccion ]\n",
    "\n",
    "# grabo las probabilidad del modelo\n",
    "fwrite(tb_prediccion,\n",
    "  file= \"prediccion.txt\",\n",
    "  sep= \"\\t\"\n",
    ")"
   ]
  },
  {
   "cell_type": "markdown",
   "metadata": {
    "id": "jOt4eG_55ltv"
   },
   "source": [
    "Kaggle Competition Submit"
   ]
  },
  {
   "cell_type": "code",
   "execution_count": 54,
   "metadata": {
    "id": "gWW3tatE12je"
   },
   "outputs": [
    {
     "name": "stdout",
     "output_type": "stream",
     "text": [
      "Successfully submitted to LaboI 2025 BA analista sr \n",
      "Successfully submitted to LaboI 2025 BA analista sr \n",
      "Successfully submitted to LaboI 2025 BA analista sr \n",
      "Successfully submitted to LaboI 2025 BA analista sr \n",
      "Successfully submitted to LaboI 2025 BA analista sr \n"
     ]
    }
   ],
   "source": [
    "# genero archivos con los  \"envios\" mejores\n",
    "# suba TODOS los archivos a Kaggle\n",
    "\n",
    "# ordeno por probabilidad descendente\n",
    "setorder(tb_prediccion, -prob)\n",
    "\n",
    "dir.create(\"kaggle\")\n",
    "\n",
    "for (envios in PARAM$kaggle$cortes) {\n",
    "\n",
    "  tb_prediccion[, Predicted := 0L] # seteo inicial a 0\n",
    "  tb_prediccion[1:envios, Predicted := 1L] # marclo los primeros\n",
    "\n",
    "  archivo_kaggle <- paste0(\"./kaggle/KA\", PARAM$experimento, \"_\", envios, \".csv\")\n",
    "\n",
    "  # grabo el archivo\n",
    "  fwrite(tb_prediccion[, list(numero_de_cliente, Predicted)],\n",
    "    file= archivo_kaggle,\n",
    "    sep= \",\"\n",
    "  )\n",
    "\n",
    "  # subida a Kaggle, armo la linea de comando\n",
    "  comando <- \"kaggle competitions submit\"\n",
    "  competencia <- paste(\"-c\", PARAM$kaggle$competencia)\n",
    "  arch <- paste( \"-f\", archivo_kaggle)\n",
    "\n",
    "  mensaje <- paste0(\"-m 'envios=\", envios,\n",
    "  \"  semilla=\", PARAM$semilla_primigenia,\n",
    "    \"'\" )\n",
    "\n",
    "  linea <- paste( comando, competencia, arch, mensaje)\n",
    "\n",
    "  salida <- system(linea, intern=TRUE) # el submit a Kaggle\n",
    "  cat(salida, \"\\n\")\n",
    "  Sys.sleep(45)\n",
    "}"
   ]
  },
  {
   "cell_type": "code",
   "execution_count": 55,
   "metadata": {
    "id": "B9tB2X4439Hg"
   },
   "outputs": [],
   "source": [
    "write_yaml( PARAM, file=\"PARAM.yml\")"
   ]
  },
  {
   "cell_type": "code",
   "execution_count": 56,
   "metadata": {
    "id": "9zA_W25c15DP"
   },
   "outputs": [
    {
     "data": {
      "text/html": [
       "'Tue Sep 23 01:08:34 2025'"
      ],
      "text/latex": [
       "'Tue Sep 23 01:08:34 2025'"
      ],
      "text/markdown": [
       "'Tue Sep 23 01:08:34 2025'"
      ],
      "text/plain": [
       "[1] \"Tue Sep 23 01:08:34 2025\""
      ]
     },
     "metadata": {},
     "output_type": "display_data"
    }
   ],
   "source": [
    "format(Sys.time(), \"%a %b %d %X %Y\")"
   ]
  },
  {
   "cell_type": "markdown",
   "metadata": {
    "id": "UdVZucdLHzZ0"
   },
   "source": [
    "Finalmente usted deberá cargar el resultado de su corrida en la Google Sheet Colaborativa,  hoja **TareaHogar04**\n",
    "<br> Siéntase libre de agregar las columnas que hagan falta a la planilla"
   ]
  },
  {
   "cell_type": "code",
   "execution_count": null,
   "metadata": {},
   "outputs": [],
   "source": []
  }
 ],
 "metadata": {
  "colab": {
   "provenance": []
  },
  "kernelspec": {
   "display_name": "R",
   "language": "R",
   "name": "ir"
  },
  "language_info": {
   "codemirror_mode": "r",
   "file_extension": ".r",
   "mimetype": "text/x-r-source",
   "name": "R",
   "pygments_lexer": "r",
   "version": "4.4.3"
  }
 },
 "nbformat": 4,
 "nbformat_minor": 4
}
