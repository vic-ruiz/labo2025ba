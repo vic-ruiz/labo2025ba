{
 "cells": [
  {
   "cell_type": "markdown",
   "metadata": {
    "id": "0cEmzeUKFkPh"
   },
   "source": [
    "# Tarea para el Hogar 04"
   ]
  },
  {
   "cell_type": "markdown",
   "metadata": {
    "id": "nSICPpyTGQmC"
   },
   "source": [
    "Esta Tarea para el Hogar 02 se entrega el final de la cuarta clase\n",
    "<br> se espera de usted que intente avanzar con los desafios propuestos y que los traiga terminados para la Clase 05 que será el miercoles 03 de septiembre"
   ]
  },
  {
   "cell_type": "markdown",
   "metadata": {
    "id": "DenyKXkiJ5JN"
   },
   "source": [
    "##  1. Overfitting the Public Leaderboard"
   ]
  },
  {
   "cell_type": "markdown",
   "metadata": {
    "id": "l-K2_ZsZGrVD"
   },
   "source": [
    "Leer  https://medium.com/hmif-itb/overfitting-the-leaderboard-da25172ac62e\n",
    "( 8 minutos )"
   ]
  },
  {
   "cell_type": "markdown",
   "metadata": {
    "id": "K9GkTOk5J9t3"
   },
   "source": [
    "## 2. Hiperparámetros del LightGBM"
   ]
  },
  {
   "cell_type": "markdown",
   "metadata": {
    "id": "VmEFy0ukKL5T"
   },
   "source": [
    "Los objetivos de esta tarea son:\n",
    "\n",
    "\n",
    "*   Aumentar la rentabilidad de la campaña de marketing de retención proactiva de clientes.\n",
    "*   Generar un mejor modelo optimizando sus hiperparámetros\n",
    "*   Conceptual : investigar los mas relevantes hiperparámetros de LightGBM\n",
    "*   Familiarizarse con la Bayesian Optimization, sus largos tiempos de corrida y opciones para reducirlos\n",
    "*   Familiarizarse con el uso de máquinas virtuales de Google Colab\n",
    "*   Ver un pipeline completo de optimización de hiperparámetros y puesta en producción"
   ]
  },
  {
   "cell_type": "markdown",
   "metadata": {
    "id": "5yvlS6JQLRMd"
   },
   "source": [
    "LightGBM cuenta con mas de 60 hiperparámetros, siendo posible utilizar 40 al mismo tiempo, aunque no razonable.\n",
    "<br> La documentación oficial de los hiperparámetros de LightGBM es  https://lightgbm.readthedocs.io/en/latest/Parameters.html#core-parameters\n"
   ]
  },
  {
   "cell_type": "markdown",
   "metadata": {
    "id": "eydI4YNAsFaf"
   },
   "source": [
    "Se lo alerta sobre que una Optimizacion Bayesiana lleva varias horas de corrida, y usted deberá correr VARIAS optimizaciones para descubrir cuales parámetros conviene optimizar.\n",
    "<br> A pesar que la próxima clase es recien en viernes 01 de agosto, inicie la tarea con tiempo, aprenda a planificar estratégicamente sus corridas como un@ científ@  de datos."
   ]
  },
  {
   "cell_type": "markdown",
   "metadata": {
    "id": "RzU4S0SeMcpp"
   },
   "source": [
    "Es necesario investigar cuales son los hiperparámetros de LightGBM que vale la pena optimizar en una Bayesian Optimization, ya que los realmente utiles son apenas un reducido subconjunto.\n",
    "<br>Usted deberá investigar cuales son los hiperparámetros mas relevantes de LightGBM, su primer alternativa es preguntándole a su amigo con capacidades especiales ChatGPT o sus endogámicos familiares Claude, DeepSeek, Gemini, Grok, etc\n",
    "<br> La segunda alternativa es la propia documentación de LightGBM  https://lightgbm.readthedocs.io/en/latest/Parameters-Tuning.html\n"
   ]
  },
  {
   "cell_type": "markdown",
   "metadata": {
    "id": "LNptUgI_NWWG"
   },
   "source": [
    "Adicionalmente podra buscar información como la que proveen esta diminuta muestra aleatoria de artículos ligeros:\n",
    "* https://machinelearningmastery.com/light-gradient-boosted-machine-lightgbm-ensemble/\n",
    "*  https://medium.com/@sarahzouinina/a-deep-dive-into-lightgbm-how-to-choose-and-tune-parameters-7c584945842e\n",
    "*  https://www.kaggle.com/code/somang1418/tuning-hyperparameters-under-10-minutes-lgbm\n",
    "*  https://towardsdatascience.com/beginners-guide-to-the-must-know-lightgbm-hyperparameters-a0005a812702/\n",
    "\n",
    "\n",
    "<br>  La muestra anterior se brinda a modo de ejemplo, usted deberá buscar muuuuchas  fuentes adicionales de información\n",
    "<br> Tenga presente que LightGBM es el estado del arte en modelado predictivo para datasets estructurado, que son el 90% del trabajo del 95% de los Data Scientists en Argentina."
   ]
  },
  {
   "cell_type": "markdown",
   "metadata": {
    "id": "WpUThBojODyK"
   },
   "source": [
    "El desafío de esta tarea es:\n",
    "* Qué hiperparparámetros conviene optimizar?  Las recomendaciones de los artículos ligeros es siempre sensata?  Sus autores realmente hicieron experimentos o son siemplemente escritores de entretenimiento carente de base científica?\n",
    "* Elegidos los hiperparámetros, cual es el  <desde, hasta> que se debe utilizar en la Bayesian Optimization ?\n",
    "* Realmente vale la pena optimizar 10 o 16 hiperparámetros al mismo tiempo ?  No resulta contraproducente una búsqueda en un espacio de tal alta dimensionalidad ?"
   ]
  },
  {
   "cell_type": "markdown",
   "metadata": {
    "id": "PX0qg_c0yqob"
   },
   "source": [
    "#### 2.1  Seteo del ambiente en Google Colab"
   ]
  },
  {
   "cell_type": "markdown",
   "metadata": {
    "id": "NGY7H9xza7Zr"
   },
   "source": [
    "Esta parte se debe correr con el runtime en Python3\n",
    "<br>Ir al menu, Runtime -> Change Runtime Type -> Runtime type ->  **Python 3**"
   ]
  },
  {
   "cell_type": "markdown",
   "metadata": {
    "id": "7PupIBNba7Zr"
   },
   "source": [
    "Conectar la virtual machine donde esta corriendo Google Colab con el  Google Drive, para poder tener persistencia de archivos"
   ]
  },
  {
   "cell_type": "code",
   "execution_count": null,
   "metadata": {
    "id": "9LpZCst5a7Zs"
   },
   "outputs": [],
   "source": [
    "# primero establecer el Runtime de Python 3\n",
    "from google.colab import drive\n",
    "drive.mount('/content/.drive')"
   ]
  },
  {
   "cell_type": "markdown",
   "metadata": {
    "id": "JYC_F-wla7Zs"
   },
   "source": [
    "Para correr la siguiente celda es fundamental en Arranque en Frio haber copiado el archivo kaggle.json al Google Drive, en la carpeta indicada en el instructivo\n",
    "\n",
    "<br>los siguientes comando estan en shell script de Linux\n",
    "*   Crear las carpetas en el Google Drive\n",
    "*   \"instalar\" el archivo kaggle.json desde el Google Drive a la virtual machine para que pueda ser utilizado por la libreria  kaggle de Python\n",
    "*   Bajar el  **dataset_pequeno**  al  Google Drive  y tambien al disco local de la virtual machine que esta corriendo Google Colab\n",
    "\n"
   ]
  },
  {
   "cell_type": "code",
   "execution_count": null,
   "metadata": {
    "id": "XWLelftXa7Zt"
   },
   "outputs": [],
   "source": [
    "%%shell\n",
    "\n",
    "mkdir -p \"/content/.drive/My Drive/labo1\"\n",
    "mkdir -p \"/content/buckets\"\n",
    "ln -s \"/content/.drive/My Drive/labo1\" /content/buckets/b1\n",
    "\n",
    "mkdir -p ~/.kaggle\n",
    "cp /content/buckets/b1/kaggle/kaggle.json  ~/.kaggle\n",
    "chmod 600 ~/.kaggle/kaggle.json\n",
    "\n",
    "\n",
    "mkdir -p /content/buckets/b1/exp\n",
    "mkdir -p /content/buckets/b1/datasets\n",
    "mkdir -p /content/datasets\n",
    "\n",
    "\n",
    "\n",
    "archivo_origen=\"https://storage.googleapis.com/open-courses/austral2025-af91/dataset_pequeno.csv\"\n",
    "archivo_destino=\"/content/datasets/dataset_pequeno.csv\"\n",
    "archivo_destino_bucket=\"/content/buckets/b1/datasets/dataset_pequeno.csv\"\n",
    "\n",
    "if ! test -f $archivo_destino_bucket; then\n",
    "  wget  $archivo_origen  -O $archivo_destino_bucket\n",
    "fi\n",
    "\n",
    "\n",
    "if ! test -f $archivo_destino; then\n",
    "  cp  $archivo_destino_bucket  $archivo_destino\n",
    "fi\n"
   ]
  },
  {
   "cell_type": "markdown",
   "metadata": {
    "id": "oSKhZRToy2F7"
   },
   "source": [
    "### 2.2 Optimizacion Hiperparámetros"
   ]
  },
  {
   "cell_type": "markdown",
   "metadata": {
    "id": "2kwPpHAtSmix"
   },
   "source": [
    "Esta parte se debe correr con el runtime en lenguaje R Ir al menu, Runtime -> Change Runtime Type -> Runtime type -> R"
   ]
  },
  {
   "cell_type": "markdown",
   "metadata": {
    "id": "xp4-Bj3aYI8d"
   },
   "source": [
    "### 2.2.1 Inicio"
   ]
  },
  {
   "cell_type": "markdown",
   "metadata": {
    "id": "zy8YTZfESxeJ"
   },
   "source": [
    "limpio el ambiente de R"
   ]
  },
  {
   "cell_type": "code",
   "execution_count": 33,
   "metadata": {
    "id": "gBq__iAdQliq"
   },
   "outputs": [
    {
     "data": {
      "text/html": [
       "'Wed Sep 24 00:14:17 2025'"
      ],
      "text/latex": [
       "'Wed Sep 24 00:14:17 2025'"
      ],
      "text/markdown": [
       "'Wed Sep 24 00:14:17 2025'"
      ],
      "text/plain": [
       "[1] \"Wed Sep 24 00:14:17 2025\""
      ]
     },
     "metadata": {},
     "output_type": "display_data"
    }
   ],
   "source": [
    "format(Sys.time(), \"%a %b %d %X %Y\")"
   ]
  },
  {
   "cell_type": "code",
   "execution_count": 34,
   "metadata": {
    "id": "7rdVrBojS1IV"
   },
   "outputs": [
    {
     "data": {
      "text/html": [
       "<table class=\"dataframe\">\n",
       "<caption>A matrix: 2 × 6 of type dbl</caption>\n",
       "<thead>\n",
       "\t<tr><th></th><th scope=col>used</th><th scope=col>(Mb)</th><th scope=col>gc trigger</th><th scope=col>(Mb)</th><th scope=col>max used</th><th scope=col>(Mb)</th></tr>\n",
       "</thead>\n",
       "<tbody>\n",
       "\t<tr><th scope=row>Ncells</th><td> 2294128</td><td>122.6</td><td>  3897297</td><td> 208.2</td><td>  3897297</td><td> 208.2</td></tr>\n",
       "\t<tr><th scope=row>Vcells</th><td>42406441</td><td>323.6</td><td>139684032</td><td>1065.8</td><td>139602195</td><td>1065.1</td></tr>\n",
       "</tbody>\n",
       "</table>\n"
      ],
      "text/latex": [
       "A matrix: 2 × 6 of type dbl\n",
       "\\begin{tabular}{r|llllll}\n",
       "  & used & (Mb) & gc trigger & (Mb) & max used & (Mb)\\\\\n",
       "\\hline\n",
       "\tNcells &  2294128 & 122.6 &   3897297 &  208.2 &   3897297 &  208.2\\\\\n",
       "\tVcells & 42406441 & 323.6 & 139684032 & 1065.8 & 139602195 & 1065.1\\\\\n",
       "\\end{tabular}\n"
      ],
      "text/markdown": [
       "\n",
       "A matrix: 2 × 6 of type dbl\n",
       "\n",
       "| <!--/--> | used | (Mb) | gc trigger | (Mb) | max used | (Mb) |\n",
       "|---|---|---|---|---|---|---|\n",
       "| Ncells |  2294128 | 122.6 |   3897297 |  208.2 |   3897297 |  208.2 |\n",
       "| Vcells | 42406441 | 323.6 | 139684032 | 1065.8 | 139602195 | 1065.1 |\n",
       "\n"
      ],
      "text/plain": [
       "       used     (Mb)  gc trigger (Mb)   max used  (Mb)  \n",
       "Ncells  2294128 122.6   3897297   208.2   3897297  208.2\n",
       "Vcells 42406441 323.6 139684032  1065.8 139602195 1065.1"
      ]
     },
     "metadata": {},
     "output_type": "display_data"
    }
   ],
   "source": [
    "# limpio la memoria\n",
    "rm(list=ls(all.names=TRUE)) # remove all objects\n",
    "gc(full=TRUE, verbose=FALSE) # garbage collection"
   ]
  },
  {
   "cell_type": "markdown",
   "metadata": {
    "id": "kuPfQ7ksjwW3"
   },
   "source": [
    "### 2.2.2 Carga de Librerias"
   ]
  },
  {
   "cell_type": "code",
   "execution_count": 35,
   "metadata": {
    "id": "lVyxLaJ1j1J_"
   },
   "outputs": [],
   "source": [
    "# cargo las librerias que necesito\n",
    "require(\"data.table\")\n",
    "require(\"parallel\")\n",
    "\n",
    "if( !require(\"primes\") ) install.packages(\"primes\")\n",
    "require(\"primes\")\n",
    "\n",
    "if( !require(\"utils\") ) install.packages(\"utils\")\n",
    "require(\"utils\")\n",
    "\n",
    "if( !require(\"rlist\") ) install.packages(\"rlist\")\n",
    "require(\"rlist\")\n",
    "\n",
    "if( !require(\"yaml\")) install.packages(\"yaml\")\n",
    "require(\"yaml\")\n",
    "\n",
    "if( !require(\"lightgbm\") ) install.packages(\"lightgbm\")\n",
    "require(\"lightgbm\")\n",
    "\n",
    "if( !require(\"DiceKriging\") ) install.packages(\"DiceKriging\")\n",
    "require(\"DiceKriging\")\n",
    "\n",
    "if( !require(\"mlrMBO\") ) install.packages(\"mlrMBO\")\n",
    "require(\"mlrMBO\")"
   ]
  },
  {
   "cell_type": "markdown",
   "metadata": {
    "id": "Iz-6Qt6BUaA3"
   },
   "source": [
    "### 2.2.3 Definicion de Parametros"
   ]
  },
  {
   "cell_type": "markdown",
   "metadata": {
    "id": "cOdlKd7lUm2I"
   },
   "source": [
    "aqui debe cargar SU semilla primigenia\n",
    "<br>recuerde cambiar el numero de experimento en cada corrida nueva"
   ]
  },
  {
   "cell_type": "code",
   "execution_count": 36,
   "metadata": {
    "id": "ASYkebOu2mF6"
   },
   "outputs": [],
   "source": [
    "PARAM <- list()\n",
    "PARAM$experimento <- 4946\n",
    "PARAM$semilla_primigenia <- 100613\n"
   ]
  },
  {
   "cell_type": "code",
   "execution_count": 37,
   "metadata": {
    "id": "ezOhQdbA293o"
   },
   "outputs": [],
   "source": [
    "PARAM$kaggle$competencia <- \"labo-i-2025-ba-analista-sr\"\n",
    "PARAM$kaggle$cortes <- seq(10000, 12000, by= 500)"
   ]
  },
  {
   "cell_type": "code",
   "execution_count": 38,
   "metadata": {
    "id": "jtB0Lub42rHO"
   },
   "outputs": [],
   "source": [
    "# un undersampling de 0.1  toma solo el 10% de los CONTINUA\n",
    "# undersampling de 1.0  implica tomar TODOS los datos\n",
    "\n",
    "PARAM$trainingstrategy$undersampling <- 0.5"
   ]
  },
  {
   "cell_type": "code",
   "execution_count": 39,
   "metadata": {
    "id": "OFxm-xiNUOJX"
   },
   "outputs": [],
   "source": [
    "# Parametros LightGBM\n",
    "\n",
    "PARAM$hyperparametertuning$xval_folds <- 5\n",
    "\n",
    "# parametros fijos del LightGBM que se pisaran con la parte variable de la BO\n",
    "PARAM$lgbm$param_fijos <-  list(\n",
    "  boosting= \"gbdt\", # puede ir  dart  , ni pruebe random_forest\n",
    "  objective= \"binary\",\n",
    "  metric= \"auc\",\n",
    "  first_metric_only= FALSE,\n",
    "  boost_from_average= TRUE,\n",
    "  feature_pre_filter= FALSE,\n",
    "  force_row_wise= TRUE, # para reducir warnings\n",
    "  verbosity= -100,\n",
    "\n",
    "  seed= PARAM$semilla_primigenia,\n",
    "\n",
    "  max_depth= -1L, # -1 significa no limitar,  por ahora lo dejo fijo\n",
    "  min_gain_to_split= 0, # min_gain_to_split >= 0\n",
    "  min_sum_hessian_in_leaf= 0.001, #  min_sum_hessian_in_leaf >= 0.0\n",
    "  lambda_l1= 0.0, # lambda_l1 >= 0.0\n",
    "  lambda_l2= 0.73, # lambda_l2 >= 0.0\n",
    "  max_bin= 31L, # lo debo dejar fijo, no participa de la BO\n",
    "\n",
    "  bagging_fraction= 0.84, # 0.0 < bagging_fraction <= 1.0\n",
    "  pos_bagging_fraction= 1.0, # 0.0 < pos_bagging_fraction <= 1.0\n",
    "  neg_bagging_fraction= 1.0, # 0.0 < neg_bagging_fraction <= 1.0\n",
    "  is_unbalance= FALSE, #\n",
    "  scale_pos_weight= 1.0, # scale_pos_weight > 0.0\n",
    "\n",
    "  drop_rate= 0.1, # 0.0 < neg_bagging_fraction <= 1.0\n",
    "  max_drop= 50, # <=0 means no limit\n",
    "  skip_drop= 0.5, # 0.0 <= skip_drop <= 1.0\n",
    "\n",
    "  extra_trees= FALSE,\n",
    "\n",
    "  num_iterations= 1200,\n",
    "  learning_rate= 0.02,\n",
    "  feature_fraction= 0.5,\n",
    "  num_leaves= 750,\n",
    "  min_data_in_leaf= 5000\n",
    ")\n"
   ]
  },
  {
   "cell_type": "markdown",
   "metadata": {
    "id": "D5Yj-JV4yvOt"
   },
   "source": [
    "Aqui se definen los hiperparámetros de LightGBM que participan de la Bayesian Optimization\n",
    "<br> si es un numero entero debe ir  makeIntegerParam\n",
    "<br> si es un numero real (con decimales) debe ir  makeNumericParam\n",
    "<br> es muy importante leer cuales son un lower y upper  permitidos y ademas razonables"
   ]
  },
  {
   "cell_type": "code",
   "execution_count": 40,
   "metadata": {
    "id": "jENpR26ZyuS8"
   },
   "outputs": [],
   "source": [
    "# Aqui se cargan los bordes de los hiperparametros de la BO\n",
    "PARAM$hypeparametertuning$hs <- makeParamSet(\n",
    "  makeIntegerParam(\"num_iterations\", lower= 8L, upper= 2048L),\n",
    "  makeNumericParam(\"learning_rate\", lower= 0.01, upper= 0.3),\n",
    "  makeNumericParam(\"feature_fraction\", lower= 0.1, upper= 1.0),\n",
    "  makeIntegerParam(\"num_leaves\", lower= 8L, upper= 2048L),\n",
    "  makeIntegerParam(\"min_data_in_leaf\", lower= 1L, upper= 8000L),\n",
    "  makeIntegerParam(\"max_depth\", lower=3L, upper=12L),\n",
    "  makeNumericParam(\"min_sum_hessian_in_leaf\", lower = -3, upper = 2, trafo = function(x) 10^x),\n",
    "  makeNumericParam(\"min_split_gain\", lower = 0.001, upper = 0.02)\n",
    ")"
   ]
  },
  {
   "cell_type": "markdown",
   "metadata": {
    "id": "-_RPFUb3zMoW"
   },
   "source": [
    "A mayor cantidad de hiperparámetros, se debe aumentar las iteraciones de la Bayesian Optimization\n",
    "<br> 30 es un valor muy tacaño, pero corre rápido\n",
    "<br> deberia partir de 50, alcanzando los 100 si se dispone de tiempo"
   ]
  },
  {
   "cell_type": "code",
   "execution_count": 41,
   "metadata": {
    "id": "q5Rd3pnbzSiG"
   },
   "outputs": [],
   "source": [
    "PARAM$hyperparametertuning$iteraciones <- 30 # iteraciones bayesianas"
   ]
  },
  {
   "cell_type": "markdown",
   "metadata": {
    "id": "4RWZXL1VZjMI"
   },
   "source": [
    "### 2.2.4  Preprocesamiento"
   ]
  },
  {
   "cell_type": "code",
   "execution_count": 42,
   "metadata": {
    "id": "j3toG9-lZm4K"
   },
   "outputs": [],
   "source": [
    "# carpeta de trabajo\n",
    "\n",
    "setwd(\"/content/buckets/b1/exp\")\n",
    "experimento_folder <- paste0(\"HT\", PARAM$experimento)\n",
    "dir.create(experimento_folder, showWarnings=FALSE)\n",
    "setwd( paste0(\"/content/buckets/b1/exp/\", experimento_folder ))"
   ]
  },
  {
   "cell_type": "code",
   "execution_count": 43,
   "metadata": {
    "id": "FM3lxKoLZ643"
   },
   "outputs": [],
   "source": [
    "# lectura del dataset\n",
    "\n",
    "dataset <- fread(\"/content/datasets/dataset_pequeno.csv\")"
   ]
  },
  {
   "cell_type": "code",
   "execution_count": 44,
   "metadata": {
    "id": "OsJ-91UeZ-I_"
   },
   "outputs": [],
   "source": [
    "dataset_train <- dataset[foto_mes %in% c(202107)]"
   ]
  },
  {
   "cell_type": "code",
   "execution_count": 45,
   "metadata": {
    "id": "vrWE7BE0aB2J"
   },
   "outputs": [],
   "source": [
    "# paso la clase a binaria que tome valores {0,1}  enteros\n",
    "#  BAJA+1 y BAJA+2  son  1,   CONTINUA es 0\n",
    "\n",
    "dataset_train[,\n",
    "  clase01 := ifelse(clase_ternaria %in% c(\"BAJA+2\",\"BAJA+1\"), 1L, 0L)\n",
    "]"
   ]
  },
  {
   "cell_type": "code",
   "execution_count": 46,
   "metadata": {
    "id": "jP7YlQBnaW6W"
   },
   "outputs": [],
   "source": [
    "# defino los datos que forma parte del training\n",
    "# aqui se hace el undersampling de los CONTINUA\n",
    "# notar que para esto utilizo la SEGUNDA semilla\n",
    "\n",
    "set.seed(PARAM$semilla_primigenia, kind = \"L'Ecuyer-CMRG\")\n",
    "dataset_train[, azar := runif(nrow(dataset_train))]\n",
    "dataset_train[, training := 0L]\n",
    "\n",
    "dataset_train[\n",
    "  foto_mes %in% c(202107) &\n",
    "    (azar <= PARAM$trainingstrategy$undersampling | clase_ternaria %in% c(\"BAJA+1\", \"BAJA+2\")),\n",
    "  training := 1L\n",
    "]"
   ]
  },
  {
   "cell_type": "code",
   "execution_count": 47,
   "metadata": {
    "id": "xElu4s5W4rX7"
   },
   "outputs": [],
   "source": [
    "# los campos que se van a utilizar\n",
    "\n",
    "campos_buenos <- setdiff(\n",
    "  colnames(dataset_train),\n",
    "  c(\"clase_ternaria\", \"clase01\", \"azar\", \"training\")\n",
    ")"
   ]
  },
  {
   "cell_type": "code",
   "execution_count": 48,
   "metadata": {
    "id": "PppMHcGYaaol"
   },
   "outputs": [
    {
     "data": {
      "text/html": [
       "83529"
      ],
      "text/latex": [
       "83529"
      ],
      "text/markdown": [
       "83529"
      ],
      "text/plain": [
       "[1] 83529"
      ]
     },
     "metadata": {},
     "output_type": "display_data"
    },
    {
     "data": {
      "text/html": [
       "154"
      ],
      "text/latex": [
       "154"
      ],
      "text/markdown": [
       "154"
      ],
      "text/plain": [
       "[1] 154"
      ]
     },
     "metadata": {},
     "output_type": "display_data"
    }
   ],
   "source": [
    "# dejo los datos en el formato que necesita LightGBM\n",
    "\n",
    "dtrain <- lgb.Dataset(\n",
    "  data= data.matrix(dataset_train[training == 1L, campos_buenos, with= FALSE]),\n",
    "  label= dataset_train[training == 1L, clase01],\n",
    "  free_raw_data= FALSE\n",
    ")\n",
    "\n",
    "nrow(dtrain)\n",
    "ncol(dtrain)"
   ]
  },
  {
   "cell_type": "markdown",
   "metadata": {
    "id": "Ta-EkOu3cphF"
   },
   "source": [
    "2.2.5 Configuracion Bayesian Optimization"
   ]
  },
  {
   "cell_type": "code",
   "execution_count": 49,
   "metadata": {
    "id": "cjgfurjdfiXb"
   },
   "outputs": [],
   "source": [
    "# En el argumento x llegan los parmaetros de la bayesiana\n",
    "#  devuelve la AUC en cross validation del modelo entrenado\n",
    "\n",
    "EstimarGanancia_AUC_lightgbm <- function(x) {\n",
    "\n",
    "  # x pisa (o agrega) a param_fijos\n",
    "  param_completo <- modifyList(PARAM$lgbm$param_fijos, x)\n",
    "\n",
    "  # entreno LightGBM\n",
    "  modelocv <- lgb.cv(\n",
    "    data= dtrain,\n",
    "    nfold= PARAM$hyperparametertuning$xval_folds,\n",
    "    stratified= TRUE,\n",
    "    param= param_completo\n",
    "  )\n",
    "\n",
    "  # obtengo la ganancia\n",
    "  AUC <- modelocv$best_score\n",
    "\n",
    "  # hago espacio en la memoria\n",
    "  rm(modelocv)\n",
    "  gc(full= TRUE, verbose= FALSE)\n",
    "\n",
    "  message(format(Sys.time(), \"%a %b %d %X %Y\"), \" AUC \", AUC)\n",
    "\n",
    "  return(AUC)\n",
    "}"
   ]
  },
  {
   "cell_type": "code",
   "execution_count": 50,
   "metadata": {
    "id": "WLi_o1hocvN-"
   },
   "outputs": [],
   "source": [
    "# Aqui comienza la configuracion de la Bayesian Optimization\n",
    "\n",
    "# en este archivo quedan la evolucion binaria de la BO\n",
    "kbayesiana <- \"bayesiana.RDATA\"\n",
    "\n",
    "funcion_optimizar <- EstimarGanancia_AUC_lightgbm # la funcion que voy a maximizar\n",
    "\n",
    "configureMlr(show.learner.output= FALSE)\n",
    "\n",
    "# configuro la busqueda bayesiana,  los hiperparametros que se van a optimizar\n",
    "# por favor, no desesperarse por lo complejo\n",
    "\n",
    "obj.fun <- makeSingleObjectiveFunction(\n",
    "  fn= funcion_optimizar, # la funcion que voy a maximizar\n",
    "  minimize= FALSE, # estoy Maximizando la ganancia\n",
    "  noisy= TRUE,\n",
    "  par.set= PARAM$hypeparametertuning$hs, # definido al comienzo del programa\n",
    "  has.simple.signature= FALSE # paso los parametros en una lista\n",
    ")\n",
    "\n",
    "# cada 600 segundos guardo el resultado intermedio\n",
    "ctrl <- makeMBOControl(\n",
    "  save.on.disk.at.time= 600, # se graba cada 600 segundos\n",
    "  save.file.path= kbayesiana\n",
    ") # se graba cada 600 segundos\n",
    "\n",
    "# indico la cantidad de iteraciones que va a tener la Bayesian Optimization\n",
    "ctrl <- setMBOControlTermination(\n",
    "  ctrl,\n",
    "  iters= PARAM$hyperparametertuning$iteraciones\n",
    ") # cantidad de iteraciones\n",
    "\n",
    "# defino el método estandar para la creacion de los puntos iniciales,\n",
    "# los \"No Inteligentes\"\n",
    "ctrl <- setMBOControlInfill(ctrl, crit= makeMBOInfillCritEI())\n",
    "\n",
    "# establezco la funcion que busca el maximo\n",
    "surr.km <- makeLearner(\n",
    "  \"regr.km\",\n",
    "  predict.type= \"se\",\n",
    "  covtype= \"matern3_2\",\n",
    "  control= list(trace= TRUE)\n",
    ")\n"
   ]
  },
  {
   "cell_type": "markdown",
   "metadata": {
    "id": "_uUeVo5pc4zc"
   },
   "source": [
    "2.2.6 Corrida Bayesian Optimization"
   ]
  },
  {
   "cell_type": "code",
   "execution_count": 51,
   "metadata": {
    "id": "RcABNaKGciaz"
   },
   "outputs": [
    {
     "name": "stderr",
     "output_type": "stream",
     "text": [
      "Computing y column(s) for design. Not provided.\n",
      "\n",
      "Wed Sep 24 00:15:15 2025 AUC 0.925033606881815\n",
      "\n",
      "Wed Sep 24 00:16:00 2025 AUC 0.924515062941714\n",
      "\n",
      "Wed Sep 24 00:16:49 2025 AUC 0.923724721365258\n",
      "\n",
      "Wed Sep 24 00:18:52 2025 AUC 0.925501632320685\n",
      "\n",
      "Wed Sep 24 00:20:23 2025 AUC 0.925721248453446\n",
      "\n",
      "Wed Sep 24 00:20:40 2025 AUC 0.924219034327079\n",
      "\n",
      "Wed Sep 24 00:21:31 2025 AUC 0.927089180852239\n",
      "\n",
      "Wed Sep 24 00:22:08 2025 AUC 0.925741790850349\n",
      "\n",
      "Wed Sep 24 00:22:25 2025 AUC 0.923414043079636\n",
      "\n",
      "Wed Sep 24 00:23:34 2025 AUC 0.925076830164358\n",
      "\n",
      "Wed Sep 24 00:23:44 2025 AUC 0.926055908410538\n",
      "\n",
      "Wed Sep 24 00:24:33 2025 AUC 0.925957607577157\n",
      "\n",
      "Wed Sep 24 00:25:49 2025 AUC 0.92597189093427\n",
      "\n",
      "Wed Sep 24 00:27:00 2025 AUC 0.925847770730108\n",
      "\n",
      "Wed Sep 24 00:27:11 2025 AUC 0.92490674820289\n",
      "\n",
      "Wed Sep 24 00:28:09 2025 AUC 0.924909634889732\n",
      "\n",
      "Wed Sep 24 00:28:12 2025 AUC 0.912747016837065\n",
      "\n",
      "Wed Sep 24 00:28:47 2025 AUC 0.924945269547993\n",
      "\n",
      "Wed Sep 24 00:30:22 2025 AUC 0.926819559925374\n",
      "\n",
      "Wed Sep 24 00:31:13 2025 AUC 0.923824310336971\n",
      "\n",
      "Wed Sep 24 00:31:40 2025 AUC 0.9226602017762\n",
      "\n",
      "Wed Sep 24 00:31:49 2025 AUC 0.923294130514027\n",
      "\n",
      "Wed Sep 24 00:31:57 2025 AUC 0.925309822887387\n",
      "\n",
      "Wed Sep 24 00:32:39 2025 AUC 0.928697894715644\n",
      "\n",
      "Wed Sep 24 00:33:29 2025 AUC 0.92397128295516\n",
      "\n",
      "Wed Sep 24 00:33:38 2025 AUC 0.923136065835613\n",
      "\n",
      "Wed Sep 24 00:34:08 2025 AUC 0.926726307575971\n",
      "\n",
      "Wed Sep 24 00:34:43 2025 AUC 0.925088438825784\n",
      "\n",
      "Wed Sep 24 00:34:55 2025 AUC 0.925524611728041\n",
      "\n",
      "Wed Sep 24 00:34:56 2025 AUC 0.916473131513349\n",
      "\n",
      "Wed Sep 24 00:35:56 2025 AUC 0.922578647160417\n",
      "\n",
      "Wed Sep 24 00:36:26 2025 AUC 0.923066071225107\n",
      "\n",
      "[mbo] 0: num_iterations=650; learning_rate=0.229; feature_fraction=0.509; num_leaves=1545; min_data_in_leaf=4644; max_depth=8; min_sum_hessian_in_leaf=0.0534; min_split_gain=0.00696 : y = 0.925 : 34.3 secs : initdesign\n",
      "\n",
      "[mbo] 0: num_iterations=1300; learning_rate=0.158; feature_fraction=0.112; num_leaves=143; min_data_in_leaf=4249; max_depth=6; min_sum_hessian_in_leaf=0.0965; min_split_gain=0.0144 : y = 0.925 : 45.0 secs : initdesign\n",
      "\n",
      "[mbo] 0: num_iterations=1047; learning_rate=0.172; feature_fraction=0.191; num_leaves=1384; min_data_in_leaf=6020; max_depth=6; min_sum_hessian_in_leaf=0.241; min_split_gain=0.0132 : y = 0.924 : 48.9 secs : initdesign\n",
      "\n",
      "[mbo] 0: num_iterations=1381; learning_rate=0.0604; feature_fraction=0.246; num_leaves=591; min_data_in_leaf=5370; max_depth=8; min_sum_hessian_in_leaf=26.4; min_split_gain=0.00585 : y = 0.926 : 123.3 secs : initdesign\n",
      "\n",
      "[mbo] 0: num_iterations=1767; learning_rate=0.133; feature_fraction=0.491; num_leaves=254; min_data_in_leaf=2942; max_depth=10; min_sum_hessian_in_leaf=4.92; min_split_gain=0.0175 : y = 0.926 : 90.8 secs : initdesign\n",
      "\n",
      "[mbo] 0: num_iterations=710; learning_rate=0.22; feature_fraction=0.874; num_leaves=1158; min_data_in_leaf=7543; max_depth=7; min_sum_hessian_in_leaf=0.00104; min_split_gain=0.00866 : y = 0.924 : 16.7 secs : initdesign\n",
      "\n",
      "[mbo] 0: num_iterations=971; learning_rate=0.0825; feature_fraction=0.544; num_leaves=887; min_data_in_leaf=1247; max_depth=8; min_sum_hessian_in_leaf=1.89; min_split_gain=0.00422 : y = 0.927 : 51.1 secs : initdesign\n",
      "\n",
      "[mbo] 0: num_iterations=837; learning_rate=0.194; feature_fraction=0.331; num_leaves=1684; min_data_in_leaf=3573; max_depth=5; min_sum_hessian_in_leaf=0.0266; min_split_gain=0.00957 : y = 0.926 : 36.7 secs : initdesign\n",
      "\n",
      "[mbo] 0: num_iterations=380; learning_rate=0.253; feature_fraction=0.61; num_leaves=778; min_data_in_leaf=1675; max_depth=11; min_sum_hessian_in_leaf=0.0145; min_split_gain=0.0119 : y = 0.923 : 16.8 secs : initdesign\n",
      "\n",
      "[mbo] 0: num_iterations=1419; learning_rate=0.204; feature_fraction=0.399; num_leaves=1532; min_data_in_leaf=3352; max_depth=9; min_sum_hessian_in_leaf=6.85; min_split_gain=0.0128 : y = 0.925 : 68.9 secs : initdesign\n",
      "\n",
      "[mbo] 0: num_iterations=395; learning_rate=0.12; feature_fraction=0.837; num_leaves=389; min_data_in_leaf=5534; max_depth=7; min_sum_hessian_in_leaf=0.634; min_split_gain=0.00925 : y = 0.926 : 10.3 secs : initdesign\n",
      "\n",
      "[mbo] 0: num_iterations=1822; learning_rate=0.0815; feature_fraction=0.647; num_leaves=525; min_data_in_leaf=5210; max_depth=6; min_sum_hessian_in_leaf=11.1; min_split_gain=0.0179 : y = 0.926 : 48.9 secs : initdesign\n",
      "\n",
      "[mbo] 0: num_iterations=1656; learning_rate=0.0231; feature_fraction=0.423; num_leaves=1412; min_data_in_leaf=5835; max_depth=8; min_sum_hessian_in_leaf=2.37; min_split_gain=0.00663 : y = 0.926 : 76.8 secs : initdesign\n",
      "\n",
      "[mbo] 0: num_iterations=1502; learning_rate=0.143; feature_fraction=0.45; num_leaves=2016; min_data_in_leaf=3089; max_depth=4; min_sum_hessian_in_leaf=0.00766; min_split_gain=0.0196 : y = 0.926 : 70.2 secs : initdesign\n",
      "\n",
      "[mbo] 0: num_iterations=505; learning_rate=0.0549; feature_fraction=0.89; num_leaves=1018; min_data_in_leaf=6578; max_depth=3; min_sum_hessian_in_leaf=20.4; min_split_gain=0.0161 : y = 0.925 : 10.9 secs : initdesign\n",
      "\n",
      "[mbo] 0: num_iterations=1897; learning_rate=0.244; feature_fraction=0.681; num_leaves=124; min_data_in_leaf=2610; max_depth=7; min_sum_hessian_in_leaf=0.389; min_split_gain=0.00559 : y = 0.925 : 58.0 secs : initdesign\n",
      "\n",
      "[mbo] 0: num_iterations=81; learning_rate=0.0418; feature_fraction=0.272; num_leaves=391; min_data_in_leaf=6885; max_depth=10; min_sum_hessian_in_leaf=15.2; min_split_gain=0.0168 : y = 0.913 : 3.9 secs : initdesign\n",
      "\n",
      "[mbo] 0: num_iterations=1170; learning_rate=0.261; feature_fraction=0.918; num_leaves=488; min_data_in_leaf=3890; max_depth=11; min_sum_hessian_in_leaf=2.93; min_split_gain=0.0189 : y = 0.925 : 34.1 secs : initdesign\n",
      "\n",
      "[mbo] 0: num_iterations=1971; learning_rate=0.109; feature_fraction=0.214; num_leaves=1320; min_data_in_leaf=1477; max_depth=10; min_sum_hessian_in_leaf=0.0499; min_split_gain=0.00509 : y = 0.927 : 95.2 secs : initdesign\n",
      "\n",
      "[mbo] 0: num_iterations=1248; learning_rate=0.0148; feature_fraction=0.304; num_leaves=1102; min_data_in_leaf=7228; max_depth=5; min_sum_hessian_in_leaf=0.00183; min_split_gain=0.0101 : y = 0.924 : 51.3 secs : initdesign\n",
      "\n",
      "[mbo] 0: num_iterations=1147; learning_rate=0.268; feature_fraction=0.718; num_leaves=1838; min_data_in_leaf=7955; max_depth=12; min_sum_hessian_in_leaf=0.00258; min_split_gain=0.00397 : y = 0.923 : 26.8 secs : initdesign\n",
      "\n",
      "[mbo] 0: num_iterations=198; learning_rate=0.284; feature_fraction=0.592; num_leaves=1772; min_data_in_leaf=4883; max_depth=6; min_sum_hessian_in_leaf=35.2; min_split_gain=0.0113 : y = 0.923 : 8.9 secs : initdesign\n",
      "\n",
      "[mbo] 0: num_iterations=321; learning_rate=0.217; feature_fraction=0.79; num_leaves=1964; min_data_in_leaf=126; max_depth=4; min_sum_hessian_in_leaf=0.00969; min_split_gain=0.00799 : y = 0.925 : 7.9 secs : initdesign\n",
      "\n",
      "[mbo] 0: num_iterations=921; learning_rate=0.115; feature_fraction=0.553; num_leaves=1085; min_data_in_leaf=432; max_depth=5; min_sum_hessian_in_leaf=1.22; min_split_gain=0.0186 : y = 0.929 : 42.3 secs : initdesign\n",
      "\n",
      "[mbo] 0: num_iterations=2043; learning_rate=0.029; feature_fraction=0.752; num_leaves=1875; min_data_in_leaf=7410; max_depth=12; min_sum_hessian_in_leaf=62.3; min_split_gain=0.0137 : y = 0.924 : 49.9 secs : initdesign\n",
      "\n",
      "[mbo] 0: num_iterations=253; learning_rate=0.299; feature_fraction=0.132; num_leaves=736; min_data_in_leaf=1818; max_depth=3; min_sum_hessian_in_leaf=0.198; min_split_gain=0.00333 : y = 0.923 : 8.8 secs : initdesign\n",
      "\n",
      "[mbo] 0: num_iterations=610; learning_rate=0.0942; feature_fraction=0.376; num_leaves=67; min_data_in_leaf=2331; max_depth=11; min_sum_hessian_in_leaf=0.00366; min_split_gain=0.00185 : y = 0.927 : 30.2 secs : initdesign\n",
      "\n",
      "[mbo] 0: num_iterations=1686; learning_rate=0.177; feature_fraction=0.952; num_leaves=1260; min_data_in_leaf=4497; max_depth=3; min_sum_hessian_in_leaf=0.00474; min_split_gain=0.0107 : y = 0.925 : 35.2 secs : initdesign\n",
      "\n",
      "[mbo] 0: num_iterations=548; learning_rate=0.149; feature_fraction=0.821; num_leaves=288; min_data_in_leaf=2066; max_depth=4; min_sum_hessian_in_leaf=78.1; min_split_gain=0.00243 : y = 0.926 : 12.2 secs : initdesign\n",
      "\n",
      "[mbo] 0: num_iterations=14; learning_rate=0.0721; feature_fraction=0.981; num_leaves=921; min_data_in_leaf=644; max_depth=12; min_sum_hessian_in_leaf=0.0195; min_split_gain=0.0156 : y = 0.916 : 1.1 secs : initdesign\n",
      "\n",
      "[mbo] 0: num_iterations=1543; learning_rate=0.276; feature_fraction=0.724; num_leaves=1634; min_data_in_leaf=929; max_depth=12; min_sum_hessian_in_leaf=0.825; min_split_gain=0.00137 : y = 0.923 : 59.1 secs : initdesign\n",
      "\n",
      "[mbo] 0: num_iterations=813; learning_rate=0.188; feature_fraction=0.168; num_leaves=708; min_data_in_leaf=6264; max_depth=9; min_sum_hessian_in_leaf=0.129; min_split_gain=0.0149 : y = 0.923 : 30.3 secs : initdesign\n",
      "\n",
      "Saved the current state after iteration 1 in the file bayesiana.RDATA.\n",
      "\n",
      "Wed Sep 24 00:36:55 2025 AUC 0.929081845103275\n",
      "\n",
      "[mbo] 1: num_iterations=1029; learning_rate=0.124; feature_fraction=0.833; num_leaves=939; min_data_in_leaf=6; max_depth=4; min_sum_hessian_in_leaf=5.65; min_split_gain=0.0187 : y = 0.929 : 23.6 secs : infill_ei\n",
      "\n",
      "Wed Sep 24 00:37:43 2025 AUC 0.92838245063694\n",
      "\n",
      "[mbo] 2: num_iterations=1858; learning_rate=0.119; feature_fraction=0.728; num_leaves=637; min_data_in_leaf=58; max_depth=5; min_sum_hessian_in_leaf=3.27; min_split_gain=0.0181 : y = 0.928 : 47.4 secs : infill_ei\n",
      "\n",
      "Wed Sep 24 00:38:07 2025 AUC 0.927383397970229\n",
      "\n",
      "[mbo] 3: num_iterations=1084; learning_rate=0.104; feature_fraction=0.708; num_leaves=1423; min_data_in_leaf=311; max_depth=3; min_sum_hessian_in_leaf=88.3; min_split_gain=0.0188 : y = 0.927 : 22.7 secs : infill_ei\n",
      "\n",
      "Wed Sep 24 00:38:35 2025 AUC 0.92806090921\n",
      "\n",
      "[mbo] 4: num_iterations=1012; learning_rate=0.132; feature_fraction=0.988; num_leaves=881; min_data_in_leaf=473; max_depth=5; min_sum_hessian_in_leaf=0.326; min_split_gain=0.0183 : y = 0.928 : 27.2 secs : infill_ei\n",
      "\n",
      "Wed Sep 24 00:38:57 2025 AUC 0.92635094914567\n",
      "\n",
      "[mbo] 5: num_iterations=858; learning_rate=0.233; feature_fraction=0.642; num_leaves=552; min_data_in_leaf=11; max_depth=4; min_sum_hessian_in_leaf=4.89; min_split_gain=0.0197 : y = 0.926 : 20.8 secs : infill_ei\n",
      "\n",
      "Wed Sep 24 00:39:52 2025 AUC 0.925382386190662\n",
      "\n",
      "[mbo] 6: num_iterations=1941; learning_rate=0.108; feature_fraction=0.8; num_leaves=128; min_data_in_leaf=3727; max_depth=8; min_sum_hessian_in_leaf=0.0174; min_split_gain=0.00265 : y = 0.925 : 55.0 secs : infill_ei\n",
      "\n",
      "Wed Sep 24 00:40:22 2025 AUC 0.928079954845261\n",
      "\n",
      "[mbo] 7: num_iterations=1405; learning_rate=0.0933; feature_fraction=0.68; num_leaves=718; min_data_in_leaf=2; max_depth=3; min_sum_hessian_in_leaf=2.91; min_split_gain=0.0152 : y = 0.928 : 28.5 secs : infill_ei\n",
      "\n",
      "Wed Sep 24 00:41:02 2025 AUC 0.930333320013979\n",
      "\n",
      "[mbo] 8: num_iterations=1021; learning_rate=0.0644; feature_fraction=0.301; num_leaves=897; min_data_in_leaf=13; max_depth=3; min_sum_hessian_in_leaf=1.7; min_split_gain=0.0183 : y = 0.93 : 39.1 secs : infill_ei\n",
      "\n",
      "Wed Sep 24 00:41:49 2025 AUC 0.929332235224717\n",
      "\n",
      "[mbo] 9: num_iterations=1241; learning_rate=0.0545; feature_fraction=0.24; num_leaves=926; min_data_in_leaf=2; max_depth=3; min_sum_hessian_in_leaf=1.51; min_split_gain=0.0197 : y = 0.929 : 46.4 secs : infill_ei\n",
      "\n",
      "Wed Sep 24 00:42:33 2025 AUC 0.928487446105586\n",
      "\n",
      "[mbo] 10: num_iterations=1013; learning_rate=0.0159; feature_fraction=0.487; num_leaves=501; min_data_in_leaf=61; max_depth=3; min_sum_hessian_in_leaf=3.36; min_split_gain=0.0187 : y = 0.928 : 43.0 secs : infill_ei\n",
      "\n",
      "Wed Sep 24 00:43:13 2025 AUC 0.929608072323554\n",
      "\n",
      "[mbo] 11: num_iterations=1018; learning_rate=0.0824; feature_fraction=0.248; num_leaves=865; min_data_in_leaf=8; max_depth=3; min_sum_hessian_in_leaf=0.00728; min_split_gain=0.0152 : y = 0.93 : 38.4 secs : infill_ei\n",
      "\n",
      "Wed Sep 24 00:43:42 2025 AUC 0.929403490688505\n",
      "\n",
      "[mbo] 12: num_iterations=853; learning_rate=0.0958; feature_fraction=0.134; num_leaves=748; min_data_in_leaf=26; max_depth=3; min_sum_hessian_in_leaf=1.08; min_split_gain=0.0184 : y = 0.929 : 28.6 secs : infill_ei\n",
      "\n",
      "Wed Sep 24 00:44:29 2025 AUC 0.929099976207701\n",
      "\n",
      "[mbo] 13: num_iterations=1019; learning_rate=0.0732; feature_fraction=0.442; num_leaves=96; min_data_in_leaf=8; max_depth=4; min_sum_hessian_in_leaf=0.0451; min_split_gain=0.0183 : y = 0.929 : 45.3 secs : infill_ei\n",
      "\n",
      "Wed Sep 24 00:45:10 2025 AUC 0.929654166797532\n",
      "\n",
      "[mbo] 14: num_iterations=930; learning_rate=0.0659; feature_fraction=0.49; num_leaves=986; min_data_in_leaf=1; max_depth=3; min_sum_hessian_in_leaf=0.00668; min_split_gain=0.0179 : y = 0.93 : 40.4 secs : infill_ei\n",
      "\n",
      "Wed Sep 24 00:45:40 2025 AUC 0.929455182951122\n",
      "\n",
      "[mbo] 15: num_iterations=705; learning_rate=0.073; feature_fraction=0.53; num_leaves=667; min_data_in_leaf=1; max_depth=3; min_sum_hessian_in_leaf=0.0111; min_split_gain=0.00792 : y = 0.929 : 29.3 secs : infill_ei\n",
      "\n",
      "Wed Sep 24 00:46:04 2025 AUC 0.928675065299163\n",
      "\n",
      "[mbo] 16: num_iterations=872; learning_rate=0.0856; feature_fraction=0.609; num_leaves=44; min_data_in_leaf=10; max_depth=3; min_sum_hessian_in_leaf=0.241; min_split_gain=0.00949 : y = 0.929 : 22.7 secs : infill_ei\n",
      "\n",
      "Wed Sep 24 00:46:40 2025 AUC 0.93074246799279\n",
      "\n",
      "[mbo] 17: num_iterations=824; learning_rate=0.0656; feature_fraction=0.334; num_leaves=935; min_data_in_leaf=67; max_depth=4; min_sum_hessian_in_leaf=1.43; min_split_gain=0.0112 : y = 0.931 : 35.1 secs : infill_ei\n",
      "\n",
      "Saved the current state after iteration 18 in the file bayesiana.RDATA.\n",
      "\n",
      "Wed Sep 24 00:47:25 2025 AUC 0.929371214279476\n",
      "\n",
      "[mbo] 18: num_iterations=970; learning_rate=0.0613; feature_fraction=0.268; num_leaves=1363; min_data_in_leaf=2; max_depth=4; min_sum_hessian_in_leaf=0.492; min_split_gain=0.0091 : y = 0.929 : 38.2 secs : infill_ei\n",
      "\n",
      "Wed Sep 24 00:48:04 2025 AUC 0.928914611922616\n",
      "\n",
      "[mbo] 19: num_iterations=891; learning_rate=0.0631; feature_fraction=0.365; num_leaves=823; min_data_in_leaf=5; max_depth=4; min_sum_hessian_in_leaf=0.103; min_split_gain=0.0129 : y = 0.929 : 38.1 secs : infill_ei\n",
      "\n",
      "Wed Sep 24 00:48:32 2025 AUC 0.929448854709118\n",
      "\n",
      "[mbo] 20: num_iterations=703; learning_rate=0.0715; feature_fraction=0.311; num_leaves=1496; min_data_in_leaf=418; max_depth=3; min_sum_hessian_in_leaf=2.75; min_split_gain=0.0102 : y = 0.929 : 27.8 secs : infill_ei\n",
      "\n",
      "Wed Sep 24 00:49:06 2025 AUC 0.929689685509175\n",
      "\n",
      "[mbo] 21: num_iterations=794; learning_rate=0.0688; feature_fraction=0.346; num_leaves=1075; min_data_in_leaf=54; max_depth=3; min_sum_hessian_in_leaf=2.1; min_split_gain=0.00674 : y = 0.93 : 32.2 secs : infill_ei\n",
      "\n",
      "Wed Sep 24 00:49:34 2025 AUC 0.92888519033848\n",
      "\n",
      "[mbo] 22: num_iterations=674; learning_rate=0.102; feature_fraction=0.32; num_leaves=808; min_data_in_leaf=68; max_depth=4; min_sum_hessian_in_leaf=1.66; min_split_gain=0.0103 : y = 0.929 : 27.5 secs : infill_ei\n",
      "\n",
      "Wed Sep 24 00:49:53 2025 AUC 0.929845254892592\n",
      "\n",
      "[mbo] 23: num_iterations=807; learning_rate=0.0563; feature_fraction=0.708; num_leaves=994; min_data_in_leaf=507; max_depth=4; min_sum_hessian_in_leaf=4.16; min_split_gain=0.0102 : y = 0.93 : 17.9 secs : infill_ei\n",
      "\n",
      "Wed Sep 24 00:50:51 2025 AUC 0.929333699954163\n",
      "\n",
      "[mbo] 24: num_iterations=1726; learning_rate=0.0761; feature_fraction=0.115; num_leaves=797; min_data_in_leaf=7; max_depth=3; min_sum_hessian_in_leaf=0.00166; min_split_gain=0.0179 : y = 0.929 : 56.3 secs : infill_ei\n",
      "\n",
      "Wed Sep 24 00:51:29 2025 AUC 0.928111719937225\n",
      "\n",
      "[mbo] 25: num_iterations=847; learning_rate=0.0419; feature_fraction=0.513; num_leaves=632; min_data_in_leaf=968; max_depth=3; min_sum_hessian_in_leaf=4.49; min_split_gain=0.0112 : y = 0.928 : 37.2 secs : infill_ei\n",
      "\n",
      "Wed Sep 24 00:51:57 2025 AUC 0.929965322893845\n",
      "\n",
      "[mbo] 26: num_iterations=825; learning_rate=0.0614; feature_fraction=0.106; num_leaves=1717; min_data_in_leaf=8; max_depth=4; min_sum_hessian_in_leaf=3.74; min_split_gain=0.0175 : y = 0.93 : 27.6 secs : infill_ei\n",
      "\n",
      "Wed Sep 24 00:52:37 2025 AUC 0.928324518427352\n",
      "\n",
      "[mbo] 27: num_iterations=854; learning_rate=0.0706; feature_fraction=0.531; num_leaves=843; min_data_in_leaf=10; max_depth=4; min_sum_hessian_in_leaf=2.05; min_split_gain=0.0186 : y = 0.928 : 38.6 secs : infill_ei\n",
      "\n",
      "Wed Sep 24 00:53:05 2025 AUC 0.930167818228758\n",
      "\n",
      "[mbo] 28: num_iterations=820; learning_rate=0.0453; feature_fraction=0.146; num_leaves=1086; min_data_in_leaf=4; max_depth=3; min_sum_hessian_in_leaf=1.63; min_split_gain=0.011 : y = 0.93 : 27.4 secs : infill_ei\n",
      "\n",
      "Wed Sep 24 00:53:41 2025 AUC 0.928664662965863\n",
      "\n",
      "[mbo] 29: num_iterations=809; learning_rate=0.0953; feature_fraction=0.249; num_leaves=1197; min_data_in_leaf=52; max_depth=5; min_sum_hessian_in_leaf=0.00513; min_split_gain=0.0109 : y = 0.929 : 34.0 secs : infill_ei\n",
      "\n",
      "Wed Sep 24 00:54:27 2025 AUC 0.929116684505493\n",
      "\n",
      "[mbo] 30: num_iterations=1358; learning_rate=0.0428; feature_fraction=0.122; num_leaves=1107; min_data_in_leaf=59; max_depth=3; min_sum_hessian_in_leaf=0.743; min_split_gain=0.0171 : y = 0.929 : 44.9 secs : infill_ei\n",
      "\n",
      "Saved the final state in the file bayesiana.RDATA\n",
      "\n"
     ]
    }
   ],
   "source": [
    "# inicio la optimizacion bayesiana, retomando si ya existe\n",
    "# es la celda mas lenta de todo el notebook\n",
    "\n",
    "if (!file.exists(kbayesiana)) {\n",
    "  bayesiana_salida <- mbo(obj.fun, learner= surr.km, control= ctrl)\n",
    "} else {\n",
    "  bayesiana_salida <- mboContinue(kbayesiana) # retomo en caso que ya exista\n",
    "}"
   ]
  },
  {
   "cell_type": "code",
   "execution_count": 52,
   "metadata": {
    "id": "ssk5nnMk6INK"
   },
   "outputs": [
    {
     "data": {
      "text/html": [
       "<style>\n",
       ".list-inline {list-style: none; margin:0; padding: 0}\n",
       ".list-inline>li {display: inline-block}\n",
       ".list-inline>li:not(:last-child)::after {content: \"\\00b7\"; padding: 0 .5ex}\n",
       "</style>\n",
       "<ol class=list-inline><li>'num_iterations'</li><li>'learning_rate'</li><li>'feature_fraction'</li><li>'num_leaves'</li><li>'min_data_in_leaf'</li><li>'max_depth'</li><li>'min_sum_hessian_in_leaf'</li><li>'min_split_gain'</li><li>'y'</li><li>'dob'</li><li>'eol'</li><li>'error.message'</li><li>'exec.time'</li><li>'ei'</li><li>'error.model'</li><li>'train.time'</li><li>'prop.type'</li><li>'propose.time'</li><li>'se'</li><li>'mean'</li></ol>\n"
      ],
      "text/latex": [
       "\\begin{enumerate*}\n",
       "\\item 'num\\_iterations'\n",
       "\\item 'learning\\_rate'\n",
       "\\item 'feature\\_fraction'\n",
       "\\item 'num\\_leaves'\n",
       "\\item 'min\\_data\\_in\\_leaf'\n",
       "\\item 'max\\_depth'\n",
       "\\item 'min\\_sum\\_hessian\\_in\\_leaf'\n",
       "\\item 'min\\_split\\_gain'\n",
       "\\item 'y'\n",
       "\\item 'dob'\n",
       "\\item 'eol'\n",
       "\\item 'error.message'\n",
       "\\item 'exec.time'\n",
       "\\item 'ei'\n",
       "\\item 'error.model'\n",
       "\\item 'train.time'\n",
       "\\item 'prop.type'\n",
       "\\item 'propose.time'\n",
       "\\item 'se'\n",
       "\\item 'mean'\n",
       "\\end{enumerate*}\n"
      ],
      "text/markdown": [
       "1. 'num_iterations'\n",
       "2. 'learning_rate'\n",
       "3. 'feature_fraction'\n",
       "4. 'num_leaves'\n",
       "5. 'min_data_in_leaf'\n",
       "6. 'max_depth'\n",
       "7. 'min_sum_hessian_in_leaf'\n",
       "8. 'min_split_gain'\n",
       "9. 'y'\n",
       "10. 'dob'\n",
       "11. 'eol'\n",
       "12. 'error.message'\n",
       "13. 'exec.time'\n",
       "14. 'ei'\n",
       "15. 'error.model'\n",
       "16. 'train.time'\n",
       "17. 'prop.type'\n",
       "18. 'propose.time'\n",
       "19. 'se'\n",
       "20. 'mean'\n",
       "\n",
       "\n"
      ],
      "text/plain": [
       " [1] \"num_iterations\"          \"learning_rate\"          \n",
       " [3] \"feature_fraction\"        \"num_leaves\"             \n",
       " [5] \"min_data_in_leaf\"        \"max_depth\"              \n",
       " [7] \"min_sum_hessian_in_leaf\" \"min_split_gain\"         \n",
       " [9] \"y\"                       \"dob\"                    \n",
       "[11] \"eol\"                     \"error.message\"          \n",
       "[13] \"exec.time\"               \"ei\"                     \n",
       "[15] \"error.model\"             \"train.time\"             \n",
       "[17] \"prop.type\"               \"propose.time\"           \n",
       "[19] \"se\"                      \"mean\"                   "
      ]
     },
     "metadata": {},
     "output_type": "display_data"
    }
   ],
   "source": [
    "\n",
    "tb_bayesiana <- as.data.table(bayesiana_salida$opt.path)\n",
    "colnames( tb_bayesiana)"
   ]
  },
  {
   "cell_type": "code",
   "execution_count": 53,
   "metadata": {
    "id": "u4zq-vknhjGc"
   },
   "outputs": [],
   "source": [
    "# almaceno los resultados de la Bayesian Optimization\n",
    "# y capturo los mejores hiperparametros encontrados\n",
    "\n",
    "tb_bayesiana <- as.data.table(bayesiana_salida$opt.path)\n",
    "\n",
    "tb_bayesiana[, iter := .I]\n",
    "\n",
    "# ordeno en forma descendente por AUC = y\n",
    "setorder(tb_bayesiana, -y)\n",
    "\n",
    "# grabo para eventualmente poder utilizarlos en OTRA corrida\n",
    "fwrite( tb_bayesiana,\n",
    "  file= \"BO_log.txt\",\n",
    "  sep= \"\\t\"\n",
    ")\n",
    "\n",
    "# los mejores hiperparámetros son los que quedaron en el registro 1 de la tabla\n",
    "PARAM$out$lgbm$mejores_hiperparametros <- tb_bayesiana[\n",
    "  1, # el primero es el de mejor AUC\n",
    "  setdiff(colnames(tb_bayesiana),\n",
    "    c(\"y\",\"dob\",\"eol\",\"error.message\",\"exec.time\",\"ei\",\"error.model\",\n",
    "      \"train.time\",\"prop.type\",\"propose.time\",\"se\",\"mean\",\"iter\")),\n",
    "  with= FALSE\n",
    "]\n",
    "\n",
    "\n",
    "PARAM$out$lgbm$y <- tb_bayesiana[1, y]\n"
   ]
  },
  {
   "cell_type": "code",
   "execution_count": 54,
   "metadata": {
    "id": "E8v2eA427N8e"
   },
   "outputs": [],
   "source": [
    "write_yaml( PARAM, file=\"PARAM.yml\")"
   ]
  },
  {
   "cell_type": "code",
   "execution_count": 55,
   "metadata": {
    "id": "iBTWexVU7PGC"
   },
   "outputs": [
    {
     "name": "stdout",
     "output_type": "stream",
     "text": [
      "   num_iterations learning_rate feature_fraction num_leaves min_data_in_leaf\n",
      "            <int>         <num>            <num>      <int>            <int>\n",
      "1:            824    0.06560824         0.334422        935               67\n",
      "   max_depth min_sum_hessian_in_leaf min_split_gain\n",
      "       <int>                   <num>          <num>\n",
      "1:         4               0.1547222      0.0112261\n",
      "[1] 0.9307425\n"
     ]
    }
   ],
   "source": [
    "print(PARAM$out$lgbm$mejores_hiperparametros)\n",
    "print(PARAM$out$lgbm$y)"
   ]
  },
  {
   "cell_type": "markdown",
   "metadata": {
    "id": "TKsVZmAnhwX-"
   },
   "source": [
    "## 2.3  Produccion"
   ]
  },
  {
   "cell_type": "markdown",
   "metadata": {
    "id": "RQ_C33Tr5B_9"
   },
   "source": [
    "### Final Training\n",
    "Construyo el modelo final, que es uno solo, no hace ningun tipo de particion < training, validation, testing>]"
   ]
  },
  {
   "cell_type": "code",
   "execution_count": 56,
   "metadata": {
    "id": "eDqfyA14hzwv"
   },
   "outputs": [],
   "source": [
    "setwd(\"/content/buckets/b1/exp\")\n",
    "experimento <- paste0(\"exp\", PARAM$experimento)\n",
    "dir.create(experimento, showWarnings= FALSE)\n",
    "setwd( paste0(\"/content/buckets/b1/exp/\", experimento ))"
   ]
  },
  {
   "cell_type": "markdown",
   "metadata": {
    "id": "8qFmFivf5Iet"
   },
   "source": [
    "#### Final Training Dataset\n",
    "\n",
    "Aqui esta la gran decision de en qué meses hago el Final Training\n",
    "<br> debo utilizar los mejores hiperparámetros que encontré en la optimización bayesiana"
   ]
  },
  {
   "cell_type": "code",
   "execution_count": 57,
   "metadata": {
    "id": "lg5WVZncvc7H"
   },
   "outputs": [],
   "source": [
    "# clase01\n",
    "dataset[, clase01 := ifelse(clase_ternaria %in% c(\"BAJA+1\", \"BAJA+2\"), 1L, 0L)]"
   ]
  },
  {
   "cell_type": "code",
   "execution_count": 58,
   "metadata": {
    "id": "yc9QzXREv0xf"
   },
   "outputs": [],
   "source": [
    "dataset_train <- dataset[foto_mes %in% c(202107)]"
   ]
  },
  {
   "cell_type": "code",
   "execution_count": 59,
   "metadata": {
    "id": "thjdqEBLuvNt"
   },
   "outputs": [],
   "source": [
    "# dejo los datos en el formato que necesita LightGBM\n",
    "\n",
    "dtrain <- lgb.Dataset(\n",
    "  data= data.matrix(dataset_train[, campos_buenos, with= FALSE]),\n",
    "  label= dataset_train[, clase01]\n",
    ")"
   ]
  },
  {
   "cell_type": "markdown",
   "metadata": {
    "id": "VNUa-WSz5Oqu"
   },
   "source": [
    "#### Final Training Hyperparameters"
   ]
  },
  {
   "cell_type": "code",
   "execution_count": 60,
   "metadata": {
    "id": "FgCcvBfEwImu"
   },
   "outputs": [
    {
     "data": {
      "text/html": [
       "<dl>\n",
       "\t<dt>$boosting</dt>\n",
       "\t\t<dd>'gbdt'</dd>\n",
       "\t<dt>$objective</dt>\n",
       "\t\t<dd>'binary'</dd>\n",
       "\t<dt>$metric</dt>\n",
       "\t\t<dd>'auc'</dd>\n",
       "\t<dt>$first_metric_only</dt>\n",
       "\t\t<dd>FALSE</dd>\n",
       "\t<dt>$boost_from_average</dt>\n",
       "\t\t<dd>TRUE</dd>\n",
       "\t<dt>$feature_pre_filter</dt>\n",
       "\t\t<dd>FALSE</dd>\n",
       "\t<dt>$force_row_wise</dt>\n",
       "\t\t<dd>TRUE</dd>\n",
       "\t<dt>$verbosity</dt>\n",
       "\t\t<dd>-100</dd>\n",
       "\t<dt>$seed</dt>\n",
       "\t\t<dd>100613</dd>\n",
       "\t<dt>$max_depth</dt>\n",
       "\t\t<dd>4</dd>\n",
       "\t<dt>$min_gain_to_split</dt>\n",
       "\t\t<dd>0</dd>\n",
       "\t<dt>$min_sum_hessian_in_leaf</dt>\n",
       "\t\t<dd>0.154722208011944</dd>\n",
       "\t<dt>$lambda_l1</dt>\n",
       "\t\t<dd>0</dd>\n",
       "\t<dt>$lambda_l2</dt>\n",
       "\t\t<dd>0.73</dd>\n",
       "\t<dt>$max_bin</dt>\n",
       "\t\t<dd>31</dd>\n",
       "\t<dt>$bagging_fraction</dt>\n",
       "\t\t<dd>0.84</dd>\n",
       "\t<dt>$pos_bagging_fraction</dt>\n",
       "\t\t<dd>1</dd>\n",
       "\t<dt>$neg_bagging_fraction</dt>\n",
       "\t\t<dd>1</dd>\n",
       "\t<dt>$is_unbalance</dt>\n",
       "\t\t<dd>FALSE</dd>\n",
       "\t<dt>$scale_pos_weight</dt>\n",
       "\t\t<dd>1</dd>\n",
       "\t<dt>$drop_rate</dt>\n",
       "\t\t<dd>0.1</dd>\n",
       "\t<dt>$max_drop</dt>\n",
       "\t\t<dd>50</dd>\n",
       "\t<dt>$skip_drop</dt>\n",
       "\t\t<dd>0.5</dd>\n",
       "\t<dt>$extra_trees</dt>\n",
       "\t\t<dd>FALSE</dd>\n",
       "\t<dt>$num_iterations</dt>\n",
       "\t\t<dd>824</dd>\n",
       "\t<dt>$learning_rate</dt>\n",
       "\t\t<dd>0.0656082404447916</dd>\n",
       "\t<dt>$feature_fraction</dt>\n",
       "\t\t<dd>0.334421988169727</dd>\n",
       "\t<dt>$num_leaves</dt>\n",
       "\t\t<dd>935</dd>\n",
       "\t<dt>$min_data_in_leaf</dt>\n",
       "\t\t<dd>67</dd>\n",
       "\t<dt>$min_split_gain</dt>\n",
       "\t\t<dd>0.0112260958860255</dd>\n",
       "</dl>\n"
      ],
      "text/latex": [
       "\\begin{description}\n",
       "\\item[\\$boosting] 'gbdt'\n",
       "\\item[\\$objective] 'binary'\n",
       "\\item[\\$metric] 'auc'\n",
       "\\item[\\$first\\_metric\\_only] FALSE\n",
       "\\item[\\$boost\\_from\\_average] TRUE\n",
       "\\item[\\$feature\\_pre\\_filter] FALSE\n",
       "\\item[\\$force\\_row\\_wise] TRUE\n",
       "\\item[\\$verbosity] -100\n",
       "\\item[\\$seed] 100613\n",
       "\\item[\\$max\\_depth] 4\n",
       "\\item[\\$min\\_gain\\_to\\_split] 0\n",
       "\\item[\\$min\\_sum\\_hessian\\_in\\_leaf] 0.154722208011944\n",
       "\\item[\\$lambda\\_l1] 0\n",
       "\\item[\\$lambda\\_l2] 0.73\n",
       "\\item[\\$max\\_bin] 31\n",
       "\\item[\\$bagging\\_fraction] 0.84\n",
       "\\item[\\$pos\\_bagging\\_fraction] 1\n",
       "\\item[\\$neg\\_bagging\\_fraction] 1\n",
       "\\item[\\$is\\_unbalance] FALSE\n",
       "\\item[\\$scale\\_pos\\_weight] 1\n",
       "\\item[\\$drop\\_rate] 0.1\n",
       "\\item[\\$max\\_drop] 50\n",
       "\\item[\\$skip\\_drop] 0.5\n",
       "\\item[\\$extra\\_trees] FALSE\n",
       "\\item[\\$num\\_iterations] 824\n",
       "\\item[\\$learning\\_rate] 0.0656082404447916\n",
       "\\item[\\$feature\\_fraction] 0.334421988169727\n",
       "\\item[\\$num\\_leaves] 935\n",
       "\\item[\\$min\\_data\\_in\\_leaf] 67\n",
       "\\item[\\$min\\_split\\_gain] 0.0112260958860255\n",
       "\\end{description}\n"
      ],
      "text/markdown": [
       "$boosting\n",
       ":   'gbdt'\n",
       "$objective\n",
       ":   'binary'\n",
       "$metric\n",
       ":   'auc'\n",
       "$first_metric_only\n",
       ":   FALSE\n",
       "$boost_from_average\n",
       ":   TRUE\n",
       "$feature_pre_filter\n",
       ":   FALSE\n",
       "$force_row_wise\n",
       ":   TRUE\n",
       "$verbosity\n",
       ":   -100\n",
       "$seed\n",
       ":   100613\n",
       "$max_depth\n",
       ":   4\n",
       "$min_gain_to_split\n",
       ":   0\n",
       "$min_sum_hessian_in_leaf\n",
       ":   0.154722208011944\n",
       "$lambda_l1\n",
       ":   0\n",
       "$lambda_l2\n",
       ":   0.73\n",
       "$max_bin\n",
       ":   31\n",
       "$bagging_fraction\n",
       ":   0.84\n",
       "$pos_bagging_fraction\n",
       ":   1\n",
       "$neg_bagging_fraction\n",
       ":   1\n",
       "$is_unbalance\n",
       ":   FALSE\n",
       "$scale_pos_weight\n",
       ":   1\n",
       "$drop_rate\n",
       ":   0.1\n",
       "$max_drop\n",
       ":   50\n",
       "$skip_drop\n",
       ":   0.5\n",
       "$extra_trees\n",
       ":   FALSE\n",
       "$num_iterations\n",
       ":   824\n",
       "$learning_rate\n",
       ":   0.0656082404447916\n",
       "$feature_fraction\n",
       ":   0.334421988169727\n",
       "$num_leaves\n",
       ":   935\n",
       "$min_data_in_leaf\n",
       ":   67\n",
       "$min_split_gain\n",
       ":   0.0112260958860255\n",
       "\n",
       "\n"
      ],
      "text/plain": [
       "$boosting\n",
       "[1] \"gbdt\"\n",
       "\n",
       "$objective\n",
       "[1] \"binary\"\n",
       "\n",
       "$metric\n",
       "[1] \"auc\"\n",
       "\n",
       "$first_metric_only\n",
       "[1] FALSE\n",
       "\n",
       "$boost_from_average\n",
       "[1] TRUE\n",
       "\n",
       "$feature_pre_filter\n",
       "[1] FALSE\n",
       "\n",
       "$force_row_wise\n",
       "[1] TRUE\n",
       "\n",
       "$verbosity\n",
       "[1] -100\n",
       "\n",
       "$seed\n",
       "[1] 100613\n",
       "\n",
       "$max_depth\n",
       "[1] 4\n",
       "\n",
       "$min_gain_to_split\n",
       "[1] 0\n",
       "\n",
       "$min_sum_hessian_in_leaf\n",
       "[1] 0.1547222\n",
       "\n",
       "$lambda_l1\n",
       "[1] 0\n",
       "\n",
       "$lambda_l2\n",
       "[1] 0.73\n",
       "\n",
       "$max_bin\n",
       "[1] 31\n",
       "\n",
       "$bagging_fraction\n",
       "[1] 0.84\n",
       "\n",
       "$pos_bagging_fraction\n",
       "[1] 1\n",
       "\n",
       "$neg_bagging_fraction\n",
       "[1] 1\n",
       "\n",
       "$is_unbalance\n",
       "[1] FALSE\n",
       "\n",
       "$scale_pos_weight\n",
       "[1] 1\n",
       "\n",
       "$drop_rate\n",
       "[1] 0.1\n",
       "\n",
       "$max_drop\n",
       "[1] 50\n",
       "\n",
       "$skip_drop\n",
       "[1] 0.5\n",
       "\n",
       "$extra_trees\n",
       "[1] FALSE\n",
       "\n",
       "$num_iterations\n",
       "[1] 824\n",
       "\n",
       "$learning_rate\n",
       "[1] 0.06560824\n",
       "\n",
       "$feature_fraction\n",
       "[1] 0.334422\n",
       "\n",
       "$num_leaves\n",
       "[1] 935\n",
       "\n",
       "$min_data_in_leaf\n",
       "[1] 67\n",
       "\n",
       "$min_split_gain\n",
       "[1] 0.0112261\n"
      ]
     },
     "metadata": {},
     "output_type": "display_data"
    }
   ],
   "source": [
    "param_final <- modifyList(PARAM$lgbm$param_fijos,\n",
    "  PARAM$out$lgbm$mejores_hiperparametros)\n",
    "\n",
    "param_final"
   ]
  },
  {
   "cell_type": "markdown",
   "metadata": {
    "id": "TZIYn4l95TBH"
   },
   "source": [
    "#### Training\n",
    "Genero el modelo final, siempre sobre TODOS los datos de  final_train, sin hacer ningun tipo de undersampling de la clase mayoritaria"
   ]
  },
  {
   "cell_type": "code",
   "execution_count": 61,
   "metadata": {
    "id": "vPLsd4mMRe4u"
   },
   "outputs": [],
   "source": [
    "# este punto es muy SUTIL  y será revisado en la Clase 05\n",
    "\n",
    "param_normalizado <- copy(param_final)\n",
    "param_normalizado$min_data_in_leaf <-  round(param_final$min_data_in_leaf / PARAM$trainingstrategy$undersampling)"
   ]
  },
  {
   "cell_type": "code",
   "execution_count": 62,
   "metadata": {
    "id": "WRI_-taRwOXO"
   },
   "outputs": [],
   "source": [
    "  # entreno LightGBM\n",
    "\n",
    "  modelo_final <- lgb.train(\n",
    "    data= dtrain,\n",
    "    param= param_normalizado\n",
    "  )"
   ]
  },
  {
   "cell_type": "code",
   "execution_count": 63,
   "metadata": {
    "id": "_bkhnCvj0g3Q"
   },
   "outputs": [],
   "source": [
    "# ahora imprimo la importancia de variables\n",
    "\n",
    "tb_importancia <- as.data.table(lgb.importance(modelo_final))\n",
    "archivo_importancia <- \"impo.txt\"\n",
    "\n",
    "fwrite(tb_importancia,\n",
    "  file= archivo_importancia,\n",
    "  sep= \"\\t\"\n",
    ")"
   ]
  },
  {
   "cell_type": "code",
   "execution_count": 64,
   "metadata": {
    "id": "lZ3sLmbh0kFj"
   },
   "outputs": [],
   "source": [
    "# grabo a disco el modelo en un formato para seres humanos ... ponele ...\n",
    "\n",
    "lgb.save(modelo_final, \"modelo.txt\" )"
   ]
  },
  {
   "cell_type": "markdown",
   "metadata": {
    "id": "VEtp2--t5Ymg"
   },
   "source": [
    "### Scoring"
   ]
  },
  {
   "cell_type": "markdown",
   "metadata": {
    "id": "hI5008Mj5ZdI"
   },
   "source": [
    "Aplico el modelo final a los datos del futuro"
   ]
  },
  {
   "cell_type": "code",
   "execution_count": 65,
   "metadata": {
    "id": "PimBY3N_0ryP"
   },
   "outputs": [],
   "source": [
    "# aplico el modelo a los datos sin clase\n",
    "dfuture <- dataset[foto_mes == 202109]\n",
    "\n",
    "# aplico el modelo a los datos nuevos\n",
    "prediccion <- predict(\n",
    "  modelo_final,\n",
    "  data.matrix(dfuture[, campos_buenos, with= FALSE])\n",
    ")"
   ]
  },
  {
   "cell_type": "markdown",
   "metadata": {
    "id": "D26rNRh55gpw"
   },
   "source": [
    "#### Tabla Prediccion"
   ]
  },
  {
   "cell_type": "code",
   "execution_count": 66,
   "metadata": {
    "id": "RJwg7LHd11yu"
   },
   "outputs": [],
   "source": [
    "# tabla de prediccion\n",
    "\n",
    "tb_prediccion <- dfuture[, list(numero_de_cliente)]\n",
    "tb_prediccion[, prob := prediccion ]\n",
    "\n",
    "# grabo las probabilidad del modelo\n",
    "fwrite(tb_prediccion,\n",
    "  file= \"prediccion.txt\",\n",
    "  sep= \"\\t\"\n",
    ")"
   ]
  },
  {
   "cell_type": "markdown",
   "metadata": {
    "id": "jOt4eG_55ltv"
   },
   "source": [
    "Kaggle Competition Submit"
   ]
  },
  {
   "cell_type": "code",
   "execution_count": 67,
   "metadata": {
    "id": "gWW3tatE12je"
   },
   "outputs": [
    {
     "name": "stdout",
     "output_type": "stream",
     "text": [
      "Successfully submitted to LaboI 2025 BA analista sr \n",
      "Successfully submitted to LaboI 2025 BA analista sr \n",
      "Successfully submitted to LaboI 2025 BA analista sr \n",
      "Successfully submitted to LaboI 2025 BA analista sr \n",
      "Successfully submitted to LaboI 2025 BA analista sr \n"
     ]
    }
   ],
   "source": [
    "# genero archivos con los  \"envios\" mejores\n",
    "# suba TODOS los archivos a Kaggle\n",
    "\n",
    "# ordeno por probabilidad descendente\n",
    "setorder(tb_prediccion, -prob)\n",
    "\n",
    "dir.create(\"kaggle\")\n",
    "\n",
    "for (envios in PARAM$kaggle$cortes) {\n",
    "\n",
    "  tb_prediccion[, Predicted := 0L] # seteo inicial a 0\n",
    "  tb_prediccion[1:envios, Predicted := 1L] # marclo los primeros\n",
    "\n",
    "  archivo_kaggle <- paste0(\"./kaggle/KA\", PARAM$experimento, \"_\", envios, \".csv\")\n",
    "\n",
    "  # grabo el archivo\n",
    "  fwrite(tb_prediccion[, list(numero_de_cliente, Predicted)],\n",
    "    file= archivo_kaggle,\n",
    "    sep= \",\"\n",
    "  )\n",
    "\n",
    "  # subida a Kaggle, armo la linea de comando\n",
    "  comando <- \"kaggle competitions submit\"\n",
    "  competencia <- paste(\"-c\", PARAM$kaggle$competencia)\n",
    "  arch <- paste( \"-f\", archivo_kaggle)\n",
    "\n",
    "  mensaje <- paste0(\"-m 'envios=\", envios,\n",
    "  \"  semilla=\", PARAM$semilla_primigenia,\n",
    "    \"'\" )\n",
    "\n",
    "  linea <- paste( comando, competencia, arch, mensaje)\n",
    "\n",
    "  salida <- system(linea, intern=TRUE) # el submit a Kaggle\n",
    "  cat(salida, \"\\n\")\n",
    "  Sys.sleep(45)\n",
    "}"
   ]
  },
  {
   "cell_type": "code",
   "execution_count": 68,
   "metadata": {
    "id": "B9tB2X4439Hg"
   },
   "outputs": [],
   "source": [
    "write_yaml( PARAM, file=\"PARAM.yml\")"
   ]
  },
  {
   "cell_type": "code",
   "execution_count": 69,
   "metadata": {
    "id": "9zA_W25c15DP"
   },
   "outputs": [
    {
     "data": {
      "text/html": [
       "'Wed Sep 24 00:59:14 2025'"
      ],
      "text/latex": [
       "'Wed Sep 24 00:59:14 2025'"
      ],
      "text/markdown": [
       "'Wed Sep 24 00:59:14 2025'"
      ],
      "text/plain": [
       "[1] \"Wed Sep 24 00:59:14 2025\""
      ]
     },
     "metadata": {},
     "output_type": "display_data"
    }
   ],
   "source": [
    "format(Sys.time(), \"%a %b %d %X %Y\")"
   ]
  },
  {
   "cell_type": "markdown",
   "metadata": {
    "id": "UdVZucdLHzZ0"
   },
   "source": [
    "Finalmente usted deberá cargar el resultado de su corrida en la Google Sheet Colaborativa,  hoja **TareaHogar04**\n",
    "<br> Siéntase libre de agregar las columnas que hagan falta a la planilla"
   ]
  }
 ],
 "metadata": {
  "colab": {
   "provenance": []
  },
  "kernelspec": {
   "display_name": "R",
   "language": "R",
   "name": "ir"
  },
  "language_info": {
   "codemirror_mode": "r",
   "file_extension": ".r",
   "mimetype": "text/x-r-source",
   "name": "R",
   "pygments_lexer": "r",
   "version": "4.4.3"
  }
 },
 "nbformat": 4,
 "nbformat_minor": 4
}
